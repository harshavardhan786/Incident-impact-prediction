{
  "nbformat": 4,
  "nbformat_minor": 0,
  "metadata": {
    "colab": {
      "name": "Project-1.ipynb",
      "provenance": [],
      "collapsed_sections": []
    },
    "kernelspec": {
      "display_name": "Python 3",
      "name": "python3"
    },
    "language_info": {
      "name": "python"
    }
  },
  "cells": [
    {
      "cell_type": "markdown",
      "metadata": {
        "id": "gur481_4hG1l"
      },
      "source": [
        "# ![download (1).png](data:image/png;base64,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)"
      ]
    },
    {
      "cell_type": "markdown",
      "metadata": {
        "id": "ZW0E_To8fmad"
      },
      "source": [
        "#Team 2\n",
        "\n",
        "---\n",
        "\n",
        "\n",
        "####Members:\n",
        "\n",
        "---\n",
        "\n",
        "\n",
        "\n",
        "---\n",
        "\n",
        "\n",
        "* Harsha Vardhan\n",
        "* Gangadhar Reddy\n",
        "* Suresh Kanju\n",
        "* Sagar Nagpal"
      ]
    },
    {
      "cell_type": "markdown",
      "metadata": {
        "id": "GnLWlvHHfn7Q"
      },
      "source": [
        "##To Predict Impact\n",
        "\n",
        "---\n",
        "\n",
        "\n",
        "### Business Objective:\n",
        "\n",
        "---\n",
        "\n",
        "\n",
        "\n",
        "---\n",
        "\n",
        "\n",
        "######To predict the impact of the incident raised by the customer."
      ]
    },
    {
      "cell_type": "code",
      "metadata": {
        "id": "f2ENRbOSrc5g"
      },
      "source": [
        "import numpy as np\n",
        "import pandas as pd\n",
        "import matplotlib.pyplot as plt\n",
        "import seaborn as sns\n",
        "import warnings"
      ],
      "execution_count": null,
      "outputs": []
    },
    {
      "cell_type": "code",
      "metadata": {
        "colab": {
          "base_uri": "https://localhost:8080/"
        },
        "id": "bNYy8Sy2MUiZ",
        "outputId": "325edf47-8bc3-4df9-c30f-cff9a7118147"
      },
      "source": [
        "from google.colab import drive\n",
        "drive.mount('/content/drive')"
      ],
      "execution_count": null,
      "outputs": [
        {
          "output_type": "stream",
          "text": [
            "Drive already mounted at /content/drive; to attempt to forcibly remount, call drive.mount(\"/content/drive\", force_remount=True).\n"
          ],
          "name": "stdout"
        }
      ]
    },
    {
      "cell_type": "markdown",
      "metadata": {
        "id": "1QmIhciyjOmL"
      },
      "source": [
        "## Using \"incident_event_log.csv\""
      ]
    },
    {
      "cell_type": "code",
      "metadata": {
        "id": "r4ratIxitaVT"
      },
      "source": [
        "path = \"/content/drive/MyDrive/incident_event_log.csv\"\n",
        "data = pd.read_csv(path)"
      ],
      "execution_count": null,
      "outputs": []
    },
    {
      "cell_type": "code",
      "metadata": {
        "colab": {
          "base_uri": "https://localhost:8080/",
          "height": 301
        },
        "id": "VUR-zcbqi3o1",
        "outputId": "6bb25a5d-e4d2-4c27-ae9d-2b5f1ce599ea"
      },
      "source": [
        "data.head()"
      ],
      "execution_count": null,
      "outputs": [
        {
          "output_type": "execute_result",
          "data": {
            "text/html": [
              "<div>\n",
              "<style scoped>\n",
              "    .dataframe tbody tr th:only-of-type {\n",
              "        vertical-align: middle;\n",
              "    }\n",
              "\n",
              "    .dataframe tbody tr th {\n",
              "        vertical-align: top;\n",
              "    }\n",
              "\n",
              "    .dataframe thead th {\n",
              "        text-align: right;\n",
              "    }\n",
              "</style>\n",
              "<table border=\"1\" class=\"dataframe\">\n",
              "  <thead>\n",
              "    <tr style=\"text-align: right;\">\n",
              "      <th></th>\n",
              "      <th>number</th>\n",
              "      <th>incident_state</th>\n",
              "      <th>active</th>\n",
              "      <th>reassignment_count</th>\n",
              "      <th>reopen_count</th>\n",
              "      <th>sys_mod_count</th>\n",
              "      <th>made_sla</th>\n",
              "      <th>caller_id</th>\n",
              "      <th>opened_by</th>\n",
              "      <th>opened_at</th>\n",
              "      <th>sys_created_by</th>\n",
              "      <th>sys_created_at</th>\n",
              "      <th>sys_updated_by</th>\n",
              "      <th>sys_updated_at</th>\n",
              "      <th>contact_type</th>\n",
              "      <th>location</th>\n",
              "      <th>category</th>\n",
              "      <th>subcategory</th>\n",
              "      <th>u_symptom</th>\n",
              "      <th>cmdb_ci</th>\n",
              "      <th>impact</th>\n",
              "      <th>urgency</th>\n",
              "      <th>priority</th>\n",
              "      <th>assignment_group</th>\n",
              "      <th>assigned_to</th>\n",
              "      <th>knowledge</th>\n",
              "      <th>u_priority_confirmation</th>\n",
              "      <th>notify</th>\n",
              "      <th>problem_id</th>\n",
              "      <th>rfc</th>\n",
              "      <th>vendor</th>\n",
              "      <th>caused_by</th>\n",
              "      <th>closed_code</th>\n",
              "      <th>resolved_by</th>\n",
              "      <th>resolved_at</th>\n",
              "      <th>closed_at</th>\n",
              "    </tr>\n",
              "  </thead>\n",
              "  <tbody>\n",
              "    <tr>\n",
              "      <th>0</th>\n",
              "      <td>INC0000045</td>\n",
              "      <td>New</td>\n",
              "      <td>True</td>\n",
              "      <td>0</td>\n",
              "      <td>0</td>\n",
              "      <td>0</td>\n",
              "      <td>True</td>\n",
              "      <td>Caller 2403</td>\n",
              "      <td>Opened by  8</td>\n",
              "      <td>29/2/2016 01:16</td>\n",
              "      <td>Created by 6</td>\n",
              "      <td>29/2/2016 01:23</td>\n",
              "      <td>Updated by 21</td>\n",
              "      <td>29/2/2016 01:23</td>\n",
              "      <td>Phone</td>\n",
              "      <td>Location 143</td>\n",
              "      <td>Category 55</td>\n",
              "      <td>Subcategory 170</td>\n",
              "      <td>Symptom 72</td>\n",
              "      <td>?</td>\n",
              "      <td>2 - Medium</td>\n",
              "      <td>2 - Medium</td>\n",
              "      <td>3 - Moderate</td>\n",
              "      <td>Group 56</td>\n",
              "      <td>?</td>\n",
              "      <td>True</td>\n",
              "      <td>False</td>\n",
              "      <td>Do Not Notify</td>\n",
              "      <td>?</td>\n",
              "      <td>?</td>\n",
              "      <td>?</td>\n",
              "      <td>?</td>\n",
              "      <td>code 5</td>\n",
              "      <td>Resolved by 149</td>\n",
              "      <td>29/2/2016 11:29</td>\n",
              "      <td>5/3/2016 12:00</td>\n",
              "    </tr>\n",
              "    <tr>\n",
              "      <th>1</th>\n",
              "      <td>INC0000045</td>\n",
              "      <td>Resolved</td>\n",
              "      <td>True</td>\n",
              "      <td>0</td>\n",
              "      <td>0</td>\n",
              "      <td>2</td>\n",
              "      <td>True</td>\n",
              "      <td>Caller 2403</td>\n",
              "      <td>Opened by  8</td>\n",
              "      <td>29/2/2016 01:16</td>\n",
              "      <td>Created by 6</td>\n",
              "      <td>29/2/2016 01:23</td>\n",
              "      <td>Updated by 642</td>\n",
              "      <td>29/2/2016 08:53</td>\n",
              "      <td>Phone</td>\n",
              "      <td>Location 143</td>\n",
              "      <td>Category 55</td>\n",
              "      <td>Subcategory 170</td>\n",
              "      <td>Symptom 72</td>\n",
              "      <td>?</td>\n",
              "      <td>2 - Medium</td>\n",
              "      <td>2 - Medium</td>\n",
              "      <td>3 - Moderate</td>\n",
              "      <td>Group 56</td>\n",
              "      <td>?</td>\n",
              "      <td>True</td>\n",
              "      <td>False</td>\n",
              "      <td>Do Not Notify</td>\n",
              "      <td>?</td>\n",
              "      <td>?</td>\n",
              "      <td>?</td>\n",
              "      <td>?</td>\n",
              "      <td>code 5</td>\n",
              "      <td>Resolved by 149</td>\n",
              "      <td>29/2/2016 11:29</td>\n",
              "      <td>5/3/2016 12:00</td>\n",
              "    </tr>\n",
              "    <tr>\n",
              "      <th>2</th>\n",
              "      <td>INC0000045</td>\n",
              "      <td>Resolved</td>\n",
              "      <td>True</td>\n",
              "      <td>0</td>\n",
              "      <td>0</td>\n",
              "      <td>3</td>\n",
              "      <td>True</td>\n",
              "      <td>Caller 2403</td>\n",
              "      <td>Opened by  8</td>\n",
              "      <td>29/2/2016 01:16</td>\n",
              "      <td>Created by 6</td>\n",
              "      <td>29/2/2016 01:23</td>\n",
              "      <td>Updated by 804</td>\n",
              "      <td>29/2/2016 11:29</td>\n",
              "      <td>Phone</td>\n",
              "      <td>Location 143</td>\n",
              "      <td>Category 55</td>\n",
              "      <td>Subcategory 170</td>\n",
              "      <td>Symptom 72</td>\n",
              "      <td>?</td>\n",
              "      <td>2 - Medium</td>\n",
              "      <td>2 - Medium</td>\n",
              "      <td>3 - Moderate</td>\n",
              "      <td>Group 56</td>\n",
              "      <td>?</td>\n",
              "      <td>True</td>\n",
              "      <td>False</td>\n",
              "      <td>Do Not Notify</td>\n",
              "      <td>?</td>\n",
              "      <td>?</td>\n",
              "      <td>?</td>\n",
              "      <td>?</td>\n",
              "      <td>code 5</td>\n",
              "      <td>Resolved by 149</td>\n",
              "      <td>29/2/2016 11:29</td>\n",
              "      <td>5/3/2016 12:00</td>\n",
              "    </tr>\n",
              "    <tr>\n",
              "      <th>3</th>\n",
              "      <td>INC0000045</td>\n",
              "      <td>Closed</td>\n",
              "      <td>False</td>\n",
              "      <td>0</td>\n",
              "      <td>0</td>\n",
              "      <td>4</td>\n",
              "      <td>True</td>\n",
              "      <td>Caller 2403</td>\n",
              "      <td>Opened by  8</td>\n",
              "      <td>29/2/2016 01:16</td>\n",
              "      <td>Created by 6</td>\n",
              "      <td>29/2/2016 01:23</td>\n",
              "      <td>Updated by 908</td>\n",
              "      <td>5/3/2016 12:00</td>\n",
              "      <td>Phone</td>\n",
              "      <td>Location 143</td>\n",
              "      <td>Category 55</td>\n",
              "      <td>Subcategory 170</td>\n",
              "      <td>Symptom 72</td>\n",
              "      <td>?</td>\n",
              "      <td>2 - Medium</td>\n",
              "      <td>2 - Medium</td>\n",
              "      <td>3 - Moderate</td>\n",
              "      <td>Group 56</td>\n",
              "      <td>?</td>\n",
              "      <td>True</td>\n",
              "      <td>False</td>\n",
              "      <td>Do Not Notify</td>\n",
              "      <td>?</td>\n",
              "      <td>?</td>\n",
              "      <td>?</td>\n",
              "      <td>?</td>\n",
              "      <td>code 5</td>\n",
              "      <td>Resolved by 149</td>\n",
              "      <td>29/2/2016 11:29</td>\n",
              "      <td>5/3/2016 12:00</td>\n",
              "    </tr>\n",
              "    <tr>\n",
              "      <th>4</th>\n",
              "      <td>INC0000047</td>\n",
              "      <td>New</td>\n",
              "      <td>True</td>\n",
              "      <td>0</td>\n",
              "      <td>0</td>\n",
              "      <td>0</td>\n",
              "      <td>True</td>\n",
              "      <td>Caller 2403</td>\n",
              "      <td>Opened by  397</td>\n",
              "      <td>29/2/2016 04:40</td>\n",
              "      <td>Created by 171</td>\n",
              "      <td>29/2/2016 04:57</td>\n",
              "      <td>Updated by 746</td>\n",
              "      <td>29/2/2016 04:57</td>\n",
              "      <td>Phone</td>\n",
              "      <td>Location 165</td>\n",
              "      <td>Category 40</td>\n",
              "      <td>Subcategory 215</td>\n",
              "      <td>Symptom 471</td>\n",
              "      <td>?</td>\n",
              "      <td>2 - Medium</td>\n",
              "      <td>2 - Medium</td>\n",
              "      <td>3 - Moderate</td>\n",
              "      <td>Group 70</td>\n",
              "      <td>Resolver 89</td>\n",
              "      <td>True</td>\n",
              "      <td>False</td>\n",
              "      <td>Do Not Notify</td>\n",
              "      <td>?</td>\n",
              "      <td>?</td>\n",
              "      <td>?</td>\n",
              "      <td>?</td>\n",
              "      <td>code 5</td>\n",
              "      <td>Resolved by 81</td>\n",
              "      <td>1/3/2016 09:52</td>\n",
              "      <td>6/3/2016 10:00</td>\n",
              "    </tr>\n",
              "  </tbody>\n",
              "</table>\n",
              "</div>"
            ],
            "text/plain": [
              "       number incident_state  ...      resolved_at       closed_at\n",
              "0  INC0000045            New  ...  29/2/2016 11:29  5/3/2016 12:00\n",
              "1  INC0000045       Resolved  ...  29/2/2016 11:29  5/3/2016 12:00\n",
              "2  INC0000045       Resolved  ...  29/2/2016 11:29  5/3/2016 12:00\n",
              "3  INC0000045         Closed  ...  29/2/2016 11:29  5/3/2016 12:00\n",
              "4  INC0000047            New  ...   1/3/2016 09:52  6/3/2016 10:00\n",
              "\n",
              "[5 rows x 36 columns]"
            ]
          },
          "metadata": {
            "tags": []
          },
          "execution_count": 4
        }
      ]
    },
    {
      "cell_type": "code",
      "metadata": {
        "colab": {
          "base_uri": "https://localhost:8080/"
        },
        "id": "OgxfwJU6nVWn",
        "outputId": "58ed465f-ddfc-42eb-f89f-d0f8eeda93d3"
      },
      "source": [
        "data.shape"
      ],
      "execution_count": null,
      "outputs": [
        {
          "output_type": "execute_result",
          "data": {
            "text/plain": [
              "(141712, 36)"
            ]
          },
          "metadata": {
            "tags": []
          },
          "execution_count": 5
        }
      ]
    },
    {
      "cell_type": "markdown",
      "metadata": {
        "id": "aVYfNL0akV2c"
      },
      "source": [
        "# Exploratory Data Analysis-(EDA)"
      ]
    },
    {
      "cell_type": "code",
      "metadata": {
        "id": "XqOoOunfj9m_"
      },
      "source": [
        "# Finding unknown values and replacing it with null values.\n",
        "data.replace('?', np.nan, inplace=True)"
      ],
      "execution_count": null,
      "outputs": []
    },
    {
      "cell_type": "code",
      "metadata": {
        "id": "LM8w9UNukClp"
      },
      "source": [
        "warnings.filterwarnings(\"ignore\")"
      ],
      "execution_count": null,
      "outputs": []
    },
    {
      "cell_type": "markdown",
      "metadata": {
        "id": "LITWEBxfkwUA"
      },
      "source": [
        "#### Considering only those columns which are having less than 50,000 null values and droping those which are having more than 40% of null values in single row.\n"
      ]
    },
    {
      "cell_type": "code",
      "metadata": {
        "id": "zqLznDklkGsx"
      },
      "source": [
        "data=data[data.columns[data.isna().sum() < 50000]]"
      ],
      "execution_count": null,
      "outputs": []
    },
    {
      "cell_type": "markdown",
      "metadata": {
        "id": "5z4ukpeEoKbj"
      },
      "source": [
        "There are 29 features after eliminating the features which are having more than 50,000 null values.\n",
        "\n",
        "---\n",
        "\n",
        "\n",
        "40% * 29 == 11\n"
      ]
    },
    {
      "cell_type": "code",
      "metadata": {
        "id": "qzB_L6IjkIGQ"
      },
      "source": [
        "df = data[(data.isna().sum(axis=1) <11)]"
      ],
      "execution_count": null,
      "outputs": []
    },
    {
      "cell_type": "code",
      "metadata": {
        "colab": {
          "base_uri": "https://localhost:8080/"
        },
        "id": "M3b3VbO2kLHq",
        "outputId": "b8f4da14-5567-4500-fece-e5a6504c8aa2"
      },
      "source": [
        "column_names = df.columns\n",
        "column_names"
      ],
      "execution_count": null,
      "outputs": [
        {
          "output_type": "execute_result",
          "data": {
            "text/plain": [
              "Index(['number', 'incident_state', 'active', 'reassignment_count',\n",
              "       'reopen_count', 'sys_mod_count', 'made_sla', 'caller_id', 'opened_by',\n",
              "       'opened_at', 'sys_updated_by', 'sys_updated_at', 'contact_type',\n",
              "       'location', 'category', 'subcategory', 'u_symptom', 'impact', 'urgency',\n",
              "       'priority', 'assignment_group', 'assigned_to', 'knowledge',\n",
              "       'u_priority_confirmation', 'notify', 'closed_code', 'resolved_by',\n",
              "       'resolved_at', 'closed_at'],\n",
              "      dtype='object')"
            ]
          },
          "metadata": {
            "tags": []
          },
          "execution_count": 10
        }
      ]
    },
    {
      "cell_type": "code",
      "metadata": {
        "colab": {
          "base_uri": "https://localhost:8080/"
        },
        "id": "lpy8qWARozYx",
        "outputId": "9ea026ba-2521-451f-cbeb-7ffa55346ec8"
      },
      "source": [
        "df.info()"
      ],
      "execution_count": null,
      "outputs": [
        {
          "output_type": "stream",
          "text": [
            "<class 'pandas.core.frame.DataFrame'>\n",
            "Int64Index: 141712 entries, 0 to 141711\n",
            "Data columns (total 29 columns):\n",
            " #   Column                   Non-Null Count   Dtype \n",
            "---  ------                   --------------   ----- \n",
            " 0   number                   141712 non-null  object\n",
            " 1   incident_state           141712 non-null  object\n",
            " 2   active                   141712 non-null  bool  \n",
            " 3   reassignment_count       141712 non-null  int64 \n",
            " 4   reopen_count             141712 non-null  int64 \n",
            " 5   sys_mod_count            141712 non-null  int64 \n",
            " 6   made_sla                 141712 non-null  bool  \n",
            " 7   caller_id                141683 non-null  object\n",
            " 8   opened_by                136877 non-null  object\n",
            " 9   opened_at                141712 non-null  object\n",
            " 10  sys_updated_by           141712 non-null  object\n",
            " 11  sys_updated_at           141712 non-null  object\n",
            " 12  contact_type             141712 non-null  object\n",
            " 13  location                 141636 non-null  object\n",
            " 14  category                 141634 non-null  object\n",
            " 15  subcategory              141601 non-null  object\n",
            " 16  u_symptom                108748 non-null  object\n",
            " 17  impact                   141712 non-null  object\n",
            " 18  urgency                  141712 non-null  object\n",
            " 19  priority                 141712 non-null  object\n",
            " 20  assignment_group         127499 non-null  object\n",
            " 21  assigned_to              114216 non-null  object\n",
            " 22  knowledge                141712 non-null  bool  \n",
            " 23  u_priority_confirmation  141712 non-null  bool  \n",
            " 24  notify                   141712 non-null  object\n",
            " 25  closed_code              140998 non-null  object\n",
            " 26  resolved_by              141486 non-null  object\n",
            " 27  resolved_at              138571 non-null  object\n",
            " 28  closed_at                141712 non-null  object\n",
            "dtypes: bool(4), int64(3), object(22)\n",
            "memory usage: 28.7+ MB\n"
          ],
          "name": "stdout"
        }
      ]
    },
    {
      "cell_type": "markdown",
      "metadata": {
        "id": "8bSkhYxLpPyo"
      },
      "source": [
        "### We can see in above info our data that are showing three types of data but as  you can see Boolean and Count also considered as a categorical."
      ]
    },
    {
      "cell_type": "code",
      "metadata": {
        "colab": {
          "base_uri": "https://localhost:8080/"
        },
        "id": "lvODZdtCkS62",
        "outputId": "cb7a5b29-da56-4e2e-d552-884ce4fa0025"
      },
      "source": [
        "# Checking null values\n",
        "df.isna().sum()"
      ],
      "execution_count": null,
      "outputs": [
        {
          "output_type": "execute_result",
          "data": {
            "text/plain": [
              "number                         0\n",
              "incident_state                 0\n",
              "active                         0\n",
              "reassignment_count             0\n",
              "reopen_count                   0\n",
              "sys_mod_count                  0\n",
              "made_sla                       0\n",
              "caller_id                     29\n",
              "opened_by                   4835\n",
              "opened_at                      0\n",
              "sys_updated_by                 0\n",
              "sys_updated_at                 0\n",
              "contact_type                   0\n",
              "location                      76\n",
              "category                      78\n",
              "subcategory                  111\n",
              "u_symptom                  32964\n",
              "impact                         0\n",
              "urgency                        0\n",
              "priority                       0\n",
              "assignment_group           14213\n",
              "assigned_to                27496\n",
              "knowledge                      0\n",
              "u_priority_confirmation        0\n",
              "notify                         0\n",
              "closed_code                  714\n",
              "resolved_by                  226\n",
              "resolved_at                 3141\n",
              "closed_at                      0\n",
              "dtype: int64"
            ]
          },
          "metadata": {
            "tags": []
          },
          "execution_count": 12
        }
      ]
    },
    {
      "cell_type": "code",
      "metadata": {
        "colab": {
          "base_uri": "https://localhost:8080/",
          "height": 592
        },
        "id": "zkBNUEDQkQUE",
        "outputId": "0b6cde9c-4aa3-43c9-f0b8-51efd770626e"
      },
      "source": [
        "plt.figure(figsize=(20,8))\n",
        "sns.heatmap(df.isnull(), cbar=False);\n",
        "plt.show()"
      ],
      "execution_count": null,
      "outputs": [
        {
          "output_type": "display_data",
          "data": {
            "image/png": "[encoded data removed]",
            "text/plain": [
              "<Figure size 1440x576 with 1 Axes>"
            ]
          },
          "metadata": {
            "tags": [],
            "needs_background": "light"
          }
        }
      ]
    },
    {
      "cell_type": "markdown",
      "metadata": {
        "id": "EUdMdgoWmoCU"
      },
      "source": [
        "# Treatment of Null values"
      ]
    },
    {
      "cell_type": "markdown",
      "metadata": {
        "id": "bjzfRo9qpsYu"
      },
      "source": [
        "We are replacing null values with unique category which is not in column of given data."
      ]
    },
    {
      "cell_type": "code",
      "metadata": {
        "id": "MJVB5X-akVhx"
      },
      "source": [
        "df['caller_id'].fillna(value='caller 5643',inplace=True)"
      ],
      "execution_count": null,
      "outputs": []
    },
    {
      "cell_type": "code",
      "metadata": {
        "id": "BfqjP5V7kYkE"
      },
      "source": [
        "df['opened_by'].fillna(value = 'Opened by 539', inplace=True)"
      ],
      "execution_count": null,
      "outputs": []
    },
    {
      "cell_type": "code",
      "metadata": {
        "id": "Q1KUVWZUkbH2"
      },
      "source": [
        "df['location'].fillna('Location 250', inplace=True)"
      ],
      "execution_count": null,
      "outputs": []
    },
    {
      "cell_type": "code",
      "metadata": {
        "id": "LoaVJxRwkbcv"
      },
      "source": [
        "df['category'].fillna('Category 64',inplace=True)"
      ],
      "execution_count": null,
      "outputs": []
    },
    {
      "cell_type": "code",
      "metadata": {
        "id": "b7hOBBLGkdSA"
      },
      "source": [
        "df['subcategory'].fillna(value='Subcategory 306',inplace=True)"
      ],
      "execution_count": null,
      "outputs": []
    },
    {
      "cell_type": "code",
      "metadata": {
        "id": "NkyjINWRkex-"
      },
      "source": [
        "df['u_symptom'].fillna(value='Symptom 610', inplace=True)"
      ],
      "execution_count": null,
      "outputs": []
    },
    {
      "cell_type": "code",
      "metadata": {
        "id": "1M8iBZ5ckf72"
      },
      "source": [
        "df['assignment_group'].fillna(value='Group 83',inplace=True)"
      ],
      "execution_count": null,
      "outputs": []
    },
    {
      "cell_type": "code",
      "metadata": {
        "id": "f6IoRoIwkhGv"
      },
      "source": [
        "df['assigned_to'].fillna(value='Resolver 254',inplace=True)"
      ],
      "execution_count": null,
      "outputs": []
    },
    {
      "cell_type": "code",
      "metadata": {
        "id": "fh39hPKbkiPS"
      },
      "source": [
        "df['resolved_by'].fillna(value='resolved by 232',inplace=True)"
      ],
      "execution_count": null,
      "outputs": []
    },
    {
      "cell_type": "markdown",
      "metadata": {
        "id": "GNWVmuF3p8bF"
      },
      "source": [
        "####Here we are replacing null values using \"pad\" method in fiil-na"
      ]
    },
    {
      "cell_type": "code",
      "metadata": {
        "id": "52KXanCVkjf_"
      },
      "source": [
        "df['closed_code'].fillna(method='pad', inplace=True)"
      ],
      "execution_count": null,
      "outputs": []
    },
    {
      "cell_type": "code",
      "metadata": {
        "colab": {
          "base_uri": "https://localhost:8080/"
        },
        "id": "CWDismCKkkaf",
        "outputId": "c4d41cdf-4403-4d3c-f1f3-a18515959ee6"
      },
      "source": [
        "df['closed_code'][data['closed_code'].isna()]"
      ],
      "execution_count": null,
      "outputs": [
        {
          "output_type": "execute_result",
          "data": {
            "text/plain": [
              "1520      code 11\n",
              "1521      code 11\n",
              "1522      code 11\n",
              "1523      code 11\n",
              "1524      code 11\n",
              "           ...   \n",
              "141699     code 6\n",
              "141700     code 6\n",
              "141701     code 6\n",
              "141702     code 6\n",
              "141703     code 6\n",
              "Name: closed_code, Length: 714, dtype: object"
            ]
          },
          "metadata": {
            "tags": []
          },
          "execution_count": 24
        }
      ]
    },
    {
      "cell_type": "markdown",
      "metadata": {
        "id": "PtpFLmKkqYVr"
      },
      "source": [
        "Replacing unknown with null values and filling with mode."
      ]
    },
    {
      "cell_type": "code",
      "metadata": {
        "id": "mAPJ-AYQklc_"
      },
      "source": [
        "df.replace('-100', np.nan, inplace=True)"
      ],
      "execution_count": null,
      "outputs": []
    },
    {
      "cell_type": "code",
      "metadata": {
        "id": "-c1PJbIMkold"
      },
      "source": [
        "df['incident_state'].fillna(df['incident_state'].mode()[0],inplace=True)"
      ],
      "execution_count": null,
      "outputs": []
    },
    {
      "cell_type": "code",
      "metadata": {
        "colab": {
          "base_uri": "https://localhost:8080/"
        },
        "id": "ukSl_0JPkqUm",
        "outputId": "27e7689c-6a33-45c2-f883-ccf880f03323"
      },
      "source": [
        "df.isna().sum()"
      ],
      "execution_count": null,
      "outputs": [
        {
          "output_type": "execute_result",
          "data": {
            "text/plain": [
              "number                        0\n",
              "incident_state                0\n",
              "active                        0\n",
              "reassignment_count            0\n",
              "reopen_count                  0\n",
              "sys_mod_count                 0\n",
              "made_sla                      0\n",
              "caller_id                     0\n",
              "opened_by                     0\n",
              "opened_at                     0\n",
              "sys_updated_by                0\n",
              "sys_updated_at                0\n",
              "contact_type                  0\n",
              "location                      0\n",
              "category                      0\n",
              "subcategory                   0\n",
              "u_symptom                     0\n",
              "impact                        0\n",
              "urgency                       0\n",
              "priority                      0\n",
              "assignment_group              0\n",
              "assigned_to                   0\n",
              "knowledge                     0\n",
              "u_priority_confirmation       0\n",
              "notify                        0\n",
              "closed_code                   0\n",
              "resolved_by                   0\n",
              "resolved_at                3141\n",
              "closed_at                     0\n",
              "dtype: int64"
            ]
          },
          "metadata": {
            "tags": []
          },
          "execution_count": 27
        }
      ]
    },
    {
      "cell_type": "markdown",
      "metadata": {
        "id": "sDG4nxNgqveh"
      },
      "source": [
        "We are going to replace those null values which are in \"resolved_at\" column by adding mean of difference between \"opened_at\" and \"resolved_at\" in \"openend_at\" "
      ]
    },
    {
      "cell_type": "code",
      "metadata": {
        "id": "Cse82VZSksj0"
      },
      "source": [
        "# converting object type to datetime type for further process\n",
        "df['opened_at'] = pd.to_datetime(df['opened_at'])\n",
        "df['resolved_at'] = pd.to_datetime(df['resolved_at'])"
      ],
      "execution_count": null,
      "outputs": []
    },
    {
      "cell_type": "code",
      "metadata": {
        "colab": {
          "base_uri": "https://localhost:8080/",
          "height": 408
        },
        "id": "vfNyPTxcku9i",
        "outputId": "777bf9e4-38e9-4768-afdf-eadd64d93b17"
      },
      "source": [
        "df_only = df[['opened_at', 'resolved_at']]\n",
        "df_only"
      ],
      "execution_count": null,
      "outputs": [
        {
          "output_type": "execute_result",
          "data": {
            "text/html": [
              "<div>\n",
              "<style scoped>\n",
              "    .dataframe tbody tr th:only-of-type {\n",
              "        vertical-align: middle;\n",
              "    }\n",
              "\n",
              "    .dataframe tbody tr th {\n",
              "        vertical-align: top;\n",
              "    }\n",
              "\n",
              "    .dataframe thead th {\n",
              "        text-align: right;\n",
              "    }\n",
              "</style>\n",
              "<table border=\"1\" class=\"dataframe\">\n",
              "  <thead>\n",
              "    <tr style=\"text-align: right;\">\n",
              "      <th></th>\n",
              "      <th>opened_at</th>\n",
              "      <th>resolved_at</th>\n",
              "    </tr>\n",
              "  </thead>\n",
              "  <tbody>\n",
              "    <tr>\n",
              "      <th>0</th>\n",
              "      <td>2016-02-29 01:16:00</td>\n",
              "      <td>2016-02-29 11:29:00</td>\n",
              "    </tr>\n",
              "    <tr>\n",
              "      <th>1</th>\n",
              "      <td>2016-02-29 01:16:00</td>\n",
              "      <td>2016-02-29 11:29:00</td>\n",
              "    </tr>\n",
              "    <tr>\n",
              "      <th>2</th>\n",
              "      <td>2016-02-29 01:16:00</td>\n",
              "      <td>2016-02-29 11:29:00</td>\n",
              "    </tr>\n",
              "    <tr>\n",
              "      <th>3</th>\n",
              "      <td>2016-02-29 01:16:00</td>\n",
              "      <td>2016-02-29 11:29:00</td>\n",
              "    </tr>\n",
              "    <tr>\n",
              "      <th>4</th>\n",
              "      <td>2016-02-29 04:40:00</td>\n",
              "      <td>2016-01-03 09:52:00</td>\n",
              "    </tr>\n",
              "    <tr>\n",
              "      <th>...</th>\n",
              "      <td>...</td>\n",
              "      <td>...</td>\n",
              "    </tr>\n",
              "    <tr>\n",
              "      <th>141707</th>\n",
              "      <td>2017-02-16 09:09:00</td>\n",
              "      <td>2017-02-16 09:53:00</td>\n",
              "    </tr>\n",
              "    <tr>\n",
              "      <th>141708</th>\n",
              "      <td>2017-02-16 14:17:00</td>\n",
              "      <td>2017-02-16 16:38:00</td>\n",
              "    </tr>\n",
              "    <tr>\n",
              "      <th>141709</th>\n",
              "      <td>2017-02-16 14:17:00</td>\n",
              "      <td>2017-02-16 16:38:00</td>\n",
              "    </tr>\n",
              "    <tr>\n",
              "      <th>141710</th>\n",
              "      <td>2017-02-16 14:17:00</td>\n",
              "      <td>2017-02-16 16:38:00</td>\n",
              "    </tr>\n",
              "    <tr>\n",
              "      <th>141711</th>\n",
              "      <td>2017-02-16 14:17:00</td>\n",
              "      <td>2017-02-16 16:38:00</td>\n",
              "    </tr>\n",
              "  </tbody>\n",
              "</table>\n",
              "<p>141712 rows × 2 columns</p>\n",
              "</div>"
            ],
            "text/plain": [
              "                 opened_at         resolved_at\n",
              "0      2016-02-29 01:16:00 2016-02-29 11:29:00\n",
              "1      2016-02-29 01:16:00 2016-02-29 11:29:00\n",
              "2      2016-02-29 01:16:00 2016-02-29 11:29:00\n",
              "3      2016-02-29 01:16:00 2016-02-29 11:29:00\n",
              "4      2016-02-29 04:40:00 2016-01-03 09:52:00\n",
              "...                    ...                 ...\n",
              "141707 2017-02-16 09:09:00 2017-02-16 09:53:00\n",
              "141708 2017-02-16 14:17:00 2017-02-16 16:38:00\n",
              "141709 2017-02-16 14:17:00 2017-02-16 16:38:00\n",
              "141710 2017-02-16 14:17:00 2017-02-16 16:38:00\n",
              "141711 2017-02-16 14:17:00 2017-02-16 16:38:00\n",
              "\n",
              "[141712 rows x 2 columns]"
            ]
          },
          "metadata": {
            "tags": []
          },
          "execution_count": 29
        }
      ]
    },
    {
      "cell_type": "code",
      "metadata": {
        "colab": {
          "base_uri": "https://localhost:8080/",
          "height": 408
        },
        "id": "yx4Fd7ockwXI",
        "outputId": "9de37625-e999-4413-eb4d-bac61704e058"
      },
      "source": [
        "df_n = df_only.dropna()\n",
        "df_n"
      ],
      "execution_count": null,
      "outputs": [
        {
          "output_type": "execute_result",
          "data": {
            "text/html": [
              "<div>\n",
              "<style scoped>\n",
              "    .dataframe tbody tr th:only-of-type {\n",
              "        vertical-align: middle;\n",
              "    }\n",
              "\n",
              "    .dataframe tbody tr th {\n",
              "        vertical-align: top;\n",
              "    }\n",
              "\n",
              "    .dataframe thead th {\n",
              "        text-align: right;\n",
              "    }\n",
              "</style>\n",
              "<table border=\"1\" class=\"dataframe\">\n",
              "  <thead>\n",
              "    <tr style=\"text-align: right;\">\n",
              "      <th></th>\n",
              "      <th>opened_at</th>\n",
              "      <th>resolved_at</th>\n",
              "    </tr>\n",
              "  </thead>\n",
              "  <tbody>\n",
              "    <tr>\n",
              "      <th>0</th>\n",
              "      <td>2016-02-29 01:16:00</td>\n",
              "      <td>2016-02-29 11:29:00</td>\n",
              "    </tr>\n",
              "    <tr>\n",
              "      <th>1</th>\n",
              "      <td>2016-02-29 01:16:00</td>\n",
              "      <td>2016-02-29 11:29:00</td>\n",
              "    </tr>\n",
              "    <tr>\n",
              "      <th>2</th>\n",
              "      <td>2016-02-29 01:16:00</td>\n",
              "      <td>2016-02-29 11:29:00</td>\n",
              "    </tr>\n",
              "    <tr>\n",
              "      <th>3</th>\n",
              "      <td>2016-02-29 01:16:00</td>\n",
              "      <td>2016-02-29 11:29:00</td>\n",
              "    </tr>\n",
              "    <tr>\n",
              "      <th>4</th>\n",
              "      <td>2016-02-29 04:40:00</td>\n",
              "      <td>2016-01-03 09:52:00</td>\n",
              "    </tr>\n",
              "    <tr>\n",
              "      <th>...</th>\n",
              "      <td>...</td>\n",
              "      <td>...</td>\n",
              "    </tr>\n",
              "    <tr>\n",
              "      <th>141707</th>\n",
              "      <td>2017-02-16 09:09:00</td>\n",
              "      <td>2017-02-16 09:53:00</td>\n",
              "    </tr>\n",
              "    <tr>\n",
              "      <th>141708</th>\n",
              "      <td>2017-02-16 14:17:00</td>\n",
              "      <td>2017-02-16 16:38:00</td>\n",
              "    </tr>\n",
              "    <tr>\n",
              "      <th>141709</th>\n",
              "      <td>2017-02-16 14:17:00</td>\n",
              "      <td>2017-02-16 16:38:00</td>\n",
              "    </tr>\n",
              "    <tr>\n",
              "      <th>141710</th>\n",
              "      <td>2017-02-16 14:17:00</td>\n",
              "      <td>2017-02-16 16:38:00</td>\n",
              "    </tr>\n",
              "    <tr>\n",
              "      <th>141711</th>\n",
              "      <td>2017-02-16 14:17:00</td>\n",
              "      <td>2017-02-16 16:38:00</td>\n",
              "    </tr>\n",
              "  </tbody>\n",
              "</table>\n",
              "<p>138571 rows × 2 columns</p>\n",
              "</div>"
            ],
            "text/plain": [
              "                 opened_at         resolved_at\n",
              "0      2016-02-29 01:16:00 2016-02-29 11:29:00\n",
              "1      2016-02-29 01:16:00 2016-02-29 11:29:00\n",
              "2      2016-02-29 01:16:00 2016-02-29 11:29:00\n",
              "3      2016-02-29 01:16:00 2016-02-29 11:29:00\n",
              "4      2016-02-29 04:40:00 2016-01-03 09:52:00\n",
              "...                    ...                 ...\n",
              "141707 2017-02-16 09:09:00 2017-02-16 09:53:00\n",
              "141708 2017-02-16 14:17:00 2017-02-16 16:38:00\n",
              "141709 2017-02-16 14:17:00 2017-02-16 16:38:00\n",
              "141710 2017-02-16 14:17:00 2017-02-16 16:38:00\n",
              "141711 2017-02-16 14:17:00 2017-02-16 16:38:00\n",
              "\n",
              "[138571 rows x 2 columns]"
            ]
          },
          "metadata": {
            "tags": []
          },
          "execution_count": 30
        }
      ]
    },
    {
      "cell_type": "code",
      "metadata": {
        "id": "vBZWc7XAkyRq"
      },
      "source": [
        "df_n['new'] = df_n['resolved_at'] - df_n['opened_at']"
      ],
      "execution_count": null,
      "outputs": []
    },
    {
      "cell_type": "code",
      "metadata": {
        "colab": {
          "base_uri": "https://localhost:8080/",
          "height": 408
        },
        "id": "J2K4oRS8k0Gj",
        "outputId": "bd747e63-73c6-4440-bcad-8d666844103e"
      },
      "source": [
        "df_n"
      ],
      "execution_count": null,
      "outputs": [
        {
          "output_type": "execute_result",
          "data": {
            "text/html": [
              "<div>\n",
              "<style scoped>\n",
              "    .dataframe tbody tr th:only-of-type {\n",
              "        vertical-align: middle;\n",
              "    }\n",
              "\n",
              "    .dataframe tbody tr th {\n",
              "        vertical-align: top;\n",
              "    }\n",
              "\n",
              "    .dataframe thead th {\n",
              "        text-align: right;\n",
              "    }\n",
              "</style>\n",
              "<table border=\"1\" class=\"dataframe\">\n",
              "  <thead>\n",
              "    <tr style=\"text-align: right;\">\n",
              "      <th></th>\n",
              "      <th>opened_at</th>\n",
              "      <th>resolved_at</th>\n",
              "      <th>new</th>\n",
              "    </tr>\n",
              "  </thead>\n",
              "  <tbody>\n",
              "    <tr>\n",
              "      <th>0</th>\n",
              "      <td>2016-02-29 01:16:00</td>\n",
              "      <td>2016-02-29 11:29:00</td>\n",
              "      <td>0 days 10:13:00</td>\n",
              "    </tr>\n",
              "    <tr>\n",
              "      <th>1</th>\n",
              "      <td>2016-02-29 01:16:00</td>\n",
              "      <td>2016-02-29 11:29:00</td>\n",
              "      <td>0 days 10:13:00</td>\n",
              "    </tr>\n",
              "    <tr>\n",
              "      <th>2</th>\n",
              "      <td>2016-02-29 01:16:00</td>\n",
              "      <td>2016-02-29 11:29:00</td>\n",
              "      <td>0 days 10:13:00</td>\n",
              "    </tr>\n",
              "    <tr>\n",
              "      <th>3</th>\n",
              "      <td>2016-02-29 01:16:00</td>\n",
              "      <td>2016-02-29 11:29:00</td>\n",
              "      <td>0 days 10:13:00</td>\n",
              "    </tr>\n",
              "    <tr>\n",
              "      <th>4</th>\n",
              "      <td>2016-02-29 04:40:00</td>\n",
              "      <td>2016-01-03 09:52:00</td>\n",
              "      <td>-57 days +05:12:00</td>\n",
              "    </tr>\n",
              "    <tr>\n",
              "      <th>...</th>\n",
              "      <td>...</td>\n",
              "      <td>...</td>\n",
              "      <td>...</td>\n",
              "    </tr>\n",
              "    <tr>\n",
              "      <th>141707</th>\n",
              "      <td>2017-02-16 09:09:00</td>\n",
              "      <td>2017-02-16 09:53:00</td>\n",
              "      <td>0 days 00:44:00</td>\n",
              "    </tr>\n",
              "    <tr>\n",
              "      <th>141708</th>\n",
              "      <td>2017-02-16 14:17:00</td>\n",
              "      <td>2017-02-16 16:38:00</td>\n",
              "      <td>0 days 02:21:00</td>\n",
              "    </tr>\n",
              "    <tr>\n",
              "      <th>141709</th>\n",
              "      <td>2017-02-16 14:17:00</td>\n",
              "      <td>2017-02-16 16:38:00</td>\n",
              "      <td>0 days 02:21:00</td>\n",
              "    </tr>\n",
              "    <tr>\n",
              "      <th>141710</th>\n",
              "      <td>2017-02-16 14:17:00</td>\n",
              "      <td>2017-02-16 16:38:00</td>\n",
              "      <td>0 days 02:21:00</td>\n",
              "    </tr>\n",
              "    <tr>\n",
              "      <th>141711</th>\n",
              "      <td>2017-02-16 14:17:00</td>\n",
              "      <td>2017-02-16 16:38:00</td>\n",
              "      <td>0 days 02:21:00</td>\n",
              "    </tr>\n",
              "  </tbody>\n",
              "</table>\n",
              "<p>138571 rows × 3 columns</p>\n",
              "</div>"
            ],
            "text/plain": [
              "                 opened_at         resolved_at                new\n",
              "0      2016-02-29 01:16:00 2016-02-29 11:29:00    0 days 10:13:00\n",
              "1      2016-02-29 01:16:00 2016-02-29 11:29:00    0 days 10:13:00\n",
              "2      2016-02-29 01:16:00 2016-02-29 11:29:00    0 days 10:13:00\n",
              "3      2016-02-29 01:16:00 2016-02-29 11:29:00    0 days 10:13:00\n",
              "4      2016-02-29 04:40:00 2016-01-03 09:52:00 -57 days +05:12:00\n",
              "...                    ...                 ...                ...\n",
              "141707 2017-02-16 09:09:00 2017-02-16 09:53:00    0 days 00:44:00\n",
              "141708 2017-02-16 14:17:00 2017-02-16 16:38:00    0 days 02:21:00\n",
              "141709 2017-02-16 14:17:00 2017-02-16 16:38:00    0 days 02:21:00\n",
              "141710 2017-02-16 14:17:00 2017-02-16 16:38:00    0 days 02:21:00\n",
              "141711 2017-02-16 14:17:00 2017-02-16 16:38:00    0 days 02:21:00\n",
              "\n",
              "[138571 rows x 3 columns]"
            ]
          },
          "metadata": {
            "tags": []
          },
          "execution_count": 32
        }
      ]
    },
    {
      "cell_type": "code",
      "metadata": {
        "colab": {
          "base_uri": "https://localhost:8080/"
        },
        "id": "AQfWKpRqk1Az",
        "outputId": "3f0a4fad-9fe0-4a1f-da12-cd8128835623"
      },
      "source": [
        "df_n['new'].mean()"
      ],
      "execution_count": null,
      "outputs": [
        {
          "output_type": "execute_result",
          "data": {
            "text/plain": [
              "Timedelta('5 days 00:40:40.813301475')"
            ]
          },
          "metadata": {
            "tags": []
          },
          "execution_count": 33
        }
      ]
    },
    {
      "cell_type": "code",
      "metadata": {
        "id": "dKrCNu6Zk3nS"
      },
      "source": [
        "import datetime"
      ],
      "execution_count": null,
      "outputs": []
    },
    {
      "cell_type": "code",
      "metadata": {
        "id": "xdB6bTH5k444"
      },
      "source": [
        "#Adding mean into opened at column\n",
        "df['N'] = df['opened_at'] + datetime.timedelta(days=5, hours = 0, minutes=40, seconds=40.813301475)"
      ],
      "execution_count": null,
      "outputs": []
    },
    {
      "cell_type": "code",
      "metadata": {
        "id": "uXGH58m7k6fY"
      },
      "source": [
        "df['resolved_at'].fillna(value = df['N'], inplace=True)"
      ],
      "execution_count": null,
      "outputs": []
    },
    {
      "cell_type": "code",
      "metadata": {
        "id": "wVeSaWeIk7eH"
      },
      "source": [
        "df.drop('N',axis=1,inplace=True)"
      ],
      "execution_count": null,
      "outputs": []
    },
    {
      "cell_type": "markdown",
      "metadata": {
        "id": "edoS78azrwvj"
      },
      "source": [
        "Droping some columns due to high colinearity"
      ]
    },
    {
      "cell_type": "code",
      "metadata": {
        "id": "4KP6heuuctjk"
      },
      "source": [
        "df.drop('urgency', axis =1, inplace = True)"
      ],
      "execution_count": null,
      "outputs": []
    },
    {
      "cell_type": "code",
      "metadata": {
        "id": "RdUnQtsKcZLI"
      },
      "source": [
        "df.drop('priority', axis =1, inplace = True)"
      ],
      "execution_count": null,
      "outputs": []
    },
    {
      "cell_type": "code",
      "metadata": {
        "id": "KUdvImOmk8aG"
      },
      "source": [
        "df['resolved_at'] = df['resolved_at'].astype('str')"
      ],
      "execution_count": null,
      "outputs": []
    },
    {
      "cell_type": "code",
      "metadata": {
        "id": "PtNpn28Dk9aA"
      },
      "source": [
        "df['opened_at'] = df['opened_at'].astype('str')"
      ],
      "execution_count": null,
      "outputs": []
    },
    {
      "cell_type": "code",
      "metadata": {
        "colab": {
          "base_uri": "https://localhost:8080/",
          "height": 222
        },
        "id": "DCzDRh7_mWCp",
        "outputId": "f842b8cf-2b78-4412-9dd9-049e873da137"
      },
      "source": [
        "# describe the categorical columns\n",
        "df.describe(include=['O'])"
      ],
      "execution_count": null,
      "outputs": [
        {
          "output_type": "execute_result",
          "data": {
            "text/html": [
              "<div>\n",
              "<style scoped>\n",
              "    .dataframe tbody tr th:only-of-type {\n",
              "        vertical-align: middle;\n",
              "    }\n",
              "\n",
              "    .dataframe tbody tr th {\n",
              "        vertical-align: top;\n",
              "    }\n",
              "\n",
              "    .dataframe thead th {\n",
              "        text-align: right;\n",
              "    }\n",
              "</style>\n",
              "<table border=\"1\" class=\"dataframe\">\n",
              "  <thead>\n",
              "    <tr style=\"text-align: right;\">\n",
              "      <th></th>\n",
              "      <th>number</th>\n",
              "      <th>incident_state</th>\n",
              "      <th>caller_id</th>\n",
              "      <th>opened_by</th>\n",
              "      <th>opened_at</th>\n",
              "      <th>sys_updated_by</th>\n",
              "      <th>sys_updated_at</th>\n",
              "      <th>contact_type</th>\n",
              "      <th>location</th>\n",
              "      <th>category</th>\n",
              "      <th>subcategory</th>\n",
              "      <th>u_symptom</th>\n",
              "      <th>impact</th>\n",
              "      <th>assignment_group</th>\n",
              "      <th>assigned_to</th>\n",
              "      <th>notify</th>\n",
              "      <th>closed_code</th>\n",
              "      <th>resolved_by</th>\n",
              "      <th>resolved_at</th>\n",
              "      <th>closed_at</th>\n",
              "    </tr>\n",
              "  </thead>\n",
              "  <tbody>\n",
              "    <tr>\n",
              "      <th>count</th>\n",
              "      <td>141712</td>\n",
              "      <td>141712</td>\n",
              "      <td>141712</td>\n",
              "      <td>141712</td>\n",
              "      <td>141712</td>\n",
              "      <td>141712</td>\n",
              "      <td>141712</td>\n",
              "      <td>141712</td>\n",
              "      <td>141712</td>\n",
              "      <td>141712</td>\n",
              "      <td>141712</td>\n",
              "      <td>141712</td>\n",
              "      <td>141712</td>\n",
              "      <td>141712</td>\n",
              "      <td>141712</td>\n",
              "      <td>141712</td>\n",
              "      <td>141712</td>\n",
              "      <td>141712</td>\n",
              "      <td>141712</td>\n",
              "      <td>141712</td>\n",
              "    </tr>\n",
              "    <tr>\n",
              "      <th>unique</th>\n",
              "      <td>24918</td>\n",
              "      <td>8</td>\n",
              "      <td>5245</td>\n",
              "      <td>208</td>\n",
              "      <td>19849</td>\n",
              "      <td>846</td>\n",
              "      <td>50664</td>\n",
              "      <td>5</td>\n",
              "      <td>225</td>\n",
              "      <td>59</td>\n",
              "      <td>255</td>\n",
              "      <td>526</td>\n",
              "      <td>3</td>\n",
              "      <td>79</td>\n",
              "      <td>235</td>\n",
              "      <td>2</td>\n",
              "      <td>17</td>\n",
              "      <td>217</td>\n",
              "      <td>20015</td>\n",
              "      <td>2707</td>\n",
              "    </tr>\n",
              "    <tr>\n",
              "      <th>top</th>\n",
              "      <td>INC0019396</td>\n",
              "      <td>Active</td>\n",
              "      <td>Caller 1904</td>\n",
              "      <td>Opened by  17</td>\n",
              "      <td>2016-04-14 20:42:00</td>\n",
              "      <td>Updated by 908</td>\n",
              "      <td>24/3/2016 18:40</td>\n",
              "      <td>Phone</td>\n",
              "      <td>Location 204</td>\n",
              "      <td>Category 26</td>\n",
              "      <td>Subcategory 174</td>\n",
              "      <td>Symptom 491</td>\n",
              "      <td>2 - Medium</td>\n",
              "      <td>Group 70</td>\n",
              "      <td>Resolver 254</td>\n",
              "      <td>Do Not Notify</td>\n",
              "      <td>code 6</td>\n",
              "      <td>Resolved by 15</td>\n",
              "      <td>2016-03-06 16:29:00.000000</td>\n",
              "      <td>24/3/2016 18:59</td>\n",
              "    </tr>\n",
              "    <tr>\n",
              "      <th>freq</th>\n",
              "      <td>58</td>\n",
              "      <td>38721</td>\n",
              "      <td>1425</td>\n",
              "      <td>41466</td>\n",
              "      <td>58</td>\n",
              "      <td>36162</td>\n",
              "      <td>420</td>\n",
              "      <td>140462</td>\n",
              "      <td>31690</td>\n",
              "      <td>18453</td>\n",
              "      <td>35785</td>\n",
              "      <td>51985</td>\n",
              "      <td>134335</td>\n",
              "      <td>43474</td>\n",
              "      <td>27496</td>\n",
              "      <td>141593</td>\n",
              "      <td>86996</td>\n",
              "      <td>15421</td>\n",
              "      <td>93</td>\n",
              "      <td>3324</td>\n",
              "    </tr>\n",
              "  </tbody>\n",
              "</table>\n",
              "</div>"
            ],
            "text/plain": [
              "            number incident_state  ...                 resolved_at        closed_at\n",
              "count       141712         141712  ...                      141712           141712\n",
              "unique       24918              8  ...                       20015             2707\n",
              "top     INC0019396         Active  ...  2016-03-06 16:29:00.000000  24/3/2016 18:59\n",
              "freq            58          38721  ...                          93             3324\n",
              "\n",
              "[4 rows x 20 columns]"
            ]
          },
          "metadata": {
            "tags": []
          },
          "execution_count": 42
        }
      ]
    },
    {
      "cell_type": "markdown",
      "metadata": {
        "id": "S3qrFJ3t1wTI"
      },
      "source": [
        "# Data visualization"
      ]
    },
    {
      "cell_type": "code",
      "metadata": {
        "colab": {
          "base_uri": "https://localhost:8080/",
          "height": 393
        },
        "id": "F8Kc8_9xwB57",
        "outputId": "5577753c-b48f-4a19-81cc-8d7e4f35fe19"
      },
      "source": [
        "plt.figure(figsize=(24,10))\n",
        "plt.subplot(231);sns.countplot('incident_state',data=df);\n",
        "plt.xticks(rotation = 90);\n",
        "plt.subplot(232);sns.countplot('contact_type',data=df)\n",
        "plt.subplot(233);sns.countplot('impact',data=df);"
      ],
      "execution_count": null,
      "outputs": [
        {
          "output_type": "display_data",
          "data": {
            "image/png": "[encoded data removed]",
            "text/plain": [
              "<Figure size 1728x720 with 3 Axes>"
            ]
          },
          "metadata": {
            "tags": [],
            "needs_background": "light"
          }
        }
      ]
    },
    {
      "cell_type": "code",
      "metadata": {
        "colab": {
          "base_uri": "https://localhost:8080/",
          "height": 320
        },
        "id": "rPlE4BYhuRBI",
        "outputId": "b2f0e830-c389-44ac-a2b7-b8aa04c0dfd5"
      },
      "source": [
        "ia=pd.crosstab(df.incident_state,df.active)\n",
        "ia"
      ],
      "execution_count": null,
      "outputs": [
        {
          "output_type": "execute_result",
          "data": {
            "text/html": [
              "<div>\n",
              "<style scoped>\n",
              "    .dataframe tbody tr th:only-of-type {\n",
              "        vertical-align: middle;\n",
              "    }\n",
              "\n",
              "    .dataframe tbody tr th {\n",
              "        vertical-align: top;\n",
              "    }\n",
              "\n",
              "    .dataframe thead th {\n",
              "        text-align: right;\n",
              "    }\n",
              "</style>\n",
              "<table border=\"1\" class=\"dataframe\">\n",
              "  <thead>\n",
              "    <tr style=\"text-align: right;\">\n",
              "      <th>active</th>\n",
              "      <th>False</th>\n",
              "      <th>True</th>\n",
              "    </tr>\n",
              "    <tr>\n",
              "      <th>incident_state</th>\n",
              "      <th></th>\n",
              "      <th></th>\n",
              "    </tr>\n",
              "  </thead>\n",
              "  <tbody>\n",
              "    <tr>\n",
              "      <th>Active</th>\n",
              "      <td>0</td>\n",
              "      <td>38721</td>\n",
              "    </tr>\n",
              "    <tr>\n",
              "      <th>Awaiting Evidence</th>\n",
              "      <td>0</td>\n",
              "      <td>38</td>\n",
              "    </tr>\n",
              "    <tr>\n",
              "      <th>Awaiting Problem</th>\n",
              "      <td>0</td>\n",
              "      <td>461</td>\n",
              "    </tr>\n",
              "    <tr>\n",
              "      <th>Awaiting User Info</th>\n",
              "      <td>0</td>\n",
              "      <td>14642</td>\n",
              "    </tr>\n",
              "    <tr>\n",
              "      <th>Awaiting Vendor</th>\n",
              "      <td>0</td>\n",
              "      <td>707</td>\n",
              "    </tr>\n",
              "    <tr>\n",
              "      <th>Closed</th>\n",
              "      <td>24985</td>\n",
              "      <td>0</td>\n",
              "    </tr>\n",
              "    <tr>\n",
              "      <th>New</th>\n",
              "      <td>0</td>\n",
              "      <td>36407</td>\n",
              "    </tr>\n",
              "    <tr>\n",
              "      <th>Resolved</th>\n",
              "      <td>1</td>\n",
              "      <td>25750</td>\n",
              "    </tr>\n",
              "  </tbody>\n",
              "</table>\n",
              "</div>"
            ],
            "text/plain": [
              "active              False  True \n",
              "incident_state                  \n",
              "Active                  0  38721\n",
              "Awaiting Evidence       0     38\n",
              "Awaiting Problem        0    461\n",
              "Awaiting User Info      0  14642\n",
              "Awaiting Vendor         0    707\n",
              "Closed              24985      0\n",
              "New                     0  36407\n",
              "Resolved                1  25750"
            ]
          },
          "metadata": {
            "tags": []
          },
          "execution_count": 44
        }
      ]
    },
    {
      "cell_type": "code",
      "metadata": {
        "colab": {
          "base_uri": "https://localhost:8080/",
          "height": 362
        },
        "id": "Ysm93AY6uSLF",
        "outputId": "ed053d73-981f-4bc9-dc63-96a5d0c3606c"
      },
      "source": [
        "ia.plot.bar(stacked=True)\n",
        "plt.show()"
      ],
      "execution_count": null,
      "outputs": [
        {
          "output_type": "display_data",
          "data": {
            "image/png": "[encoded data removed]",
            "text/plain": [
              "<Figure size 432x288 with 1 Axes>"
            ]
          },
          "metadata": {
            "tags": [],
            "needs_background": "light"
          }
        }
      ]
    },
    {
      "cell_type": "code",
      "metadata": {
        "colab": {
          "base_uri": "https://localhost:8080/",
          "height": 320
        },
        "id": "_rtVS8wjuQwn",
        "outputId": "3ae858d8-9018-4bbc-c4e7-f3ac7ca87faa"
      },
      "source": [
        "im=pd.crosstab(df.incident_state,df.made_sla)\n",
        "im"
      ],
      "execution_count": null,
      "outputs": [
        {
          "output_type": "execute_result",
          "data": {
            "text/html": [
              "<div>\n",
              "<style scoped>\n",
              "    .dataframe tbody tr th:only-of-type {\n",
              "        vertical-align: middle;\n",
              "    }\n",
              "\n",
              "    .dataframe tbody tr th {\n",
              "        vertical-align: top;\n",
              "    }\n",
              "\n",
              "    .dataframe thead th {\n",
              "        text-align: right;\n",
              "    }\n",
              "</style>\n",
              "<table border=\"1\" class=\"dataframe\">\n",
              "  <thead>\n",
              "    <tr style=\"text-align: right;\">\n",
              "      <th>made_sla</th>\n",
              "      <th>False</th>\n",
              "      <th>True</th>\n",
              "    </tr>\n",
              "    <tr>\n",
              "      <th>incident_state</th>\n",
              "      <th></th>\n",
              "      <th></th>\n",
              "    </tr>\n",
              "  </thead>\n",
              "  <tbody>\n",
              "    <tr>\n",
              "      <th>Active</th>\n",
              "      <td>28</td>\n",
              "      <td>38693</td>\n",
              "    </tr>\n",
              "    <tr>\n",
              "      <th>Awaiting Evidence</th>\n",
              "      <td>0</td>\n",
              "      <td>38</td>\n",
              "    </tr>\n",
              "    <tr>\n",
              "      <th>Awaiting Problem</th>\n",
              "      <td>1</td>\n",
              "      <td>460</td>\n",
              "    </tr>\n",
              "    <tr>\n",
              "      <th>Awaiting User Info</th>\n",
              "      <td>20</td>\n",
              "      <td>14622</td>\n",
              "    </tr>\n",
              "    <tr>\n",
              "      <th>Awaiting Vendor</th>\n",
              "      <td>2</td>\n",
              "      <td>705</td>\n",
              "    </tr>\n",
              "    <tr>\n",
              "      <th>Closed</th>\n",
              "      <td>9154</td>\n",
              "      <td>15831</td>\n",
              "    </tr>\n",
              "    <tr>\n",
              "      <th>New</th>\n",
              "      <td>0</td>\n",
              "      <td>36407</td>\n",
              "    </tr>\n",
              "    <tr>\n",
              "      <th>Resolved</th>\n",
              "      <td>10</td>\n",
              "      <td>25741</td>\n",
              "    </tr>\n",
              "  </tbody>\n",
              "</table>\n",
              "</div>"
            ],
            "text/plain": [
              "made_sla            False  True \n",
              "incident_state                  \n",
              "Active                 28  38693\n",
              "Awaiting Evidence       0     38\n",
              "Awaiting Problem        1    460\n",
              "Awaiting User Info     20  14622\n",
              "Awaiting Vendor         2    705\n",
              "Closed               9154  15831\n",
              "New                     0  36407\n",
              "Resolved               10  25741"
            ]
          },
          "metadata": {
            "tags": []
          },
          "execution_count": 46
        }
      ]
    },
    {
      "cell_type": "code",
      "metadata": {
        "colab": {
          "base_uri": "https://localhost:8080/",
          "height": 362
        },
        "id": "4V0jac9yuiS4",
        "outputId": "f2ed551a-746a-44ad-c9b0-664845c9e8e9"
      },
      "source": [
        "im.plot.bar(stacked=True)\n",
        "plt.show()"
      ],
      "execution_count": null,
      "outputs": [
        {
          "output_type": "display_data",
          "data": {
            "image/png": "[encoded data removed]",
            "text/plain": [
              "<Figure size 432x288 with 1 Axes>"
            ]
          },
          "metadata": {
            "tags": [],
            "needs_background": "light"
          }
        }
      ]
    },
    {
      "cell_type": "code",
      "metadata": {
        "colab": {
          "base_uri": "https://localhost:8080/",
          "height": 320
        },
        "id": "_T77_HAoui7-",
        "outputId": "d43273e9-963c-4222-a9ce-beb886479652"
      },
      "source": [
        "ik=pd.crosstab(df.incident_state,df.knowledge)\n",
        "ik"
      ],
      "execution_count": null,
      "outputs": [
        {
          "output_type": "execute_result",
          "data": {
            "text/html": [
              "<div>\n",
              "<style scoped>\n",
              "    .dataframe tbody tr th:only-of-type {\n",
              "        vertical-align: middle;\n",
              "    }\n",
              "\n",
              "    .dataframe tbody tr th {\n",
              "        vertical-align: top;\n",
              "    }\n",
              "\n",
              "    .dataframe thead th {\n",
              "        text-align: right;\n",
              "    }\n",
              "</style>\n",
              "<table border=\"1\" class=\"dataframe\">\n",
              "  <thead>\n",
              "    <tr style=\"text-align: right;\">\n",
              "      <th>knowledge</th>\n",
              "      <th>False</th>\n",
              "      <th>True</th>\n",
              "    </tr>\n",
              "    <tr>\n",
              "      <th>incident_state</th>\n",
              "      <th></th>\n",
              "      <th></th>\n",
              "    </tr>\n",
              "  </thead>\n",
              "  <tbody>\n",
              "    <tr>\n",
              "      <th>Active</th>\n",
              "      <td>30653</td>\n",
              "      <td>8068</td>\n",
              "    </tr>\n",
              "    <tr>\n",
              "      <th>Awaiting Evidence</th>\n",
              "      <td>35</td>\n",
              "      <td>3</td>\n",
              "    </tr>\n",
              "    <tr>\n",
              "      <th>Awaiting Problem</th>\n",
              "      <td>275</td>\n",
              "      <td>186</td>\n",
              "    </tr>\n",
              "    <tr>\n",
              "      <th>Awaiting User Info</th>\n",
              "      <td>11069</td>\n",
              "      <td>3573</td>\n",
              "    </tr>\n",
              "    <tr>\n",
              "      <th>Awaiting Vendor</th>\n",
              "      <td>657</td>\n",
              "      <td>50</td>\n",
              "    </tr>\n",
              "    <tr>\n",
              "      <th>Closed</th>\n",
              "      <td>21418</td>\n",
              "      <td>3567</td>\n",
              "    </tr>\n",
              "    <tr>\n",
              "      <th>New</th>\n",
              "      <td>30206</td>\n",
              "      <td>6201</td>\n",
              "    </tr>\n",
              "    <tr>\n",
              "      <th>Resolved</th>\n",
              "      <td>22036</td>\n",
              "      <td>3715</td>\n",
              "    </tr>\n",
              "  </tbody>\n",
              "</table>\n",
              "</div>"
            ],
            "text/plain": [
              "knowledge           False  True \n",
              "incident_state                  \n",
              "Active              30653   8068\n",
              "Awaiting Evidence      35      3\n",
              "Awaiting Problem      275    186\n",
              "Awaiting User Info  11069   3573\n",
              "Awaiting Vendor       657     50\n",
              "Closed              21418   3567\n",
              "New                 30206   6201\n",
              "Resolved            22036   3715"
            ]
          },
          "metadata": {
            "tags": []
          },
          "execution_count": 48
        }
      ]
    },
    {
      "cell_type": "code",
      "metadata": {
        "colab": {
          "base_uri": "https://localhost:8080/",
          "height": 362
        },
        "id": "DDqNEz1eujmv",
        "outputId": "063f4f77-c6a4-4ab3-cd32-c1ddf678f25b"
      },
      "source": [
        "ik.plot.bar(stacked=True)\n",
        "plt.show()"
      ],
      "execution_count": null,
      "outputs": [
        {
          "output_type": "display_data",
          "data": {
            "image/png": "[encoded data removed]",
            "text/plain": [
              "<Figure size 432x288 with 1 Axes>"
            ]
          },
          "metadata": {
            "tags": [],
            "needs_background": "light"
          }
        }
      ]
    },
    {
      "cell_type": "code",
      "metadata": {
        "colab": {
          "base_uri": "https://localhost:8080/",
          "height": 320
        },
        "id": "AYr-OIKvuzn0",
        "outputId": "bcf7117b-9084-4b5c-875b-ebb7ff03907a"
      },
      "source": [
        "ii=pd.crosstab(df.incident_state,df.impact)\n",
        "ii"
      ],
      "execution_count": null,
      "outputs": [
        {
          "output_type": "execute_result",
          "data": {
            "text/html": [
              "<div>\n",
              "<style scoped>\n",
              "    .dataframe tbody tr th:only-of-type {\n",
              "        vertical-align: middle;\n",
              "    }\n",
              "\n",
              "    .dataframe tbody tr th {\n",
              "        vertical-align: top;\n",
              "    }\n",
              "\n",
              "    .dataframe thead th {\n",
              "        text-align: right;\n",
              "    }\n",
              "</style>\n",
              "<table border=\"1\" class=\"dataframe\">\n",
              "  <thead>\n",
              "    <tr style=\"text-align: right;\">\n",
              "      <th>impact</th>\n",
              "      <th>1 - High</th>\n",
              "      <th>2 - Medium</th>\n",
              "      <th>3 - Low</th>\n",
              "    </tr>\n",
              "    <tr>\n",
              "      <th>incident_state</th>\n",
              "      <th></th>\n",
              "      <th></th>\n",
              "      <th></th>\n",
              "    </tr>\n",
              "  </thead>\n",
              "  <tbody>\n",
              "    <tr>\n",
              "      <th>Active</th>\n",
              "      <td>960</td>\n",
              "      <td>36749</td>\n",
              "      <td>1012</td>\n",
              "    </tr>\n",
              "    <tr>\n",
              "      <th>Awaiting Evidence</th>\n",
              "      <td>4</td>\n",
              "      <td>32</td>\n",
              "      <td>2</td>\n",
              "    </tr>\n",
              "    <tr>\n",
              "      <th>Awaiting Problem</th>\n",
              "      <td>32</td>\n",
              "      <td>390</td>\n",
              "      <td>39</td>\n",
              "    </tr>\n",
              "    <tr>\n",
              "      <th>Awaiting User Info</th>\n",
              "      <td>235</td>\n",
              "      <td>13932</td>\n",
              "      <td>475</td>\n",
              "    </tr>\n",
              "    <tr>\n",
              "      <th>Awaiting Vendor</th>\n",
              "      <td>24</td>\n",
              "      <td>679</td>\n",
              "      <td>4</td>\n",
              "    </tr>\n",
              "    <tr>\n",
              "      <th>Closed</th>\n",
              "      <td>422</td>\n",
              "      <td>23809</td>\n",
              "      <td>754</td>\n",
              "    </tr>\n",
              "    <tr>\n",
              "      <th>New</th>\n",
              "      <td>1234</td>\n",
              "      <td>34320</td>\n",
              "      <td>853</td>\n",
              "    </tr>\n",
              "    <tr>\n",
              "      <th>Resolved</th>\n",
              "      <td>580</td>\n",
              "      <td>24424</td>\n",
              "      <td>747</td>\n",
              "    </tr>\n",
              "  </tbody>\n",
              "</table>\n",
              "</div>"
            ],
            "text/plain": [
              "impact              1 - High  2 - Medium  3 - Low\n",
              "incident_state                                   \n",
              "Active                   960       36749     1012\n",
              "Awaiting Evidence          4          32        2\n",
              "Awaiting Problem          32         390       39\n",
              "Awaiting User Info       235       13932      475\n",
              "Awaiting Vendor           24         679        4\n",
              "Closed                   422       23809      754\n",
              "New                     1234       34320      853\n",
              "Resolved                 580       24424      747"
            ]
          },
          "metadata": {
            "tags": []
          },
          "execution_count": 50
        }
      ]
    },
    {
      "cell_type": "code",
      "metadata": {
        "colab": {
          "base_uri": "https://localhost:8080/",
          "height": 362
        },
        "id": "0FnuPEL9uzMU",
        "outputId": "696df7bf-242b-4733-a96a-a34ee84c5e17"
      },
      "source": [
        "ii.plot.bar(stacked=True)\n",
        "plt.show()"
      ],
      "execution_count": null,
      "outputs": [
        {
          "output_type": "display_data",
          "data": {
            "image/png": "[encoded data removed]",
            "text/plain": [
              "<Figure size 432x288 with 1 Axes>"
            ]
          },
          "metadata": {
            "tags": [],
            "needs_background": "light"
          }
        }
      ]
    },
    {
      "cell_type": "code",
      "metadata": {
        "colab": {
          "base_uri": "https://localhost:8080/",
          "height": 138
        },
        "id": "FHRBBOwsuy1c",
        "outputId": "e0ec9105-a5f3-4f2c-a017-f4a817bfe4d8"
      },
      "source": [
        "ai=pd.crosstab(df.active,df.impact)\n",
        "ai"
      ],
      "execution_count": null,
      "outputs": [
        {
          "output_type": "execute_result",
          "data": {
            "text/html": [
              "<div>\n",
              "<style scoped>\n",
              "    .dataframe tbody tr th:only-of-type {\n",
              "        vertical-align: middle;\n",
              "    }\n",
              "\n",
              "    .dataframe tbody tr th {\n",
              "        vertical-align: top;\n",
              "    }\n",
              "\n",
              "    .dataframe thead th {\n",
              "        text-align: right;\n",
              "    }\n",
              "</style>\n",
              "<table border=\"1\" class=\"dataframe\">\n",
              "  <thead>\n",
              "    <tr style=\"text-align: right;\">\n",
              "      <th>impact</th>\n",
              "      <th>1 - High</th>\n",
              "      <th>2 - Medium</th>\n",
              "      <th>3 - Low</th>\n",
              "    </tr>\n",
              "    <tr>\n",
              "      <th>active</th>\n",
              "      <th></th>\n",
              "      <th></th>\n",
              "      <th></th>\n",
              "    </tr>\n",
              "  </thead>\n",
              "  <tbody>\n",
              "    <tr>\n",
              "      <th>False</th>\n",
              "      <td>422</td>\n",
              "      <td>23810</td>\n",
              "      <td>754</td>\n",
              "    </tr>\n",
              "    <tr>\n",
              "      <th>True</th>\n",
              "      <td>3069</td>\n",
              "      <td>110525</td>\n",
              "      <td>3132</td>\n",
              "    </tr>\n",
              "  </tbody>\n",
              "</table>\n",
              "</div>"
            ],
            "text/plain": [
              "impact  1 - High  2 - Medium  3 - Low\n",
              "active                               \n",
              "False        422       23810      754\n",
              "True        3069      110525     3132"
            ]
          },
          "metadata": {
            "tags": []
          },
          "execution_count": 52
        }
      ]
    },
    {
      "cell_type": "code",
      "metadata": {
        "colab": {
          "base_uri": "https://localhost:8080/",
          "height": 295
        },
        "id": "_HktEguFvBiN",
        "outputId": "a800eb9e-e128-421c-d05e-59182eecf081"
      },
      "source": [
        "ai.plot.bar(stacked=True)\n",
        "plt.show()"
      ],
      "execution_count": null,
      "outputs": [
        {
          "output_type": "display_data",
          "data": {
            "image/png": "[encoded data removed]",
            "text/plain": [
              "<Figure size 432x288 with 1 Axes>"
            ]
          },
          "metadata": {
            "tags": [],
            "needs_background": "light"
          }
        }
      ]
    },
    {
      "cell_type": "code",
      "metadata": {
        "colab": {
          "base_uri": "https://localhost:8080/",
          "height": 835
        },
        "id": "YWGdPXsFvBW-",
        "outputId": "b5682730-0c8f-4ba5-f078-6dbf0d0b68db"
      },
      "source": [
        "import ppscore as pps\n",
        "pps.predictors(df,\"impact\") #We can calculate the PPS of all the predictors in the dataframe against a target y"
      ],
      "execution_count": null,
      "outputs": [
        {
          "output_type": "execute_result",
          "data": {
            "text/html": [
              "<div>\n",
              "<style scoped>\n",
              "    .dataframe tbody tr th:only-of-type {\n",
              "        vertical-align: middle;\n",
              "    }\n",
              "\n",
              "    .dataframe tbody tr th {\n",
              "        vertical-align: top;\n",
              "    }\n",
              "\n",
              "    .dataframe thead th {\n",
              "        text-align: right;\n",
              "    }\n",
              "</style>\n",
              "<table border=\"1\" class=\"dataframe\">\n",
              "  <thead>\n",
              "    <tr style=\"text-align: right;\">\n",
              "      <th></th>\n",
              "      <th>x</th>\n",
              "      <th>y</th>\n",
              "      <th>ppscore</th>\n",
              "      <th>case</th>\n",
              "      <th>is_valid_score</th>\n",
              "      <th>metric</th>\n",
              "      <th>baseline_score</th>\n",
              "      <th>model_score</th>\n",
              "      <th>model</th>\n",
              "    </tr>\n",
              "  </thead>\n",
              "  <tbody>\n",
              "    <tr>\n",
              "      <th>0</th>\n",
              "      <td>number</td>\n",
              "      <td>impact</td>\n",
              "      <td>2.112581e-01</td>\n",
              "      <td>classification</td>\n",
              "      <td>True</td>\n",
              "      <td>weighted F1</td>\n",
              "      <td>0.920044</td>\n",
              "      <td>0.936935</td>\n",
              "      <td>DecisionTreeClassifier(ccp_alpha=0.0, class_we...</td>\n",
              "    </tr>\n",
              "    <tr>\n",
              "      <th>1</th>\n",
              "      <td>resolved_at</td>\n",
              "      <td>impact</td>\n",
              "      <td>2.051733e-01</td>\n",
              "      <td>classification</td>\n",
              "      <td>True</td>\n",
              "      <td>weighted F1</td>\n",
              "      <td>0.920044</td>\n",
              "      <td>0.936449</td>\n",
              "      <td>DecisionTreeClassifier(ccp_alpha=0.0, class_we...</td>\n",
              "    </tr>\n",
              "    <tr>\n",
              "      <th>2</th>\n",
              "      <td>opened_at</td>\n",
              "      <td>impact</td>\n",
              "      <td>1.895234e-01</td>\n",
              "      <td>classification</td>\n",
              "      <td>True</td>\n",
              "      <td>weighted F1</td>\n",
              "      <td>0.920044</td>\n",
              "      <td>0.935197</td>\n",
              "      <td>DecisionTreeClassifier(ccp_alpha=0.0, class_we...</td>\n",
              "    </tr>\n",
              "    <tr>\n",
              "      <th>3</th>\n",
              "      <td>resolved_by</td>\n",
              "      <td>impact</td>\n",
              "      <td>9.983906e-02</td>\n",
              "      <td>classification</td>\n",
              "      <td>True</td>\n",
              "      <td>weighted F1</td>\n",
              "      <td>0.920044</td>\n",
              "      <td>0.928026</td>\n",
              "      <td>DecisionTreeClassifier(ccp_alpha=0.0, class_we...</td>\n",
              "    </tr>\n",
              "    <tr>\n",
              "      <th>4</th>\n",
              "      <td>closed_at</td>\n",
              "      <td>impact</td>\n",
              "      <td>7.569195e-02</td>\n",
              "      <td>classification</td>\n",
              "      <td>True</td>\n",
              "      <td>weighted F1</td>\n",
              "      <td>0.920044</td>\n",
              "      <td>0.926096</td>\n",
              "      <td>DecisionTreeClassifier(ccp_alpha=0.0, class_we...</td>\n",
              "    </tr>\n",
              "    <tr>\n",
              "      <th>5</th>\n",
              "      <td>sys_updated_by</td>\n",
              "      <td>impact</td>\n",
              "      <td>5.360893e-02</td>\n",
              "      <td>classification</td>\n",
              "      <td>True</td>\n",
              "      <td>weighted F1</td>\n",
              "      <td>0.920044</td>\n",
              "      <td>0.924330</td>\n",
              "      <td>DecisionTreeClassifier(ccp_alpha=0.0, class_we...</td>\n",
              "    </tr>\n",
              "    <tr>\n",
              "      <th>6</th>\n",
              "      <td>opened_by</td>\n",
              "      <td>impact</td>\n",
              "      <td>5.260372e-02</td>\n",
              "      <td>classification</td>\n",
              "      <td>True</td>\n",
              "      <td>weighted F1</td>\n",
              "      <td>0.920044</td>\n",
              "      <td>0.924250</td>\n",
              "      <td>DecisionTreeClassifier(ccp_alpha=0.0, class_we...</td>\n",
              "    </tr>\n",
              "    <tr>\n",
              "      <th>7</th>\n",
              "      <td>caller_id</td>\n",
              "      <td>impact</td>\n",
              "      <td>3.533860e-02</td>\n",
              "      <td>classification</td>\n",
              "      <td>True</td>\n",
              "      <td>weighted F1</td>\n",
              "      <td>0.920044</td>\n",
              "      <td>0.922869</td>\n",
              "      <td>DecisionTreeClassifier(ccp_alpha=0.0, class_we...</td>\n",
              "    </tr>\n",
              "    <tr>\n",
              "      <th>8</th>\n",
              "      <td>assigned_to</td>\n",
              "      <td>impact</td>\n",
              "      <td>3.497895e-02</td>\n",
              "      <td>classification</td>\n",
              "      <td>True</td>\n",
              "      <td>weighted F1</td>\n",
              "      <td>0.920044</td>\n",
              "      <td>0.922840</td>\n",
              "      <td>DecisionTreeClassifier(ccp_alpha=0.0, class_we...</td>\n",
              "    </tr>\n",
              "    <tr>\n",
              "      <th>9</th>\n",
              "      <td>assignment_group</td>\n",
              "      <td>impact</td>\n",
              "      <td>4.732871e-03</td>\n",
              "      <td>classification</td>\n",
              "      <td>True</td>\n",
              "      <td>weighted F1</td>\n",
              "      <td>0.920044</td>\n",
              "      <td>0.920422</td>\n",
              "      <td>DecisionTreeClassifier(ccp_alpha=0.0, class_we...</td>\n",
              "    </tr>\n",
              "    <tr>\n",
              "      <th>10</th>\n",
              "      <td>location</td>\n",
              "      <td>impact</td>\n",
              "      <td>3.145587e-03</td>\n",
              "      <td>classification</td>\n",
              "      <td>True</td>\n",
              "      <td>weighted F1</td>\n",
              "      <td>0.920044</td>\n",
              "      <td>0.920295</td>\n",
              "      <td>DecisionTreeClassifier(ccp_alpha=0.0, class_we...</td>\n",
              "    </tr>\n",
              "    <tr>\n",
              "      <th>11</th>\n",
              "      <td>u_symptom</td>\n",
              "      <td>impact</td>\n",
              "      <td>2.903694e-03</td>\n",
              "      <td>classification</td>\n",
              "      <td>True</td>\n",
              "      <td>weighted F1</td>\n",
              "      <td>0.920044</td>\n",
              "      <td>0.920276</td>\n",
              "      <td>DecisionTreeClassifier(ccp_alpha=0.0, class_we...</td>\n",
              "    </tr>\n",
              "    <tr>\n",
              "      <th>12</th>\n",
              "      <td>subcategory</td>\n",
              "      <td>impact</td>\n",
              "      <td>2.160913e-03</td>\n",
              "      <td>classification</td>\n",
              "      <td>True</td>\n",
              "      <td>weighted F1</td>\n",
              "      <td>0.920044</td>\n",
              "      <td>0.920216</td>\n",
              "      <td>DecisionTreeClassifier(ccp_alpha=0.0, class_we...</td>\n",
              "    </tr>\n",
              "    <tr>\n",
              "      <th>13</th>\n",
              "      <td>incident_state</td>\n",
              "      <td>impact</td>\n",
              "      <td>4.072724e-07</td>\n",
              "      <td>classification</td>\n",
              "      <td>True</td>\n",
              "      <td>weighted F1</td>\n",
              "      <td>0.920044</td>\n",
              "      <td>0.920044</td>\n",
              "      <td>DecisionTreeClassifier(ccp_alpha=0.0, class_we...</td>\n",
              "    </tr>\n",
              "    <tr>\n",
              "      <th>14</th>\n",
              "      <td>active</td>\n",
              "      <td>impact</td>\n",
              "      <td>4.072724e-07</td>\n",
              "      <td>classification</td>\n",
              "      <td>True</td>\n",
              "      <td>weighted F1</td>\n",
              "      <td>0.920044</td>\n",
              "      <td>0.920044</td>\n",
              "      <td>DecisionTreeClassifier(ccp_alpha=0.0, class_we...</td>\n",
              "    </tr>\n",
              "    <tr>\n",
              "      <th>15</th>\n",
              "      <td>reassignment_count</td>\n",
              "      <td>impact</td>\n",
              "      <td>4.072724e-07</td>\n",
              "      <td>classification</td>\n",
              "      <td>True</td>\n",
              "      <td>weighted F1</td>\n",
              "      <td>0.920044</td>\n",
              "      <td>0.920044</td>\n",
              "      <td>DecisionTreeClassifier(ccp_alpha=0.0, class_we...</td>\n",
              "    </tr>\n",
              "    <tr>\n",
              "      <th>16</th>\n",
              "      <td>reopen_count</td>\n",
              "      <td>impact</td>\n",
              "      <td>4.072724e-07</td>\n",
              "      <td>classification</td>\n",
              "      <td>True</td>\n",
              "      <td>weighted F1</td>\n",
              "      <td>0.920044</td>\n",
              "      <td>0.920044</td>\n",
              "      <td>DecisionTreeClassifier(ccp_alpha=0.0, class_we...</td>\n",
              "    </tr>\n",
              "    <tr>\n",
              "      <th>17</th>\n",
              "      <td>made_sla</td>\n",
              "      <td>impact</td>\n",
              "      <td>4.072724e-07</td>\n",
              "      <td>classification</td>\n",
              "      <td>True</td>\n",
              "      <td>weighted F1</td>\n",
              "      <td>0.920044</td>\n",
              "      <td>0.920044</td>\n",
              "      <td>DecisionTreeClassifier(ccp_alpha=0.0, class_we...</td>\n",
              "    </tr>\n",
              "    <tr>\n",
              "      <th>18</th>\n",
              "      <td>contact_type</td>\n",
              "      <td>impact</td>\n",
              "      <td>4.072724e-07</td>\n",
              "      <td>classification</td>\n",
              "      <td>True</td>\n",
              "      <td>weighted F1</td>\n",
              "      <td>0.920044</td>\n",
              "      <td>0.920044</td>\n",
              "      <td>DecisionTreeClassifier(ccp_alpha=0.0, class_we...</td>\n",
              "    </tr>\n",
              "    <tr>\n",
              "      <th>19</th>\n",
              "      <td>knowledge</td>\n",
              "      <td>impact</td>\n",
              "      <td>4.072724e-07</td>\n",
              "      <td>classification</td>\n",
              "      <td>True</td>\n",
              "      <td>weighted F1</td>\n",
              "      <td>0.920044</td>\n",
              "      <td>0.920044</td>\n",
              "      <td>DecisionTreeClassifier(ccp_alpha=0.0, class_we...</td>\n",
              "    </tr>\n",
              "    <tr>\n",
              "      <th>20</th>\n",
              "      <td>u_priority_confirmation</td>\n",
              "      <td>impact</td>\n",
              "      <td>4.072724e-07</td>\n",
              "      <td>classification</td>\n",
              "      <td>True</td>\n",
              "      <td>weighted F1</td>\n",
              "      <td>0.920044</td>\n",
              "      <td>0.920044</td>\n",
              "      <td>DecisionTreeClassifier(ccp_alpha=0.0, class_we...</td>\n",
              "    </tr>\n",
              "    <tr>\n",
              "      <th>21</th>\n",
              "      <td>notify</td>\n",
              "      <td>impact</td>\n",
              "      <td>4.072724e-07</td>\n",
              "      <td>classification</td>\n",
              "      <td>True</td>\n",
              "      <td>weighted F1</td>\n",
              "      <td>0.920044</td>\n",
              "      <td>0.920044</td>\n",
              "      <td>DecisionTreeClassifier(ccp_alpha=0.0, class_we...</td>\n",
              "    </tr>\n",
              "    <tr>\n",
              "      <th>22</th>\n",
              "      <td>closed_code</td>\n",
              "      <td>impact</td>\n",
              "      <td>4.072724e-07</td>\n",
              "      <td>classification</td>\n",
              "      <td>True</td>\n",
              "      <td>weighted F1</td>\n",
              "      <td>0.920044</td>\n",
              "      <td>0.920044</td>\n",
              "      <td>DecisionTreeClassifier(ccp_alpha=0.0, class_we...</td>\n",
              "    </tr>\n",
              "    <tr>\n",
              "      <th>23</th>\n",
              "      <td>sys_mod_count</td>\n",
              "      <td>impact</td>\n",
              "      <td>0.000000e+00</td>\n",
              "      <td>classification</td>\n",
              "      <td>True</td>\n",
              "      <td>weighted F1</td>\n",
              "      <td>0.920044</td>\n",
              "      <td>0.919644</td>\n",
              "      <td>DecisionTreeClassifier(ccp_alpha=0.0, class_we...</td>\n",
              "    </tr>\n",
              "    <tr>\n",
              "      <th>24</th>\n",
              "      <td>sys_updated_at</td>\n",
              "      <td>impact</td>\n",
              "      <td>0.000000e+00</td>\n",
              "      <td>classification</td>\n",
              "      <td>True</td>\n",
              "      <td>weighted F1</td>\n",
              "      <td>0.920044</td>\n",
              "      <td>0.918283</td>\n",
              "      <td>DecisionTreeClassifier(ccp_alpha=0.0, class_we...</td>\n",
              "    </tr>\n",
              "    <tr>\n",
              "      <th>25</th>\n",
              "      <td>category</td>\n",
              "      <td>impact</td>\n",
              "      <td>0.000000e+00</td>\n",
              "      <td>classification</td>\n",
              "      <td>True</td>\n",
              "      <td>weighted F1</td>\n",
              "      <td>0.920044</td>\n",
              "      <td>0.919543</td>\n",
              "      <td>DecisionTreeClassifier(ccp_alpha=0.0, class_we...</td>\n",
              "    </tr>\n",
              "  </tbody>\n",
              "</table>\n",
              "</div>"
            ],
            "text/plain": [
              "                          x  ...                                              model\n",
              "0                    number  ...  DecisionTreeClassifier(ccp_alpha=0.0, class_we...\n",
              "1               resolved_at  ...  DecisionTreeClassifier(ccp_alpha=0.0, class_we...\n",
              "2                 opened_at  ...  DecisionTreeClassifier(ccp_alpha=0.0, class_we...\n",
              "3               resolved_by  ...  DecisionTreeClassifier(ccp_alpha=0.0, class_we...\n",
              "4                 closed_at  ...  DecisionTreeClassifier(ccp_alpha=0.0, class_we...\n",
              "5            sys_updated_by  ...  DecisionTreeClassifier(ccp_alpha=0.0, class_we...\n",
              "6                 opened_by  ...  DecisionTreeClassifier(ccp_alpha=0.0, class_we...\n",
              "7                 caller_id  ...  DecisionTreeClassifier(ccp_alpha=0.0, class_we...\n",
              "8               assigned_to  ...  DecisionTreeClassifier(ccp_alpha=0.0, class_we...\n",
              "9          assignment_group  ...  DecisionTreeClassifier(ccp_alpha=0.0, class_we...\n",
              "10                 location  ...  DecisionTreeClassifier(ccp_alpha=0.0, class_we...\n",
              "11                u_symptom  ...  DecisionTreeClassifier(ccp_alpha=0.0, class_we...\n",
              "12              subcategory  ...  DecisionTreeClassifier(ccp_alpha=0.0, class_we...\n",
              "13           incident_state  ...  DecisionTreeClassifier(ccp_alpha=0.0, class_we...\n",
              "14                   active  ...  DecisionTreeClassifier(ccp_alpha=0.0, class_we...\n",
              "15       reassignment_count  ...  DecisionTreeClassifier(ccp_alpha=0.0, class_we...\n",
              "16             reopen_count  ...  DecisionTreeClassifier(ccp_alpha=0.0, class_we...\n",
              "17                 made_sla  ...  DecisionTreeClassifier(ccp_alpha=0.0, class_we...\n",
              "18             contact_type  ...  DecisionTreeClassifier(ccp_alpha=0.0, class_we...\n",
              "19                knowledge  ...  DecisionTreeClassifier(ccp_alpha=0.0, class_we...\n",
              "20  u_priority_confirmation  ...  DecisionTreeClassifier(ccp_alpha=0.0, class_we...\n",
              "21                   notify  ...  DecisionTreeClassifier(ccp_alpha=0.0, class_we...\n",
              "22              closed_code  ...  DecisionTreeClassifier(ccp_alpha=0.0, class_we...\n",
              "23            sys_mod_count  ...  DecisionTreeClassifier(ccp_alpha=0.0, class_we...\n",
              "24           sys_updated_at  ...  DecisionTreeClassifier(ccp_alpha=0.0, class_we...\n",
              "25                 category  ...  DecisionTreeClassifier(ccp_alpha=0.0, class_we...\n",
              "\n",
              "[26 rows x 9 columns]"
            ]
          },
          "metadata": {
            "tags": []
          },
          "execution_count": 54
        }
      ]
    },
    {
      "cell_type": "markdown",
      "metadata": {
        "id": "PB2h6_0bsAWN"
      },
      "source": [
        "# Encoding the Data"
      ]
    },
    {
      "cell_type": "code",
      "metadata": {
        "id": "rCcMoCKklHQH"
      },
      "source": [
        "#encoding the data using inbuilt coding\n",
        "df['impact'].replace({'1 - High':1,'2 - Medium':2, '3 - Low':3},inplace=True)"
      ],
      "execution_count": null,
      "outputs": []
    },
    {
      "cell_type": "code",
      "metadata": {
        "id": "sSDjvFu_tpvt"
      },
      "source": [
        "bool_c = df.select_dtypes(include = 'bool').columns"
      ],
      "execution_count": null,
      "outputs": []
    },
    {
      "cell_type": "code",
      "metadata": {
        "id": "35QrWsGWlL0a"
      },
      "source": [
        "for i in bool_c:\n",
        "    df[bool_c] = df[bool_c].astype('int')"
      ],
      "execution_count": null,
      "outputs": []
    },
    {
      "cell_type": "code",
      "metadata": {
        "id": "sg24q-mRlUhy"
      },
      "source": [
        "from sklearn import preprocessing"
      ],
      "execution_count": null,
      "outputs": []
    },
    {
      "cell_type": "code",
      "metadata": {
        "id": "48z860nVlV4x"
      },
      "source": [
        "label_encoder=preprocessing.LabelEncoder()"
      ],
      "execution_count": null,
      "outputs": []
    },
    {
      "cell_type": "code",
      "metadata": {
        "id": "DIJjen6mvh9s"
      },
      "source": [
        "for column_name in df.columns:\n",
        "    if df[column_name].dtype == object:\n",
        "        df[column_name] = label_encoder.fit_transform(df[column_name])\n",
        "    else:\n",
        "        pass"
      ],
      "execution_count": null,
      "outputs": []
    },
    {
      "cell_type": "code",
      "metadata": {
        "colab": {
          "base_uri": "https://localhost:8080/"
        },
        "id": "5rpbbsn9vEO8",
        "outputId": "b0b3df43-fe7f-4102-9b26-3c76af8c9536"
      },
      "source": [
        "df.info()"
      ],
      "execution_count": null,
      "outputs": [
        {
          "output_type": "stream",
          "text": [
            "<class 'pandas.core.frame.DataFrame'>\n",
            "Int64Index: 141712 entries, 0 to 141711\n",
            "Data columns (total 27 columns):\n",
            " #   Column                   Non-Null Count   Dtype\n",
            "---  ------                   --------------   -----\n",
            " 0   number                   141712 non-null  int64\n",
            " 1   incident_state           141712 non-null  int64\n",
            " 2   active                   141712 non-null  int64\n",
            " 3   reassignment_count       141712 non-null  int64\n",
            " 4   reopen_count             141712 non-null  int64\n",
            " 5   sys_mod_count            141712 non-null  int64\n",
            " 6   made_sla                 141712 non-null  int64\n",
            " 7   caller_id                141712 non-null  int64\n",
            " 8   opened_by                141712 non-null  int64\n",
            " 9   opened_at                141712 non-null  int64\n",
            " 10  sys_updated_by           141712 non-null  int64\n",
            " 11  sys_updated_at           141712 non-null  int64\n",
            " 12  contact_type             141712 non-null  int64\n",
            " 13  location                 141712 non-null  int64\n",
            " 14  category                 141712 non-null  int64\n",
            " 15  subcategory              141712 non-null  int64\n",
            " 16  u_symptom                141712 non-null  int64\n",
            " 17  impact                   141712 non-null  int64\n",
            " 18  assignment_group         141712 non-null  int64\n",
            " 19  assigned_to              141712 non-null  int64\n",
            " 20  knowledge                141712 non-null  int64\n",
            " 21  u_priority_confirmation  141712 non-null  int64\n",
            " 22  notify                   141712 non-null  int64\n",
            " 23  closed_code              141712 non-null  int64\n",
            " 24  resolved_by              141712 non-null  int64\n",
            " 25  resolved_at              141712 non-null  int64\n",
            " 26  closed_at                141712 non-null  int64\n",
            "dtypes: int64(27)\n",
            "memory usage: 35.3 MB\n"
          ],
          "name": "stdout"
        }
      ]
    },
    {
      "cell_type": "code",
      "metadata": {
        "colab": {
          "base_uri": "https://localhost:8080/"
        },
        "id": "TjtfF8QylZtG",
        "outputId": "dda422b1-51ca-4c0b-c77b-d137692189ee"
      },
      "source": [
        "df['impact'].unique()"
      ],
      "execution_count": null,
      "outputs": [
        {
          "output_type": "execute_result",
          "data": {
            "text/plain": [
              "array([2, 1, 3])"
            ]
          },
          "metadata": {
            "tags": []
          },
          "execution_count": 62
        }
      ]
    },
    {
      "cell_type": "code",
      "metadata": {
        "id": "_DqwaDcRlc5U"
      },
      "source": [
        "df1=df.copy()"
      ],
      "execution_count": null,
      "outputs": []
    },
    {
      "cell_type": "code",
      "metadata": {
        "id": "04odd1WKvs9u"
      },
      "source": [
        "df.to_csv(\"incidents.csv\")"
      ],
      "execution_count": null,
      "outputs": []
    },
    {
      "cell_type": "markdown",
      "metadata": {
        "id": "-GdA9PfJx_hX"
      },
      "source": [
        "## Converting data into X(features), and y(target column)"
      ]
    },
    {
      "cell_type": "code",
      "metadata": {
        "id": "HyKX4hrwlgpO"
      },
      "source": [
        "X=df.drop('impact', axis = 1)"
      ],
      "execution_count": null,
      "outputs": []
    },
    {
      "cell_type": "code",
      "metadata": {
        "id": "mClwyPGAlh2d"
      },
      "source": [
        "y=df.iloc[:,17]"
      ],
      "execution_count": null,
      "outputs": []
    },
    {
      "cell_type": "code",
      "metadata": {
        "colab": {
          "base_uri": "https://localhost:8080/",
          "height": 220
        },
        "id": "FftFx1zpljEd",
        "outputId": "bf5ae3a0-3a05-4c76-8a84-afd391d41211"
      },
      "source": [
        "X.head()"
      ],
      "execution_count": null,
      "outputs": [
        {
          "output_type": "execute_result",
          "data": {
            "text/html": [
              "<div>\n",
              "<style scoped>\n",
              "    .dataframe tbody tr th:only-of-type {\n",
              "        vertical-align: middle;\n",
              "    }\n",
              "\n",
              "    .dataframe tbody tr th {\n",
              "        vertical-align: top;\n",
              "    }\n",
              "\n",
              "    .dataframe thead th {\n",
              "        text-align: right;\n",
              "    }\n",
              "</style>\n",
              "<table border=\"1\" class=\"dataframe\">\n",
              "  <thead>\n",
              "    <tr style=\"text-align: right;\">\n",
              "      <th></th>\n",
              "      <th>number</th>\n",
              "      <th>incident_state</th>\n",
              "      <th>active</th>\n",
              "      <th>reassignment_count</th>\n",
              "      <th>reopen_count</th>\n",
              "      <th>sys_mod_count</th>\n",
              "      <th>made_sla</th>\n",
              "      <th>caller_id</th>\n",
              "      <th>opened_by</th>\n",
              "      <th>opened_at</th>\n",
              "      <th>sys_updated_by</th>\n",
              "      <th>sys_updated_at</th>\n",
              "      <th>contact_type</th>\n",
              "      <th>location</th>\n",
              "      <th>category</th>\n",
              "      <th>subcategory</th>\n",
              "      <th>u_symptom</th>\n",
              "      <th>assignment_group</th>\n",
              "      <th>assigned_to</th>\n",
              "      <th>knowledge</th>\n",
              "      <th>u_priority_confirmation</th>\n",
              "      <th>notify</th>\n",
              "      <th>closed_code</th>\n",
              "      <th>resolved_by</th>\n",
              "      <th>resolved_at</th>\n",
              "      <th>closed_at</th>\n",
              "    </tr>\n",
              "  </thead>\n",
              "  <tbody>\n",
              "    <tr>\n",
              "      <th>0</th>\n",
              "      <td>0</td>\n",
              "      <td>6</td>\n",
              "      <td>1</td>\n",
              "      <td>0</td>\n",
              "      <td>0</td>\n",
              "      <td>0</td>\n",
              "      <td>1</td>\n",
              "      <td>1462</td>\n",
              "      <td>200</td>\n",
              "      <td>1435</td>\n",
              "      <td>104</td>\n",
              "      <td>33112</td>\n",
              "      <td>3</td>\n",
              "      <td>43</td>\n",
              "      <td>46</td>\n",
              "      <td>69</td>\n",
              "      <td>502</td>\n",
              "      <td>47</td>\n",
              "      <td>162</td>\n",
              "      <td>1</td>\n",
              "      <td>0</td>\n",
              "      <td>0</td>\n",
              "      <td>12</td>\n",
              "      <td>51</td>\n",
              "      <td>1262</td>\n",
              "      <td>2209</td>\n",
              "    </tr>\n",
              "    <tr>\n",
              "      <th>1</th>\n",
              "      <td>0</td>\n",
              "      <td>7</td>\n",
              "      <td>1</td>\n",
              "      <td>0</td>\n",
              "      <td>0</td>\n",
              "      <td>2</td>\n",
              "      <td>1</td>\n",
              "      <td>1462</td>\n",
              "      <td>200</td>\n",
              "      <td>1435</td>\n",
              "      <td>509</td>\n",
              "      <td>33150</td>\n",
              "      <td>3</td>\n",
              "      <td>43</td>\n",
              "      <td>46</td>\n",
              "      <td>69</td>\n",
              "      <td>502</td>\n",
              "      <td>47</td>\n",
              "      <td>162</td>\n",
              "      <td>1</td>\n",
              "      <td>0</td>\n",
              "      <td>0</td>\n",
              "      <td>12</td>\n",
              "      <td>51</td>\n",
              "      <td>1262</td>\n",
              "      <td>2209</td>\n",
              "    </tr>\n",
              "    <tr>\n",
              "      <th>2</th>\n",
              "      <td>0</td>\n",
              "      <td>7</td>\n",
              "      <td>1</td>\n",
              "      <td>0</td>\n",
              "      <td>0</td>\n",
              "      <td>3</td>\n",
              "      <td>1</td>\n",
              "      <td>1462</td>\n",
              "      <td>200</td>\n",
              "      <td>1435</td>\n",
              "      <td>658</td>\n",
              "      <td>33241</td>\n",
              "      <td>3</td>\n",
              "      <td>43</td>\n",
              "      <td>46</td>\n",
              "      <td>69</td>\n",
              "      <td>502</td>\n",
              "      <td>47</td>\n",
              "      <td>162</td>\n",
              "      <td>1</td>\n",
              "      <td>0</td>\n",
              "      <td>0</td>\n",
              "      <td>12</td>\n",
              "      <td>51</td>\n",
              "      <td>1262</td>\n",
              "      <td>2209</td>\n",
              "    </tr>\n",
              "    <tr>\n",
              "      <th>3</th>\n",
              "      <td>0</td>\n",
              "      <td>5</td>\n",
              "      <td>0</td>\n",
              "      <td>0</td>\n",
              "      <td>0</td>\n",
              "      <td>4</td>\n",
              "      <td>1</td>\n",
              "      <td>1462</td>\n",
              "      <td>200</td>\n",
              "      <td>1435</td>\n",
              "      <td>762</td>\n",
              "      <td>41838</td>\n",
              "      <td>3</td>\n",
              "      <td>43</td>\n",
              "      <td>46</td>\n",
              "      <td>69</td>\n",
              "      <td>502</td>\n",
              "      <td>47</td>\n",
              "      <td>162</td>\n",
              "      <td>1</td>\n",
              "      <td>0</td>\n",
              "      <td>0</td>\n",
              "      <td>12</td>\n",
              "      <td>51</td>\n",
              "      <td>1262</td>\n",
              "      <td>2209</td>\n",
              "    </tr>\n",
              "    <tr>\n",
              "      <th>4</th>\n",
              "      <td>1</td>\n",
              "      <td>6</td>\n",
              "      <td>1</td>\n",
              "      <td>0</td>\n",
              "      <td>0</td>\n",
              "      <td>0</td>\n",
              "      <td>1</td>\n",
              "      <td>1462</td>\n",
              "      <td>120</td>\n",
              "      <td>1436</td>\n",
              "      <td>605</td>\n",
              "      <td>33113</td>\n",
              "      <td>3</td>\n",
              "      <td>62</td>\n",
              "      <td>30</td>\n",
              "      <td>112</td>\n",
              "      <td>352</td>\n",
              "      <td>63</td>\n",
              "      <td>224</td>\n",
              "      <td>1</td>\n",
              "      <td>0</td>\n",
              "      <td>0</td>\n",
              "      <td>12</td>\n",
              "      <td>196</td>\n",
              "      <td>17</td>\n",
              "      <td>2317</td>\n",
              "    </tr>\n",
              "  </tbody>\n",
              "</table>\n",
              "</div>"
            ],
            "text/plain": [
              "   number  incident_state  active  ...  resolved_by  resolved_at  closed_at\n",
              "0       0               6       1  ...           51         1262       2209\n",
              "1       0               7       1  ...           51         1262       2209\n",
              "2       0               7       1  ...           51         1262       2209\n",
              "3       0               5       0  ...           51         1262       2209\n",
              "4       1               6       1  ...          196           17       2317\n",
              "\n",
              "[5 rows x 26 columns]"
            ]
          },
          "metadata": {
            "tags": []
          },
          "execution_count": 67
        }
      ]
    },
    {
      "cell_type": "code",
      "metadata": {
        "colab": {
          "base_uri": "https://localhost:8080/"
        },
        "id": "lbQKr8xRllYH",
        "outputId": "3c5e9fb4-66c4-416b-c507-b4cf3cb219a5"
      },
      "source": [
        "y"
      ],
      "execution_count": null,
      "outputs": [
        {
          "output_type": "execute_result",
          "data": {
            "text/plain": [
              "0         2\n",
              "1         2\n",
              "2         2\n",
              "3         2\n",
              "4         2\n",
              "         ..\n",
              "141707    2\n",
              "141708    2\n",
              "141709    2\n",
              "141710    2\n",
              "141711    2\n",
              "Name: impact, Length: 141712, dtype: int64"
            ]
          },
          "metadata": {
            "tags": []
          },
          "execution_count": 68
        }
      ]
    },
    {
      "cell_type": "code",
      "metadata": {
        "colab": {
          "base_uri": "https://localhost:8080/"
        },
        "id": "r7S0H2Helmc3",
        "outputId": "b997b3e2-5f10-4561-9f46-d2b15a353a72"
      },
      "source": [
        "y.value_counts()"
      ],
      "execution_count": null,
      "outputs": [
        {
          "output_type": "execute_result",
          "data": {
            "text/plain": [
              "2    134335\n",
              "3      3886\n",
              "1      3491\n",
              "Name: impact, dtype: int64"
            ]
          },
          "metadata": {
            "tags": []
          },
          "execution_count": 69
        }
      ]
    },
    {
      "cell_type": "code",
      "metadata": {
        "colab": {
          "base_uri": "https://localhost:8080/",
          "height": 263
        },
        "id": "0FTKNatylo0o",
        "outputId": "b8212cb2-13a8-43ab-8642-4b39cd64ca19"
      },
      "source": [
        "#Pie chart\n",
        "data.impact.value_counts().plot.pie(autopct = '%.2f')"
      ],
      "execution_count": null,
      "outputs": [
        {
          "output_type": "execute_result",
          "data": {
            "text/plain": [
              "<matplotlib.axes._subplots.AxesSubplot at 0x7f11ff397e50>"
            ]
          },
          "metadata": {
            "tags": []
          },
          "execution_count": 70
        },
        {
          "output_type": "display_data",
          "data": {
            "image/png": "[encoded data removed]",
            "text/plain": [
              "<Figure size 432x288 with 1 Axes>"
            ]
          },
          "metadata": {
            "tags": []
          }
        }
      ]
    },
    {
      "cell_type": "markdown",
      "metadata": {
        "id": "2oUQfPPtytij"
      },
      "source": [
        "###We split the data into train & test in the ratio of 90:10 and saving test data for final modelling\n",
        "\n"
      ]
    },
    {
      "cell_type": "code",
      "metadata": {
        "id": "PsPHlpe85kQe"
      },
      "source": [
        "from collections import Counter\n",
        "from sklearn.model_selection import train_test_split\n",
        "X_train,X_test,y_train,y_test=train_test_split(X, y,test_size=0.10,random_state=20)"
      ],
      "execution_count": null,
      "outputs": []
    },
    {
      "cell_type": "code",
      "metadata": {
        "colab": {
          "base_uri": "https://localhost:8080/"
        },
        "id": "D1SMssEP5llN",
        "outputId": "6bf3f3cf-df3a-43f6-dc30-61240e4bfd44"
      },
      "source": [
        "X_train.shape,X_test.shape,y_train.shape,y_test.shape"
      ],
      "execution_count": null,
      "outputs": [
        {
          "output_type": "execute_result",
          "data": {
            "text/plain": [
              "((127540, 26), (14172, 26), (127540,), (14172,))"
            ]
          },
          "metadata": {
            "tags": []
          },
          "execution_count": 72
        }
      ]
    },
    {
      "cell_type": "code",
      "metadata": {
        "colab": {
          "base_uri": "https://localhost:8080/"
        },
        "id": "Kh1d6H0O7WRm",
        "outputId": "a15fa16f-5a6f-46c9-c9b5-e06a22129c94"
      },
      "source": [
        "Counter(y_test)"
      ],
      "execution_count": null,
      "outputs": [
        {
          "output_type": "execute_result",
          "data": {
            "text/plain": [
              "Counter({1: 313, 2: 13448, 3: 411})"
            ]
          },
          "metadata": {
            "tags": []
          },
          "execution_count": 73
        }
      ]
    },
    {
      "cell_type": "markdown",
      "metadata": {
        "id": "8oBj5VaizdPO"
      },
      "source": [
        "# Balancing the Data"
      ]
    },
    {
      "cell_type": "code",
      "metadata": {
        "id": "NDQqY0yblsf-"
      },
      "source": [
        "from collections import Counter\n",
        "from imblearn.combine import SMOTETomek\n",
        "from sklearn.datasets import make_classification"
      ],
      "execution_count": null,
      "outputs": []
    },
    {
      "cell_type": "markdown",
      "metadata": {
        "id": "dGbHXmeyznqP"
      },
      "source": [
        "Using SMOTETomek"
      ]
    },
    {
      "cell_type": "code",
      "metadata": {
        "colab": {
          "base_uri": "https://localhost:8080/"
        },
        "id": "QiMgDJEUlugV",
        "outputId": "6913911d-06d9-4bb9-c102-64f529eea748"
      },
      "source": [
        "print('Original data set shape %s' % Counter(y_train))\n",
        "smt = SMOTETomek(sampling_strategy='all',random_state=42)\n",
        "X_res, y_res = smt.fit_resample(X_train, y_train)\n",
        "print('Resampled dataset shape %s' % Counter(y_res))"
      ],
      "execution_count": null,
      "outputs": [
        {
          "output_type": "stream",
          "text": [
            "Original data set shape Counter({2: 120887, 3: 3475, 1: 3178})\n",
            "Resampled dataset shape Counter({3: 120789, 1: 120775, 2: 120681})\n"
          ],
          "name": "stdout"
        }
      ]
    },
    {
      "cell_type": "code",
      "metadata": {
        "colab": {
          "base_uri": "https://localhost:8080/",
          "height": 295
        },
        "id": "LJ7mTHtJlv_w",
        "outputId": "485dbcee-6dfb-4f26-c723-56cca12d69e1"
      },
      "source": [
        "sns.countplot(y_train)"
      ],
      "execution_count": null,
      "outputs": [
        {
          "output_type": "execute_result",
          "data": {
            "text/plain": [
              "<matplotlib.axes._subplots.AxesSubplot at 0x7f11fe1f7150>"
            ]
          },
          "metadata": {
            "tags": []
          },
          "execution_count": 76
        },
        {
          "output_type": "display_data",
          "data": {
            "image/png": "[encoded data removed]",
            "text/plain": [
              "<Figure size 432x288 with 1 Axes>"
            ]
          },
          "metadata": {
            "tags": [],
            "needs_background": "light"
          }
        }
      ]
    },
    {
      "cell_type": "code",
      "metadata": {
        "id": "TAblHjr9mOPB"
      },
      "source": [
        "y_res = pd.DataFrame(y_res)"
      ],
      "execution_count": null,
      "outputs": []
    },
    {
      "cell_type": "code",
      "metadata": {
        "colab": {
          "base_uri": "https://localhost:8080/",
          "height": 408
        },
        "id": "HOYifSPkoIeX",
        "outputId": "42af6316-8251-45ed-a267-ebd8d6c9c8d3"
      },
      "source": [
        "y_res"
      ],
      "execution_count": null,
      "outputs": [
        {
          "output_type": "execute_result",
          "data": {
            "text/html": [
              "<div>\n",
              "<style scoped>\n",
              "    .dataframe tbody tr th:only-of-type {\n",
              "        vertical-align: middle;\n",
              "    }\n",
              "\n",
              "    .dataframe tbody tr th {\n",
              "        vertical-align: top;\n",
              "    }\n",
              "\n",
              "    .dataframe thead th {\n",
              "        text-align: right;\n",
              "    }\n",
              "</style>\n",
              "<table border=\"1\" class=\"dataframe\">\n",
              "  <thead>\n",
              "    <tr style=\"text-align: right;\">\n",
              "      <th></th>\n",
              "      <th>0</th>\n",
              "    </tr>\n",
              "  </thead>\n",
              "  <tbody>\n",
              "    <tr>\n",
              "      <th>0</th>\n",
              "      <td>2</td>\n",
              "    </tr>\n",
              "    <tr>\n",
              "      <th>1</th>\n",
              "      <td>2</td>\n",
              "    </tr>\n",
              "    <tr>\n",
              "      <th>2</th>\n",
              "      <td>2</td>\n",
              "    </tr>\n",
              "    <tr>\n",
              "      <th>3</th>\n",
              "      <td>2</td>\n",
              "    </tr>\n",
              "    <tr>\n",
              "      <th>4</th>\n",
              "      <td>2</td>\n",
              "    </tr>\n",
              "    <tr>\n",
              "      <th>...</th>\n",
              "      <td>...</td>\n",
              "    </tr>\n",
              "    <tr>\n",
              "      <th>362240</th>\n",
              "      <td>3</td>\n",
              "    </tr>\n",
              "    <tr>\n",
              "      <th>362241</th>\n",
              "      <td>3</td>\n",
              "    </tr>\n",
              "    <tr>\n",
              "      <th>362242</th>\n",
              "      <td>3</td>\n",
              "    </tr>\n",
              "    <tr>\n",
              "      <th>362243</th>\n",
              "      <td>3</td>\n",
              "    </tr>\n",
              "    <tr>\n",
              "      <th>362244</th>\n",
              "      <td>3</td>\n",
              "    </tr>\n",
              "  </tbody>\n",
              "</table>\n",
              "<p>362245 rows × 1 columns</p>\n",
              "</div>"
            ],
            "text/plain": [
              "        0\n",
              "0       2\n",
              "1       2\n",
              "2       2\n",
              "3       2\n",
              "4       2\n",
              "...    ..\n",
              "362240  3\n",
              "362241  3\n",
              "362242  3\n",
              "362243  3\n",
              "362244  3\n",
              "\n",
              "[362245 rows x 1 columns]"
            ]
          },
          "metadata": {
            "tags": []
          },
          "execution_count": 78
        }
      ]
    },
    {
      "cell_type": "code",
      "metadata": {
        "colab": {
          "base_uri": "https://localhost:8080/",
          "height": 263
        },
        "id": "_DplGiMPmzam",
        "outputId": "09628f1d-3308-4932-e7fb-3c9b3c00ae9b"
      },
      "source": [
        "#Pie chart\n",
        "y_res.value_counts().plot.pie(autopct = '%.2f')"
      ],
      "execution_count": null,
      "outputs": [
        {
          "output_type": "execute_result",
          "data": {
            "text/plain": [
              "<matplotlib.axes._subplots.AxesSubplot at 0x7f11fe343750>"
            ]
          },
          "metadata": {
            "tags": []
          },
          "execution_count": 79
        },
        {
          "output_type": "display_data",
          "data": {
            "image/png": "[encoded data removed]",
            "text/plain": [
              "<Figure size 432x288 with 1 Axes>"
            ]
          },
          "metadata": {
            "tags": []
          }
        }
      ]
    },
    {
      "cell_type": "code",
      "metadata": {
        "colab": {
          "base_uri": "https://localhost:8080/",
          "height": 295
        },
        "id": "dw-lqUp9nqt_",
        "outputId": "83459e6f-1e54-4046-f0a4-fc6b99d6917f"
      },
      "source": [
        "sns.countplot(y_res.iloc[:,0])"
      ],
      "execution_count": null,
      "outputs": [
        {
          "output_type": "execute_result",
          "data": {
            "text/plain": [
              "<matplotlib.axes._subplots.AxesSubplot at 0x7f11fe309a50>"
            ]
          },
          "metadata": {
            "tags": []
          },
          "execution_count": 80
        },
        {
          "output_type": "display_data",
          "data": {
            "image/png": "[encoded data removed]",
            "text/plain": [
              "<Figure size 432x288 with 1 Axes>"
            ]
          },
          "metadata": {
            "tags": [],
            "needs_background": "light"
          }
        }
      ]
    },
    {
      "cell_type": "markdown",
      "metadata": {
        "id": "yZsOU3N10gUB"
      },
      "source": [
        "#Feature Extraction using RFE method"
      ]
    },
    {
      "cell_type": "code",
      "metadata": {
        "id": "7AxT_FNfpLQk"
      },
      "source": [
        "from sklearn.feature_selection import RFE\n",
        "from sklearn.linear_model import LogisticRegression"
      ],
      "execution_count": null,
      "outputs": []
    },
    {
      "cell_type": "code",
      "metadata": {
        "colab": {
          "base_uri": "https://localhost:8080/"
        },
        "id": "AIqy83IGqdru",
        "outputId": "cffc4479-f3d1-4352-e406-471d3ba3446d"
      },
      "source": [
        "model_rfe=LogisticRegression(max_iter=50)  # max_iter=100 by default\n",
        "rfe=RFE(model_rfe)\n",
        "fit=rfe.fit(X_res, y_res)\n",
        "print(fit.support_)\n",
        "print(fit.ranking_)"
      ],
      "execution_count": null,
      "outputs": [
        {
          "output_type": "stream",
          "text": [
            "[ True False False False False  True False False  True False  True False\n",
            " False  True  True  True  True  True  True False False False False  True\n",
            "  True  True]\n",
            "[ 1  5 11  2 13  1  9  3  1  7  1  8 12  1  1  1  1  1  1 10  6 14  4  1\n",
            "  1  1]\n"
          ],
          "name": "stdout"
        }
      ]
    },
    {
      "cell_type": "code",
      "metadata": {
        "colab": {
          "base_uri": "https://localhost:8080/"
        },
        "id": "iKl61TgTrsam",
        "outputId": "1421c107-56b3-4d53-eb7d-afae852f8c1a"
      },
      "source": [
        "Rank = pd.Series(fit.ranking_).sort_values()\n",
        "Rank"
      ],
      "execution_count": null,
      "outputs": [
        {
          "output_type": "execute_result",
          "data": {
            "text/plain": [
              "0      1\n",
              "23     1\n",
              "18     1\n",
              "17     1\n",
              "16     1\n",
              "15     1\n",
              "14     1\n",
              "13     1\n",
              "24     1\n",
              "10     1\n",
              "25     1\n",
              "8      1\n",
              "5      1\n",
              "3      2\n",
              "7      3\n",
              "22     4\n",
              "1      5\n",
              "20     6\n",
              "9      7\n",
              "11     8\n",
              "6      9\n",
              "19    10\n",
              "2     11\n",
              "12    12\n",
              "4     13\n",
              "21    14\n",
              "dtype: int64"
            ]
          },
          "metadata": {
            "tags": []
          },
          "execution_count": 83
        }
      ]
    },
    {
      "cell_type": "code",
      "metadata": {
        "id": "TtTHSQz4L0Nf"
      },
      "source": [
        "ranking_c = pd.DataFrame({'Features': X.columns, 'Rank': fit.ranking_}).sort_values(by='Rank')"
      ],
      "execution_count": null,
      "outputs": []
    },
    {
      "cell_type": "code",
      "metadata": {
        "colab": {
          "base_uri": "https://localhost:8080/",
          "height": 835
        },
        "id": "onMFZKtPL2TG",
        "outputId": "3650a80a-f106-46e2-9f96-2fb6d6a2fbec"
      },
      "source": [
        "ranking_c"
      ],
      "execution_count": null,
      "outputs": [
        {
          "output_type": "execute_result",
          "data": {
            "text/html": [
              "<div>\n",
              "<style scoped>\n",
              "    .dataframe tbody tr th:only-of-type {\n",
              "        vertical-align: middle;\n",
              "    }\n",
              "\n",
              "    .dataframe tbody tr th {\n",
              "        vertical-align: top;\n",
              "    }\n",
              "\n",
              "    .dataframe thead th {\n",
              "        text-align: right;\n",
              "    }\n",
              "</style>\n",
              "<table border=\"1\" class=\"dataframe\">\n",
              "  <thead>\n",
              "    <tr style=\"text-align: right;\">\n",
              "      <th></th>\n",
              "      <th>Features</th>\n",
              "      <th>Rank</th>\n",
              "    </tr>\n",
              "  </thead>\n",
              "  <tbody>\n",
              "    <tr>\n",
              "      <th>0</th>\n",
              "      <td>number</td>\n",
              "      <td>1</td>\n",
              "    </tr>\n",
              "    <tr>\n",
              "      <th>23</th>\n",
              "      <td>resolved_by</td>\n",
              "      <td>1</td>\n",
              "    </tr>\n",
              "    <tr>\n",
              "      <th>18</th>\n",
              "      <td>assigned_to</td>\n",
              "      <td>1</td>\n",
              "    </tr>\n",
              "    <tr>\n",
              "      <th>17</th>\n",
              "      <td>assignment_group</td>\n",
              "      <td>1</td>\n",
              "    </tr>\n",
              "    <tr>\n",
              "      <th>16</th>\n",
              "      <td>u_symptom</td>\n",
              "      <td>1</td>\n",
              "    </tr>\n",
              "    <tr>\n",
              "      <th>15</th>\n",
              "      <td>subcategory</td>\n",
              "      <td>1</td>\n",
              "    </tr>\n",
              "    <tr>\n",
              "      <th>14</th>\n",
              "      <td>category</td>\n",
              "      <td>1</td>\n",
              "    </tr>\n",
              "    <tr>\n",
              "      <th>13</th>\n",
              "      <td>location</td>\n",
              "      <td>1</td>\n",
              "    </tr>\n",
              "    <tr>\n",
              "      <th>24</th>\n",
              "      <td>resolved_at</td>\n",
              "      <td>1</td>\n",
              "    </tr>\n",
              "    <tr>\n",
              "      <th>10</th>\n",
              "      <td>sys_updated_by</td>\n",
              "      <td>1</td>\n",
              "    </tr>\n",
              "    <tr>\n",
              "      <th>25</th>\n",
              "      <td>closed_at</td>\n",
              "      <td>1</td>\n",
              "    </tr>\n",
              "    <tr>\n",
              "      <th>8</th>\n",
              "      <td>opened_by</td>\n",
              "      <td>1</td>\n",
              "    </tr>\n",
              "    <tr>\n",
              "      <th>5</th>\n",
              "      <td>sys_mod_count</td>\n",
              "      <td>1</td>\n",
              "    </tr>\n",
              "    <tr>\n",
              "      <th>3</th>\n",
              "      <td>reassignment_count</td>\n",
              "      <td>2</td>\n",
              "    </tr>\n",
              "    <tr>\n",
              "      <th>7</th>\n",
              "      <td>caller_id</td>\n",
              "      <td>3</td>\n",
              "    </tr>\n",
              "    <tr>\n",
              "      <th>22</th>\n",
              "      <td>closed_code</td>\n",
              "      <td>4</td>\n",
              "    </tr>\n",
              "    <tr>\n",
              "      <th>1</th>\n",
              "      <td>incident_state</td>\n",
              "      <td>5</td>\n",
              "    </tr>\n",
              "    <tr>\n",
              "      <th>20</th>\n",
              "      <td>u_priority_confirmation</td>\n",
              "      <td>6</td>\n",
              "    </tr>\n",
              "    <tr>\n",
              "      <th>9</th>\n",
              "      <td>opened_at</td>\n",
              "      <td>7</td>\n",
              "    </tr>\n",
              "    <tr>\n",
              "      <th>11</th>\n",
              "      <td>sys_updated_at</td>\n",
              "      <td>8</td>\n",
              "    </tr>\n",
              "    <tr>\n",
              "      <th>6</th>\n",
              "      <td>made_sla</td>\n",
              "      <td>9</td>\n",
              "    </tr>\n",
              "    <tr>\n",
              "      <th>19</th>\n",
              "      <td>knowledge</td>\n",
              "      <td>10</td>\n",
              "    </tr>\n",
              "    <tr>\n",
              "      <th>2</th>\n",
              "      <td>active</td>\n",
              "      <td>11</td>\n",
              "    </tr>\n",
              "    <tr>\n",
              "      <th>12</th>\n",
              "      <td>contact_type</td>\n",
              "      <td>12</td>\n",
              "    </tr>\n",
              "    <tr>\n",
              "      <th>4</th>\n",
              "      <td>reopen_count</td>\n",
              "      <td>13</td>\n",
              "    </tr>\n",
              "    <tr>\n",
              "      <th>21</th>\n",
              "      <td>notify</td>\n",
              "      <td>14</td>\n",
              "    </tr>\n",
              "  </tbody>\n",
              "</table>\n",
              "</div>"
            ],
            "text/plain": [
              "                   Features  Rank\n",
              "0                    number     1\n",
              "23              resolved_by     1\n",
              "18              assigned_to     1\n",
              "17         assignment_group     1\n",
              "16                u_symptom     1\n",
              "15              subcategory     1\n",
              "14                 category     1\n",
              "13                 location     1\n",
              "24              resolved_at     1\n",
              "10           sys_updated_by     1\n",
              "25                closed_at     1\n",
              "8                 opened_by     1\n",
              "5             sys_mod_count     1\n",
              "3        reassignment_count     2\n",
              "7                 caller_id     3\n",
              "22              closed_code     4\n",
              "1            incident_state     5\n",
              "20  u_priority_confirmation     6\n",
              "9                 opened_at     7\n",
              "11           sys_updated_at     8\n",
              "6                  made_sla     9\n",
              "19                knowledge    10\n",
              "2                    active    11\n",
              "12             contact_type    12\n",
              "4              reopen_count    13\n",
              "21                   notify    14"
            ]
          },
          "metadata": {
            "tags": []
          },
          "execution_count": 85
        }
      ]
    },
    {
      "cell_type": "markdown",
      "metadata": {
        "id": "eeHXpcyB1LZ8"
      },
      "source": [
        "Try to find those columns which are having rank 1"
      ]
    },
    {
      "cell_type": "code",
      "metadata": {
        "colab": {
          "base_uri": "https://localhost:8080/",
          "height": 441
        },
        "id": "4c3zdLnrL31f",
        "outputId": "1b455015-428c-43a0-86b2-7dcff6bb7edf"
      },
      "source": [
        "c1=ranking_c.loc[ranking_c['Rank'] <= 1]\n",
        "c1"
      ],
      "execution_count": null,
      "outputs": [
        {
          "output_type": "execute_result",
          "data": {
            "text/html": [
              "<div>\n",
              "<style scoped>\n",
              "    .dataframe tbody tr th:only-of-type {\n",
              "        vertical-align: middle;\n",
              "    }\n",
              "\n",
              "    .dataframe tbody tr th {\n",
              "        vertical-align: top;\n",
              "    }\n",
              "\n",
              "    .dataframe thead th {\n",
              "        text-align: right;\n",
              "    }\n",
              "</style>\n",
              "<table border=\"1\" class=\"dataframe\">\n",
              "  <thead>\n",
              "    <tr style=\"text-align: right;\">\n",
              "      <th></th>\n",
              "      <th>Features</th>\n",
              "      <th>Rank</th>\n",
              "    </tr>\n",
              "  </thead>\n",
              "  <tbody>\n",
              "    <tr>\n",
              "      <th>0</th>\n",
              "      <td>number</td>\n",
              "      <td>1</td>\n",
              "    </tr>\n",
              "    <tr>\n",
              "      <th>23</th>\n",
              "      <td>resolved_by</td>\n",
              "      <td>1</td>\n",
              "    </tr>\n",
              "    <tr>\n",
              "      <th>18</th>\n",
              "      <td>assigned_to</td>\n",
              "      <td>1</td>\n",
              "    </tr>\n",
              "    <tr>\n",
              "      <th>17</th>\n",
              "      <td>assignment_group</td>\n",
              "      <td>1</td>\n",
              "    </tr>\n",
              "    <tr>\n",
              "      <th>16</th>\n",
              "      <td>u_symptom</td>\n",
              "      <td>1</td>\n",
              "    </tr>\n",
              "    <tr>\n",
              "      <th>15</th>\n",
              "      <td>subcategory</td>\n",
              "      <td>1</td>\n",
              "    </tr>\n",
              "    <tr>\n",
              "      <th>14</th>\n",
              "      <td>category</td>\n",
              "      <td>1</td>\n",
              "    </tr>\n",
              "    <tr>\n",
              "      <th>13</th>\n",
              "      <td>location</td>\n",
              "      <td>1</td>\n",
              "    </tr>\n",
              "    <tr>\n",
              "      <th>24</th>\n",
              "      <td>resolved_at</td>\n",
              "      <td>1</td>\n",
              "    </tr>\n",
              "    <tr>\n",
              "      <th>10</th>\n",
              "      <td>sys_updated_by</td>\n",
              "      <td>1</td>\n",
              "    </tr>\n",
              "    <tr>\n",
              "      <th>25</th>\n",
              "      <td>closed_at</td>\n",
              "      <td>1</td>\n",
              "    </tr>\n",
              "    <tr>\n",
              "      <th>8</th>\n",
              "      <td>opened_by</td>\n",
              "      <td>1</td>\n",
              "    </tr>\n",
              "    <tr>\n",
              "      <th>5</th>\n",
              "      <td>sys_mod_count</td>\n",
              "      <td>1</td>\n",
              "    </tr>\n",
              "  </tbody>\n",
              "</table>\n",
              "</div>"
            ],
            "text/plain": [
              "            Features  Rank\n",
              "0             number     1\n",
              "23       resolved_by     1\n",
              "18       assigned_to     1\n",
              "17  assignment_group     1\n",
              "16         u_symptom     1\n",
              "15       subcategory     1\n",
              "14          category     1\n",
              "13          location     1\n",
              "24       resolved_at     1\n",
              "10    sys_updated_by     1\n",
              "25         closed_at     1\n",
              "8          opened_by     1\n",
              "5      sys_mod_count     1"
            ]
          },
          "metadata": {
            "tags": []
          },
          "execution_count": 86
        }
      ]
    },
    {
      "cell_type": "markdown",
      "metadata": {
        "id": "8j6LVk_V2Bx9"
      },
      "source": [
        "\n",
        "## Here is our Selected features for further process"
      ]
    },
    {
      "cell_type": "code",
      "metadata": {
        "colab": {
          "base_uri": "https://localhost:8080/"
        },
        "id": "epMl0kcENCch",
        "outputId": "784cd6aa-fa13-4fd4-95a6-ace562c2eeef"
      },
      "source": [
        "selected_features = c1.values[:,0]\n",
        "selected_features"
      ],
      "execution_count": null,
      "outputs": [
        {
          "output_type": "execute_result",
          "data": {
            "text/plain": [
              "array(['number', 'resolved_by', 'assigned_to', 'assignment_group',\n",
              "       'u_symptom', 'subcategory', 'category', 'location', 'resolved_at',\n",
              "       'sys_updated_by', 'closed_at', 'opened_by', 'sys_mod_count'],\n",
              "      dtype=object)"
            ]
          },
          "metadata": {
            "tags": []
          },
          "execution_count": 87
        }
      ]
    },
    {
      "cell_type": "code",
      "metadata": {
        "id": "s8mN-KxQCuRC"
      },
      "source": [
        "x_res = pd.DataFrame(X_res)"
      ],
      "execution_count": null,
      "outputs": []
    },
    {
      "cell_type": "code",
      "metadata": {
        "colab": {
          "base_uri": "https://localhost:8080/",
          "height": 408
        },
        "id": "WmkASsMPHUH2",
        "outputId": "13795c8b-7d55-4f76-b9f1-193d4a1d0e55"
      },
      "source": [
        "x_res"
      ],
      "execution_count": null,
      "outputs": [
        {
          "output_type": "execute_result",
          "data": {
            "text/html": [
              "<div>\n",
              "<style scoped>\n",
              "    .dataframe tbody tr th:only-of-type {\n",
              "        vertical-align: middle;\n",
              "    }\n",
              "\n",
              "    .dataframe tbody tr th {\n",
              "        vertical-align: top;\n",
              "    }\n",
              "\n",
              "    .dataframe thead th {\n",
              "        text-align: right;\n",
              "    }\n",
              "</style>\n",
              "<table border=\"1\" class=\"dataframe\">\n",
              "  <thead>\n",
              "    <tr style=\"text-align: right;\">\n",
              "      <th></th>\n",
              "      <th>0</th>\n",
              "      <th>1</th>\n",
              "      <th>2</th>\n",
              "      <th>3</th>\n",
              "      <th>4</th>\n",
              "      <th>5</th>\n",
              "      <th>6</th>\n",
              "      <th>7</th>\n",
              "      <th>8</th>\n",
              "      <th>9</th>\n",
              "      <th>10</th>\n",
              "      <th>11</th>\n",
              "      <th>12</th>\n",
              "      <th>13</th>\n",
              "      <th>14</th>\n",
              "      <th>15</th>\n",
              "      <th>16</th>\n",
              "      <th>17</th>\n",
              "      <th>18</th>\n",
              "      <th>19</th>\n",
              "      <th>20</th>\n",
              "      <th>21</th>\n",
              "      <th>22</th>\n",
              "      <th>23</th>\n",
              "      <th>24</th>\n",
              "      <th>25</th>\n",
              "    </tr>\n",
              "  </thead>\n",
              "  <tbody>\n",
              "    <tr>\n",
              "      <th>0</th>\n",
              "      <td>24448</td>\n",
              "      <td>7</td>\n",
              "      <td>1</td>\n",
              "      <td>0</td>\n",
              "      <td>0</td>\n",
              "      <td>5</td>\n",
              "      <td>1</td>\n",
              "      <td>3534</td>\n",
              "      <td>4</td>\n",
              "      <td>14894</td>\n",
              "      <td>306</td>\n",
              "      <td>20629</td>\n",
              "      <td>3</td>\n",
              "      <td>27</td>\n",
              "      <td>58</td>\n",
              "      <td>73</td>\n",
              "      <td>491</td>\n",
              "      <td>18</td>\n",
              "      <td>13</td>\n",
              "      <td>0</td>\n",
              "      <td>1</td>\n",
              "      <td>0</td>\n",
              "      <td>13</td>\n",
              "      <td>1</td>\n",
              "      <td>1169</td>\n",
              "      <td>2502</td>\n",
              "    </tr>\n",
              "    <tr>\n",
              "      <th>1</th>\n",
              "      <td>6824</td>\n",
              "      <td>0</td>\n",
              "      <td>1</td>\n",
              "      <td>0</td>\n",
              "      <td>0</td>\n",
              "      <td>2</td>\n",
              "      <td>1</td>\n",
              "      <td>4326</td>\n",
              "      <td>31</td>\n",
              "      <td>4544</td>\n",
              "      <td>727</td>\n",
              "      <td>24946</td>\n",
              "      <td>3</td>\n",
              "      <td>13</td>\n",
              "      <td>12</td>\n",
              "      <td>189</td>\n",
              "      <td>517</td>\n",
              "      <td>11</td>\n",
              "      <td>135</td>\n",
              "      <td>0</td>\n",
              "      <td>0</td>\n",
              "      <td>0</td>\n",
              "      <td>13</td>\n",
              "      <td>114</td>\n",
              "      <td>4101</td>\n",
              "      <td>1689</td>\n",
              "    </tr>\n",
              "    <tr>\n",
              "      <th>2</th>\n",
              "      <td>20989</td>\n",
              "      <td>6</td>\n",
              "      <td>1</td>\n",
              "      <td>1</td>\n",
              "      <td>0</td>\n",
              "      <td>3</td>\n",
              "      <td>1</td>\n",
              "      <td>2655</td>\n",
              "      <td>4</td>\n",
              "      <td>12031</td>\n",
              "      <td>108</td>\n",
              "      <td>11715</td>\n",
              "      <td>3</td>\n",
              "      <td>43</td>\n",
              "      <td>48</td>\n",
              "      <td>84</td>\n",
              "      <td>189</td>\n",
              "      <td>19</td>\n",
              "      <td>214</td>\n",
              "      <td>0</td>\n",
              "      <td>0</td>\n",
              "      <td>0</td>\n",
              "      <td>13</td>\n",
              "      <td>187</td>\n",
              "      <td>12086</td>\n",
              "      <td>1137</td>\n",
              "    </tr>\n",
              "    <tr>\n",
              "      <th>3</th>\n",
              "      <td>18725</td>\n",
              "      <td>0</td>\n",
              "      <td>1</td>\n",
              "      <td>0</td>\n",
              "      <td>0</td>\n",
              "      <td>0</td>\n",
              "      <td>1</td>\n",
              "      <td>2458</td>\n",
              "      <td>147</td>\n",
              "      <td>11645</td>\n",
              "      <td>685</td>\n",
              "      <td>43121</td>\n",
              "      <td>3</td>\n",
              "      <td>59</td>\n",
              "      <td>32</td>\n",
              "      <td>73</td>\n",
              "      <td>365</td>\n",
              "      <td>14</td>\n",
              "      <td>121</td>\n",
              "      <td>0</td>\n",
              "      <td>0</td>\n",
              "      <td>0</td>\n",
              "      <td>13</td>\n",
              "      <td>101</td>\n",
              "      <td>11380</td>\n",
              "      <td>156</td>\n",
              "    </tr>\n",
              "    <tr>\n",
              "      <th>4</th>\n",
              "      <td>4730</td>\n",
              "      <td>0</td>\n",
              "      <td>1</td>\n",
              "      <td>1</td>\n",
              "      <td>0</td>\n",
              "      <td>5</td>\n",
              "      <td>1</td>\n",
              "      <td>1008</td>\n",
              "      <td>60</td>\n",
              "      <td>2868</td>\n",
              "      <td>445</td>\n",
              "      <td>24951</td>\n",
              "      <td>3</td>\n",
              "      <td>104</td>\n",
              "      <td>25</td>\n",
              "      <td>249</td>\n",
              "      <td>247</td>\n",
              "      <td>77</td>\n",
              "      <td>43</td>\n",
              "      <td>0</td>\n",
              "      <td>0</td>\n",
              "      <td>0</td>\n",
              "      <td>16</td>\n",
              "      <td>28</td>\n",
              "      <td>5133</td>\n",
              "      <td>1867</td>\n",
              "    </tr>\n",
              "    <tr>\n",
              "      <th>...</th>\n",
              "      <td>...</td>\n",
              "      <td>...</td>\n",
              "      <td>...</td>\n",
              "      <td>...</td>\n",
              "      <td>...</td>\n",
              "      <td>...</td>\n",
              "      <td>...</td>\n",
              "      <td>...</td>\n",
              "      <td>...</td>\n",
              "      <td>...</td>\n",
              "      <td>...</td>\n",
              "      <td>...</td>\n",
              "      <td>...</td>\n",
              "      <td>...</td>\n",
              "      <td>...</td>\n",
              "      <td>...</td>\n",
              "      <td>...</td>\n",
              "      <td>...</td>\n",
              "      <td>...</td>\n",
              "      <td>...</td>\n",
              "      <td>...</td>\n",
              "      <td>...</td>\n",
              "      <td>...</td>\n",
              "      <td>...</td>\n",
              "      <td>...</td>\n",
              "      <td>...</td>\n",
              "    </tr>\n",
              "    <tr>\n",
              "      <th>362240</th>\n",
              "      <td>900</td>\n",
              "      <td>3</td>\n",
              "      <td>1</td>\n",
              "      <td>1</td>\n",
              "      <td>0</td>\n",
              "      <td>4</td>\n",
              "      <td>1</td>\n",
              "      <td>3294</td>\n",
              "      <td>93</td>\n",
              "      <td>1232</td>\n",
              "      <td>650</td>\n",
              "      <td>40000</td>\n",
              "      <td>3</td>\n",
              "      <td>43</td>\n",
              "      <td>38</td>\n",
              "      <td>211</td>\n",
              "      <td>491</td>\n",
              "      <td>38</td>\n",
              "      <td>67</td>\n",
              "      <td>1</td>\n",
              "      <td>0</td>\n",
              "      <td>0</td>\n",
              "      <td>13</td>\n",
              "      <td>48</td>\n",
              "      <td>18226</td>\n",
              "      <td>949</td>\n",
              "    </tr>\n",
              "    <tr>\n",
              "      <th>362241</th>\n",
              "      <td>20499</td>\n",
              "      <td>0</td>\n",
              "      <td>1</td>\n",
              "      <td>8</td>\n",
              "      <td>0</td>\n",
              "      <td>20</td>\n",
              "      <td>1</td>\n",
              "      <td>4909</td>\n",
              "      <td>14</td>\n",
              "      <td>19560</td>\n",
              "      <td>388</td>\n",
              "      <td>18336</td>\n",
              "      <td>3</td>\n",
              "      <td>11</td>\n",
              "      <td>44</td>\n",
              "      <td>73</td>\n",
              "      <td>365</td>\n",
              "      <td>16</td>\n",
              "      <td>27</td>\n",
              "      <td>0</td>\n",
              "      <td>0</td>\n",
              "      <td>0</td>\n",
              "      <td>12</td>\n",
              "      <td>15</td>\n",
              "      <td>12803</td>\n",
              "      <td>1376</td>\n",
              "    </tr>\n",
              "    <tr>\n",
              "      <th>362242</th>\n",
              "      <td>17994</td>\n",
              "      <td>6</td>\n",
              "      <td>0</td>\n",
              "      <td>0</td>\n",
              "      <td>0</td>\n",
              "      <td>0</td>\n",
              "      <td>1</td>\n",
              "      <td>2222</td>\n",
              "      <td>59</td>\n",
              "      <td>2218</td>\n",
              "      <td>740</td>\n",
              "      <td>36359</td>\n",
              "      <td>3</td>\n",
              "      <td>108</td>\n",
              "      <td>19</td>\n",
              "      <td>97</td>\n",
              "      <td>385</td>\n",
              "      <td>65</td>\n",
              "      <td>65</td>\n",
              "      <td>0</td>\n",
              "      <td>0</td>\n",
              "      <td>0</td>\n",
              "      <td>13</td>\n",
              "      <td>44</td>\n",
              "      <td>1866</td>\n",
              "      <td>2484</td>\n",
              "    </tr>\n",
              "    <tr>\n",
              "      <th>362243</th>\n",
              "      <td>19905</td>\n",
              "      <td>5</td>\n",
              "      <td>0</td>\n",
              "      <td>0</td>\n",
              "      <td>0</td>\n",
              "      <td>2</td>\n",
              "      <td>1</td>\n",
              "      <td>1979</td>\n",
              "      <td>86</td>\n",
              "      <td>18180</td>\n",
              "      <td>762</td>\n",
              "      <td>11779</td>\n",
              "      <td>3</td>\n",
              "      <td>87</td>\n",
              "      <td>17</td>\n",
              "      <td>73</td>\n",
              "      <td>491</td>\n",
              "      <td>56</td>\n",
              "      <td>53</td>\n",
              "      <td>0</td>\n",
              "      <td>1</td>\n",
              "      <td>0</td>\n",
              "      <td>13</td>\n",
              "      <td>37</td>\n",
              "      <td>18099</td>\n",
              "      <td>560</td>\n",
              "    </tr>\n",
              "    <tr>\n",
              "      <th>362244</th>\n",
              "      <td>19615</td>\n",
              "      <td>5</td>\n",
              "      <td>0</td>\n",
              "      <td>0</td>\n",
              "      <td>0</td>\n",
              "      <td>2</td>\n",
              "      <td>1</td>\n",
              "      <td>1979</td>\n",
              "      <td>86</td>\n",
              "      <td>17640</td>\n",
              "      <td>762</td>\n",
              "      <td>10234</td>\n",
              "      <td>3</td>\n",
              "      <td>87</td>\n",
              "      <td>17</td>\n",
              "      <td>73</td>\n",
              "      <td>491</td>\n",
              "      <td>56</td>\n",
              "      <td>53</td>\n",
              "      <td>0</td>\n",
              "      <td>1</td>\n",
              "      <td>0</td>\n",
              "      <td>13</td>\n",
              "      <td>37</td>\n",
              "      <td>17538</td>\n",
              "      <td>488</td>\n",
              "    </tr>\n",
              "  </tbody>\n",
              "</table>\n",
              "<p>362245 rows × 26 columns</p>\n",
              "</div>"
            ],
            "text/plain": [
              "           0   1   2   3   4   5   6   ...  19  20  21  22   23     24    25\n",
              "0       24448   7   1   0   0   5   1  ...   0   1   0  13    1   1169  2502\n",
              "1        6824   0   1   0   0   2   1  ...   0   0   0  13  114   4101  1689\n",
              "2       20989   6   1   1   0   3   1  ...   0   0   0  13  187  12086  1137\n",
              "3       18725   0   1   0   0   0   1  ...   0   0   0  13  101  11380   156\n",
              "4        4730   0   1   1   0   5   1  ...   0   0   0  16   28   5133  1867\n",
              "...       ...  ..  ..  ..  ..  ..  ..  ...  ..  ..  ..  ..  ...    ...   ...\n",
              "362240    900   3   1   1   0   4   1  ...   1   0   0  13   48  18226   949\n",
              "362241  20499   0   1   8   0  20   1  ...   0   0   0  12   15  12803  1376\n",
              "362242  17994   6   0   0   0   0   1  ...   0   0   0  13   44   1866  2484\n",
              "362243  19905   5   0   0   0   2   1  ...   0   1   0  13   37  18099   560\n",
              "362244  19615   5   0   0   0   2   1  ...   0   1   0  13   37  17538   488\n",
              "\n",
              "[362245 rows x 26 columns]"
            ]
          },
          "metadata": {
            "tags": []
          },
          "execution_count": 89
        }
      ]
    },
    {
      "cell_type": "code",
      "metadata": {
        "id": "6LP-EWQwHT5L"
      },
      "source": [
        "x_res.columns = [X.columns]"
      ],
      "execution_count": null,
      "outputs": []
    },
    {
      "cell_type": "code",
      "metadata": {
        "colab": {
          "base_uri": "https://localhost:8080/",
          "height": 428
        },
        "id": "uVvLVr5PIHrM",
        "outputId": "7fa17068-6244-4fd7-ddd4-72b11be55fb1"
      },
      "source": [
        "x_res"
      ],
      "execution_count": null,
      "outputs": [
        {
          "output_type": "execute_result",
          "data": {
            "text/html": [
              "<div>\n",
              "<style scoped>\n",
              "    .dataframe tbody tr th:only-of-type {\n",
              "        vertical-align: middle;\n",
              "    }\n",
              "\n",
              "    .dataframe tbody tr th {\n",
              "        vertical-align: top;\n",
              "    }\n",
              "\n",
              "    .dataframe thead tr th {\n",
              "        text-align: left;\n",
              "    }\n",
              "</style>\n",
              "<table border=\"1\" class=\"dataframe\">\n",
              "  <thead>\n",
              "    <tr>\n",
              "      <th></th>\n",
              "      <th>number</th>\n",
              "      <th>incident_state</th>\n",
              "      <th>active</th>\n",
              "      <th>reassignment_count</th>\n",
              "      <th>reopen_count</th>\n",
              "      <th>sys_mod_count</th>\n",
              "      <th>made_sla</th>\n",
              "      <th>caller_id</th>\n",
              "      <th>opened_by</th>\n",
              "      <th>opened_at</th>\n",
              "      <th>sys_updated_by</th>\n",
              "      <th>sys_updated_at</th>\n",
              "      <th>contact_type</th>\n",
              "      <th>location</th>\n",
              "      <th>category</th>\n",
              "      <th>subcategory</th>\n",
              "      <th>u_symptom</th>\n",
              "      <th>assignment_group</th>\n",
              "      <th>assigned_to</th>\n",
              "      <th>knowledge</th>\n",
              "      <th>u_priority_confirmation</th>\n",
              "      <th>notify</th>\n",
              "      <th>closed_code</th>\n",
              "      <th>resolved_by</th>\n",
              "      <th>resolved_at</th>\n",
              "      <th>closed_at</th>\n",
              "    </tr>\n",
              "  </thead>\n",
              "  <tbody>\n",
              "    <tr>\n",
              "      <th>0</th>\n",
              "      <td>24448</td>\n",
              "      <td>7</td>\n",
              "      <td>1</td>\n",
              "      <td>0</td>\n",
              "      <td>0</td>\n",
              "      <td>5</td>\n",
              "      <td>1</td>\n",
              "      <td>3534</td>\n",
              "      <td>4</td>\n",
              "      <td>14894</td>\n",
              "      <td>306</td>\n",
              "      <td>20629</td>\n",
              "      <td>3</td>\n",
              "      <td>27</td>\n",
              "      <td>58</td>\n",
              "      <td>73</td>\n",
              "      <td>491</td>\n",
              "      <td>18</td>\n",
              "      <td>13</td>\n",
              "      <td>0</td>\n",
              "      <td>1</td>\n",
              "      <td>0</td>\n",
              "      <td>13</td>\n",
              "      <td>1</td>\n",
              "      <td>1169</td>\n",
              "      <td>2502</td>\n",
              "    </tr>\n",
              "    <tr>\n",
              "      <th>1</th>\n",
              "      <td>6824</td>\n",
              "      <td>0</td>\n",
              "      <td>1</td>\n",
              "      <td>0</td>\n",
              "      <td>0</td>\n",
              "      <td>2</td>\n",
              "      <td>1</td>\n",
              "      <td>4326</td>\n",
              "      <td>31</td>\n",
              "      <td>4544</td>\n",
              "      <td>727</td>\n",
              "      <td>24946</td>\n",
              "      <td>3</td>\n",
              "      <td>13</td>\n",
              "      <td>12</td>\n",
              "      <td>189</td>\n",
              "      <td>517</td>\n",
              "      <td>11</td>\n",
              "      <td>135</td>\n",
              "      <td>0</td>\n",
              "      <td>0</td>\n",
              "      <td>0</td>\n",
              "      <td>13</td>\n",
              "      <td>114</td>\n",
              "      <td>4101</td>\n",
              "      <td>1689</td>\n",
              "    </tr>\n",
              "    <tr>\n",
              "      <th>2</th>\n",
              "      <td>20989</td>\n",
              "      <td>6</td>\n",
              "      <td>1</td>\n",
              "      <td>1</td>\n",
              "      <td>0</td>\n",
              "      <td>3</td>\n",
              "      <td>1</td>\n",
              "      <td>2655</td>\n",
              "      <td>4</td>\n",
              "      <td>12031</td>\n",
              "      <td>108</td>\n",
              "      <td>11715</td>\n",
              "      <td>3</td>\n",
              "      <td>43</td>\n",
              "      <td>48</td>\n",
              "      <td>84</td>\n",
              "      <td>189</td>\n",
              "      <td>19</td>\n",
              "      <td>214</td>\n",
              "      <td>0</td>\n",
              "      <td>0</td>\n",
              "      <td>0</td>\n",
              "      <td>13</td>\n",
              "      <td>187</td>\n",
              "      <td>12086</td>\n",
              "      <td>1137</td>\n",
              "    </tr>\n",
              "    <tr>\n",
              "      <th>3</th>\n",
              "      <td>18725</td>\n",
              "      <td>0</td>\n",
              "      <td>1</td>\n",
              "      <td>0</td>\n",
              "      <td>0</td>\n",
              "      <td>0</td>\n",
              "      <td>1</td>\n",
              "      <td>2458</td>\n",
              "      <td>147</td>\n",
              "      <td>11645</td>\n",
              "      <td>685</td>\n",
              "      <td>43121</td>\n",
              "      <td>3</td>\n",
              "      <td>59</td>\n",
              "      <td>32</td>\n",
              "      <td>73</td>\n",
              "      <td>365</td>\n",
              "      <td>14</td>\n",
              "      <td>121</td>\n",
              "      <td>0</td>\n",
              "      <td>0</td>\n",
              "      <td>0</td>\n",
              "      <td>13</td>\n",
              "      <td>101</td>\n",
              "      <td>11380</td>\n",
              "      <td>156</td>\n",
              "    </tr>\n",
              "    <tr>\n",
              "      <th>4</th>\n",
              "      <td>4730</td>\n",
              "      <td>0</td>\n",
              "      <td>1</td>\n",
              "      <td>1</td>\n",
              "      <td>0</td>\n",
              "      <td>5</td>\n",
              "      <td>1</td>\n",
              "      <td>1008</td>\n",
              "      <td>60</td>\n",
              "      <td>2868</td>\n",
              "      <td>445</td>\n",
              "      <td>24951</td>\n",
              "      <td>3</td>\n",
              "      <td>104</td>\n",
              "      <td>25</td>\n",
              "      <td>249</td>\n",
              "      <td>247</td>\n",
              "      <td>77</td>\n",
              "      <td>43</td>\n",
              "      <td>0</td>\n",
              "      <td>0</td>\n",
              "      <td>0</td>\n",
              "      <td>16</td>\n",
              "      <td>28</td>\n",
              "      <td>5133</td>\n",
              "      <td>1867</td>\n",
              "    </tr>\n",
              "    <tr>\n",
              "      <th>...</th>\n",
              "      <td>...</td>\n",
              "      <td>...</td>\n",
              "      <td>...</td>\n",
              "      <td>...</td>\n",
              "      <td>...</td>\n",
              "      <td>...</td>\n",
              "      <td>...</td>\n",
              "      <td>...</td>\n",
              "      <td>...</td>\n",
              "      <td>...</td>\n",
              "      <td>...</td>\n",
              "      <td>...</td>\n",
              "      <td>...</td>\n",
              "      <td>...</td>\n",
              "      <td>...</td>\n",
              "      <td>...</td>\n",
              "      <td>...</td>\n",
              "      <td>...</td>\n",
              "      <td>...</td>\n",
              "      <td>...</td>\n",
              "      <td>...</td>\n",
              "      <td>...</td>\n",
              "      <td>...</td>\n",
              "      <td>...</td>\n",
              "      <td>...</td>\n",
              "      <td>...</td>\n",
              "    </tr>\n",
              "    <tr>\n",
              "      <th>362240</th>\n",
              "      <td>900</td>\n",
              "      <td>3</td>\n",
              "      <td>1</td>\n",
              "      <td>1</td>\n",
              "      <td>0</td>\n",
              "      <td>4</td>\n",
              "      <td>1</td>\n",
              "      <td>3294</td>\n",
              "      <td>93</td>\n",
              "      <td>1232</td>\n",
              "      <td>650</td>\n",
              "      <td>40000</td>\n",
              "      <td>3</td>\n",
              "      <td>43</td>\n",
              "      <td>38</td>\n",
              "      <td>211</td>\n",
              "      <td>491</td>\n",
              "      <td>38</td>\n",
              "      <td>67</td>\n",
              "      <td>1</td>\n",
              "      <td>0</td>\n",
              "      <td>0</td>\n",
              "      <td>13</td>\n",
              "      <td>48</td>\n",
              "      <td>18226</td>\n",
              "      <td>949</td>\n",
              "    </tr>\n",
              "    <tr>\n",
              "      <th>362241</th>\n",
              "      <td>20499</td>\n",
              "      <td>0</td>\n",
              "      <td>1</td>\n",
              "      <td>8</td>\n",
              "      <td>0</td>\n",
              "      <td>20</td>\n",
              "      <td>1</td>\n",
              "      <td>4909</td>\n",
              "      <td>14</td>\n",
              "      <td>19560</td>\n",
              "      <td>388</td>\n",
              "      <td>18336</td>\n",
              "      <td>3</td>\n",
              "      <td>11</td>\n",
              "      <td>44</td>\n",
              "      <td>73</td>\n",
              "      <td>365</td>\n",
              "      <td>16</td>\n",
              "      <td>27</td>\n",
              "      <td>0</td>\n",
              "      <td>0</td>\n",
              "      <td>0</td>\n",
              "      <td>12</td>\n",
              "      <td>15</td>\n",
              "      <td>12803</td>\n",
              "      <td>1376</td>\n",
              "    </tr>\n",
              "    <tr>\n",
              "      <th>362242</th>\n",
              "      <td>17994</td>\n",
              "      <td>6</td>\n",
              "      <td>0</td>\n",
              "      <td>0</td>\n",
              "      <td>0</td>\n",
              "      <td>0</td>\n",
              "      <td>1</td>\n",
              "      <td>2222</td>\n",
              "      <td>59</td>\n",
              "      <td>2218</td>\n",
              "      <td>740</td>\n",
              "      <td>36359</td>\n",
              "      <td>3</td>\n",
              "      <td>108</td>\n",
              "      <td>19</td>\n",
              "      <td>97</td>\n",
              "      <td>385</td>\n",
              "      <td>65</td>\n",
              "      <td>65</td>\n",
              "      <td>0</td>\n",
              "      <td>0</td>\n",
              "      <td>0</td>\n",
              "      <td>13</td>\n",
              "      <td>44</td>\n",
              "      <td>1866</td>\n",
              "      <td>2484</td>\n",
              "    </tr>\n",
              "    <tr>\n",
              "      <th>362243</th>\n",
              "      <td>19905</td>\n",
              "      <td>5</td>\n",
              "      <td>0</td>\n",
              "      <td>0</td>\n",
              "      <td>0</td>\n",
              "      <td>2</td>\n",
              "      <td>1</td>\n",
              "      <td>1979</td>\n",
              "      <td>86</td>\n",
              "      <td>18180</td>\n",
              "      <td>762</td>\n",
              "      <td>11779</td>\n",
              "      <td>3</td>\n",
              "      <td>87</td>\n",
              "      <td>17</td>\n",
              "      <td>73</td>\n",
              "      <td>491</td>\n",
              "      <td>56</td>\n",
              "      <td>53</td>\n",
              "      <td>0</td>\n",
              "      <td>1</td>\n",
              "      <td>0</td>\n",
              "      <td>13</td>\n",
              "      <td>37</td>\n",
              "      <td>18099</td>\n",
              "      <td>560</td>\n",
              "    </tr>\n",
              "    <tr>\n",
              "      <th>362244</th>\n",
              "      <td>19615</td>\n",
              "      <td>5</td>\n",
              "      <td>0</td>\n",
              "      <td>0</td>\n",
              "      <td>0</td>\n",
              "      <td>2</td>\n",
              "      <td>1</td>\n",
              "      <td>1979</td>\n",
              "      <td>86</td>\n",
              "      <td>17640</td>\n",
              "      <td>762</td>\n",
              "      <td>10234</td>\n",
              "      <td>3</td>\n",
              "      <td>87</td>\n",
              "      <td>17</td>\n",
              "      <td>73</td>\n",
              "      <td>491</td>\n",
              "      <td>56</td>\n",
              "      <td>53</td>\n",
              "      <td>0</td>\n",
              "      <td>1</td>\n",
              "      <td>0</td>\n",
              "      <td>13</td>\n",
              "      <td>37</td>\n",
              "      <td>17538</td>\n",
              "      <td>488</td>\n",
              "    </tr>\n",
              "  </tbody>\n",
              "</table>\n",
              "<p>362245 rows × 26 columns</p>\n",
              "</div>"
            ],
            "text/plain": [
              "       number incident_state active  ... resolved_by resolved_at closed_at\n",
              "0       24448              7      1  ...           1        1169      2502\n",
              "1        6824              0      1  ...         114        4101      1689\n",
              "2       20989              6      1  ...         187       12086      1137\n",
              "3       18725              0      1  ...         101       11380       156\n",
              "4        4730              0      1  ...          28        5133      1867\n",
              "...       ...            ...    ...  ...         ...         ...       ...\n",
              "362240    900              3      1  ...          48       18226       949\n",
              "362241  20499              0      1  ...          15       12803      1376\n",
              "362242  17994              6      0  ...          44        1866      2484\n",
              "362243  19905              5      0  ...          37       18099       560\n",
              "362244  19615              5      0  ...          37       17538       488\n",
              "\n",
              "[362245 rows x 26 columns]"
            ]
          },
          "metadata": {
            "tags": []
          },
          "execution_count": 91
        }
      ]
    },
    {
      "cell_type": "code",
      "metadata": {
        "colab": {
          "base_uri": "https://localhost:8080/",
          "height": 408
        },
        "id": "WsjYQ5E6JEh3",
        "outputId": "c2c9faae-a2ab-4219-ed3d-9fabb588ea6a"
      },
      "source": [
        "# Selecting only selected features from all\n",
        "x = x_res[selected_features]\n",
        "x"
      ],
      "execution_count": null,
      "outputs": [
        {
          "output_type": "execute_result",
          "data": {
            "text/html": [
              "<div>\n",
              "<style scoped>\n",
              "    .dataframe tbody tr th:only-of-type {\n",
              "        vertical-align: middle;\n",
              "    }\n",
              "\n",
              "    .dataframe tbody tr th {\n",
              "        vertical-align: top;\n",
              "    }\n",
              "\n",
              "    .dataframe thead tr th {\n",
              "        text-align: left;\n",
              "    }\n",
              "</style>\n",
              "<table border=\"1\" class=\"dataframe\">\n",
              "  <thead>\n",
              "    <tr>\n",
              "      <th></th>\n",
              "      <th>number</th>\n",
              "      <th>resolved_by</th>\n",
              "      <th>assigned_to</th>\n",
              "      <th>assignment_group</th>\n",
              "      <th>u_symptom</th>\n",
              "      <th>subcategory</th>\n",
              "      <th>category</th>\n",
              "      <th>location</th>\n",
              "      <th>resolved_at</th>\n",
              "      <th>sys_updated_by</th>\n",
              "      <th>closed_at</th>\n",
              "      <th>opened_by</th>\n",
              "      <th>sys_mod_count</th>\n",
              "    </tr>\n",
              "  </thead>\n",
              "  <tbody>\n",
              "    <tr>\n",
              "      <th>0</th>\n",
              "      <td>24448</td>\n",
              "      <td>1</td>\n",
              "      <td>13</td>\n",
              "      <td>18</td>\n",
              "      <td>491</td>\n",
              "      <td>73</td>\n",
              "      <td>58</td>\n",
              "      <td>27</td>\n",
              "      <td>1169</td>\n",
              "      <td>306</td>\n",
              "      <td>2502</td>\n",
              "      <td>4</td>\n",
              "      <td>5</td>\n",
              "    </tr>\n",
              "    <tr>\n",
              "      <th>1</th>\n",
              "      <td>6824</td>\n",
              "      <td>114</td>\n",
              "      <td>135</td>\n",
              "      <td>11</td>\n",
              "      <td>517</td>\n",
              "      <td>189</td>\n",
              "      <td>12</td>\n",
              "      <td>13</td>\n",
              "      <td>4101</td>\n",
              "      <td>727</td>\n",
              "      <td>1689</td>\n",
              "      <td>31</td>\n",
              "      <td>2</td>\n",
              "    </tr>\n",
              "    <tr>\n",
              "      <th>2</th>\n",
              "      <td>20989</td>\n",
              "      <td>187</td>\n",
              "      <td>214</td>\n",
              "      <td>19</td>\n",
              "      <td>189</td>\n",
              "      <td>84</td>\n",
              "      <td>48</td>\n",
              "      <td>43</td>\n",
              "      <td>12086</td>\n",
              "      <td>108</td>\n",
              "      <td>1137</td>\n",
              "      <td>4</td>\n",
              "      <td>3</td>\n",
              "    </tr>\n",
              "    <tr>\n",
              "      <th>3</th>\n",
              "      <td>18725</td>\n",
              "      <td>101</td>\n",
              "      <td>121</td>\n",
              "      <td>14</td>\n",
              "      <td>365</td>\n",
              "      <td>73</td>\n",
              "      <td>32</td>\n",
              "      <td>59</td>\n",
              "      <td>11380</td>\n",
              "      <td>685</td>\n",
              "      <td>156</td>\n",
              "      <td>147</td>\n",
              "      <td>0</td>\n",
              "    </tr>\n",
              "    <tr>\n",
              "      <th>4</th>\n",
              "      <td>4730</td>\n",
              "      <td>28</td>\n",
              "      <td>43</td>\n",
              "      <td>77</td>\n",
              "      <td>247</td>\n",
              "      <td>249</td>\n",
              "      <td>25</td>\n",
              "      <td>104</td>\n",
              "      <td>5133</td>\n",
              "      <td>445</td>\n",
              "      <td>1867</td>\n",
              "      <td>60</td>\n",
              "      <td>5</td>\n",
              "    </tr>\n",
              "    <tr>\n",
              "      <th>...</th>\n",
              "      <td>...</td>\n",
              "      <td>...</td>\n",
              "      <td>...</td>\n",
              "      <td>...</td>\n",
              "      <td>...</td>\n",
              "      <td>...</td>\n",
              "      <td>...</td>\n",
              "      <td>...</td>\n",
              "      <td>...</td>\n",
              "      <td>...</td>\n",
              "      <td>...</td>\n",
              "      <td>...</td>\n",
              "      <td>...</td>\n",
              "    </tr>\n",
              "    <tr>\n",
              "      <th>362240</th>\n",
              "      <td>900</td>\n",
              "      <td>48</td>\n",
              "      <td>67</td>\n",
              "      <td>38</td>\n",
              "      <td>491</td>\n",
              "      <td>211</td>\n",
              "      <td>38</td>\n",
              "      <td>43</td>\n",
              "      <td>18226</td>\n",
              "      <td>650</td>\n",
              "      <td>949</td>\n",
              "      <td>93</td>\n",
              "      <td>4</td>\n",
              "    </tr>\n",
              "    <tr>\n",
              "      <th>362241</th>\n",
              "      <td>20499</td>\n",
              "      <td>15</td>\n",
              "      <td>27</td>\n",
              "      <td>16</td>\n",
              "      <td>365</td>\n",
              "      <td>73</td>\n",
              "      <td>44</td>\n",
              "      <td>11</td>\n",
              "      <td>12803</td>\n",
              "      <td>388</td>\n",
              "      <td>1376</td>\n",
              "      <td>14</td>\n",
              "      <td>20</td>\n",
              "    </tr>\n",
              "    <tr>\n",
              "      <th>362242</th>\n",
              "      <td>17994</td>\n",
              "      <td>44</td>\n",
              "      <td>65</td>\n",
              "      <td>65</td>\n",
              "      <td>385</td>\n",
              "      <td>97</td>\n",
              "      <td>19</td>\n",
              "      <td>108</td>\n",
              "      <td>1866</td>\n",
              "      <td>740</td>\n",
              "      <td>2484</td>\n",
              "      <td>59</td>\n",
              "      <td>0</td>\n",
              "    </tr>\n",
              "    <tr>\n",
              "      <th>362243</th>\n",
              "      <td>19905</td>\n",
              "      <td>37</td>\n",
              "      <td>53</td>\n",
              "      <td>56</td>\n",
              "      <td>491</td>\n",
              "      <td>73</td>\n",
              "      <td>17</td>\n",
              "      <td>87</td>\n",
              "      <td>18099</td>\n",
              "      <td>762</td>\n",
              "      <td>560</td>\n",
              "      <td>86</td>\n",
              "      <td>2</td>\n",
              "    </tr>\n",
              "    <tr>\n",
              "      <th>362244</th>\n",
              "      <td>19615</td>\n",
              "      <td>37</td>\n",
              "      <td>53</td>\n",
              "      <td>56</td>\n",
              "      <td>491</td>\n",
              "      <td>73</td>\n",
              "      <td>17</td>\n",
              "      <td>87</td>\n",
              "      <td>17538</td>\n",
              "      <td>762</td>\n",
              "      <td>488</td>\n",
              "      <td>86</td>\n",
              "      <td>2</td>\n",
              "    </tr>\n",
              "  </tbody>\n",
              "</table>\n",
              "<p>362245 rows × 13 columns</p>\n",
              "</div>"
            ],
            "text/plain": [
              "       number resolved_by assigned_to  ... closed_at opened_by sys_mod_count\n",
              "0       24448           1          13  ...      2502         4             5\n",
              "1        6824         114         135  ...      1689        31             2\n",
              "2       20989         187         214  ...      1137         4             3\n",
              "3       18725         101         121  ...       156       147             0\n",
              "4        4730          28          43  ...      1867        60             5\n",
              "...       ...         ...         ...  ...       ...       ...           ...\n",
              "362240    900          48          67  ...       949        93             4\n",
              "362241  20499          15          27  ...      1376        14            20\n",
              "362242  17994          44          65  ...      2484        59             0\n",
              "362243  19905          37          53  ...       560        86             2\n",
              "362244  19615          37          53  ...       488        86             2\n",
              "\n",
              "[362245 rows x 13 columns]"
            ]
          },
          "metadata": {
            "tags": []
          },
          "execution_count": 92
        }
      ]
    },
    {
      "cell_type": "markdown",
      "metadata": {
        "id": "AJ-4dVsx3Ed-"
      },
      "source": [
        "#Modelling process"
      ]
    },
    {
      "cell_type": "markdown",
      "metadata": {
        "id": "RuK2HMIO2Utl"
      },
      "source": [
        "### Again we are spliting the train data into Train and Test into 80:20 ratio. So, that we can run final model on our test data."
      ]
    },
    {
      "cell_type": "code",
      "metadata": {
        "id": "eUslOPrcNFj6"
      },
      "source": [
        "from sklearn.model_selection import train_test_split"
      ],
      "execution_count": null,
      "outputs": []
    },
    {
      "cell_type": "code",
      "metadata": {
        "id": "UkdYOXJRNIj8"
      },
      "source": [
        "X_train,X_val,y_train,y_val=train_test_split(x, y_res,test_size=0.20,random_state=20)"
      ],
      "execution_count": null,
      "outputs": []
    },
    {
      "cell_type": "code",
      "metadata": {
        "colab": {
          "base_uri": "https://localhost:8080/"
        },
        "id": "XZNHY-lORjdr",
        "outputId": "baea09b9-ae43-4745-fe20-5ba7b6ccf354"
      },
      "source": [
        "X_train.shape,X_val.shape,y_train.shape,y_val.shape"
      ],
      "execution_count": null,
      "outputs": [
        {
          "output_type": "execute_result",
          "data": {
            "text/plain": [
              "((289796, 13), (72449, 13), (289796, 1), (72449, 1))"
            ]
          },
          "metadata": {
            "tags": []
          },
          "execution_count": 95
        }
      ]
    },
    {
      "cell_type": "markdown",
      "metadata": {
        "id": "E1Lkjvhg28H0"
      },
      "source": [
        "# Logistic Regression"
      ]
    },
    {
      "cell_type": "code",
      "metadata": {
        "colab": {
          "base_uri": "https://localhost:8080/"
        },
        "id": "3Bn7-mnAfVHq",
        "outputId": "e141a136-c8ef-4341-f833-c478f571d4db"
      },
      "source": [
        "model_LR=LogisticRegression()\n",
        "model_LR.fit(X_train, y_train)\n",
        "model_LR.score(X_val,y_val)"
      ],
      "execution_count": null,
      "outputs": [
        {
          "output_type": "execute_result",
          "data": {
            "text/plain": [
              "0.48820549628014187"
            ]
          },
          "metadata": {
            "tags": []
          },
          "execution_count": 96
        }
      ]
    },
    {
      "cell_type": "code",
      "metadata": {
        "colab": {
          "base_uri": "https://localhost:8080/"
        },
        "id": "DZQzwGx_-9CQ",
        "outputId": "77c4aaf4-3b63-42cf-d1f2-43aac64f4884"
      },
      "source": [
        "from sklearn.metrics import confusion_matrix\n",
        "y_pred=model_LR.predict(X_val)\n",
        "confusion_matrix=confusion_matrix(y_val,y_pred)\n",
        "print(confusion_matrix)\n",
        "\n",
        "from sklearn.metrics import classification_report\n",
        "classification_report=classification_report(y_val,y_pred)\n",
        "print(classification_report)"
      ],
      "execution_count": null,
      "outputs": [
        {
          "output_type": "stream",
          "text": [
            "[[12841  5974  5175]\n",
            " [ 8698  7317  8374]\n",
            " [ 3560  5298 15212]]\n",
            "              precision    recall  f1-score   support\n",
            "\n",
            "           1       0.51      0.54      0.52     23990\n",
            "           2       0.39      0.30      0.34     24389\n",
            "           3       0.53      0.63      0.58     24070\n",
            "\n",
            "    accuracy                           0.49     72449\n",
            "   macro avg       0.48      0.49      0.48     72449\n",
            "weighted avg       0.48      0.49      0.48     72449\n",
            "\n"
          ],
          "name": "stdout"
        }
      ]
    },
    {
      "cell_type": "markdown",
      "metadata": {
        "id": "qMn4ychH3OtF"
      },
      "source": [
        "# Decision Tree Classifier"
      ]
    },
    {
      "cell_type": "code",
      "metadata": {
        "id": "fW51D-SBJrdx"
      },
      "source": [
        "from sklearn.tree import DecisionTreeClassifier"
      ],
      "execution_count": null,
      "outputs": []
    },
    {
      "cell_type": "code",
      "metadata": {
        "colab": {
          "base_uri": "https://localhost:8080/"
        },
        "id": "GvdQha7Vj3E9",
        "outputId": "7866511f-207c-48e9-ccf7-5413af7ec070"
      },
      "source": [
        "model_ent = DecisionTreeClassifier()\n",
        "model_ent.fit(X_train, y_train)\n",
        "model_ent.score(X_val,y_val)"
      ],
      "execution_count": null,
      "outputs": [
        {
          "output_type": "execute_result",
          "data": {
            "text/plain": [
              "0.9814076108710955"
            ]
          },
          "metadata": {
            "tags": []
          },
          "execution_count": 99
        }
      ]
    },
    {
      "cell_type": "code",
      "metadata": {
        "colab": {
          "base_uri": "https://localhost:8080/"
        },
        "id": "i2lWc9afBndP",
        "outputId": "21512b65-7ad1-43db-ce98-638f615ab03c"
      },
      "source": [
        "from sklearn.metrics import confusion_matrix\n",
        "y_pred=model_ent.predict(X_val)\n",
        "confusion_matrix=confusion_matrix(y_val,y_pred)\n",
        "print(confusion_matrix)\n",
        "\n",
        "from sklearn.metrics import classification_report\n",
        "classification_report=classification_report(y_val,y_pred)\n",
        "print(classification_report)"
      ],
      "execution_count": null,
      "outputs": [
        {
          "output_type": "stream",
          "text": [
            "[[23574   279   137]\n",
            " [  406 23786   197]\n",
            " [  133   195 23742]]\n",
            "              precision    recall  f1-score   support\n",
            "\n",
            "           1       0.98      0.98      0.98     23990\n",
            "           2       0.98      0.98      0.98     24389\n",
            "           3       0.99      0.99      0.99     24070\n",
            "\n",
            "    accuracy                           0.98     72449\n",
            "   macro avg       0.98      0.98      0.98     72449\n",
            "weighted avg       0.98      0.98      0.98     72449\n",
            "\n"
          ],
          "name": "stdout"
        }
      ]
    },
    {
      "cell_type": "code",
      "metadata": {
        "id": "-npgpWACe5Ek"
      },
      "source": [
        "from sklearn.ensemble import RandomForestClassifier\n",
        "from sklearn.neighbors import KNeighborsClassifier"
      ],
      "execution_count": null,
      "outputs": []
    },
    {
      "cell_type": "markdown",
      "metadata": {
        "id": "zobRe6I03hD6"
      },
      "source": [
        "# KNN"
      ]
    },
    {
      "cell_type": "code",
      "metadata": {
        "colab": {
          "base_uri": "https://localhost:8080/"
        },
        "id": "2PLLFl9Mag2S",
        "outputId": "72b4e3c9-9bdd-4edf-a0c1-a67a9e06dd91"
      },
      "source": [
        "model_KNN = KNeighborsClassifier()\n",
        "model_KNN.fit(X_train, y_train)\n",
        "model_KNN.score(X_val,y_val)"
      ],
      "execution_count": null,
      "outputs": [
        {
          "output_type": "execute_result",
          "data": {
            "text/plain": [
              "0.9597924056922801"
            ]
          },
          "metadata": {
            "tags": []
          },
          "execution_count": 102
        }
      ]
    },
    {
      "cell_type": "code",
      "metadata": {
        "colab": {
          "base_uri": "https://localhost:8080/"
        },
        "id": "ByIcEk_IB4F_",
        "outputId": "87fcacf0-6414-4b1c-bee8-54bb498b50ca"
      },
      "source": [
        "from sklearn.metrics import confusion_matrix\n",
        "y_pred=model_KNN.predict(X_val)\n",
        "confusion_matrix=confusion_matrix(y_val,y_pred)\n",
        "print(confusion_matrix)\n",
        "\n",
        "from sklearn.metrics import classification_report\n",
        "classification_report=classification_report(y_val,y_pred)\n",
        "print(classification_report)"
      ],
      "execution_count": null,
      "outputs": [
        {
          "output_type": "stream",
          "text": [
            "[[23659   229   102]\n",
            " [ 1098 22189  1102]\n",
            " [  141   241 23688]]\n",
            "              precision    recall  f1-score   support\n",
            "\n",
            "           1       0.95      0.99      0.97     23990\n",
            "           2       0.98      0.91      0.94     24389\n",
            "           3       0.95      0.98      0.97     24070\n",
            "\n",
            "    accuracy                           0.96     72449\n",
            "   macro avg       0.96      0.96      0.96     72449\n",
            "weighted avg       0.96      0.96      0.96     72449\n",
            "\n"
          ],
          "name": "stdout"
        }
      ]
    },
    {
      "cell_type": "markdown",
      "metadata": {
        "id": "L93rannx3VZs"
      },
      "source": [
        "# Random Forest Classifier"
      ]
    },
    {
      "cell_type": "code",
      "metadata": {
        "colab": {
          "base_uri": "https://localhost:8080/"
        },
        "id": "2kICnfWWe2L3",
        "outputId": "91eac034-3dbf-4679-e40d-9ea3015b6148"
      },
      "source": [
        "model_RF=RandomForestClassifier(n_estimators=120, criterion='entropy', random_state=43)\n",
        "model_RF.fit(X_train, y_train)\n",
        "model_RF.score(X_val,y_val)"
      ],
      "execution_count": null,
      "outputs": [
        {
          "output_type": "execute_result",
          "data": {
            "text/plain": [
              "0.996783944567903"
            ]
          },
          "metadata": {
            "tags": []
          },
          "execution_count": 104
        }
      ]
    },
    {
      "cell_type": "code",
      "metadata": {
        "colab": {
          "base_uri": "https://localhost:8080/"
        },
        "id": "F6UArYQk6vsF",
        "outputId": "9a3eb146-7cbe-4308-eb6a-62ed3a0339b3"
      },
      "source": [
        "from sklearn.metrics import confusion_matrix\n",
        "y_pred=model_RF.predict(X_val)\n",
        "confusion_matrix=confusion_matrix(y_val,y_pred)\n",
        "print(confusion_matrix)\n",
        "\n",
        "from sklearn.metrics import classification_report\n",
        "classification_report=classification_report(y_val,y_pred)\n",
        "print(classification_report)"
      ],
      "execution_count": null,
      "outputs": [
        {
          "output_type": "stream",
          "text": [
            "[[23925    55    10]\n",
            " [   57 24274    58]\n",
            " [   10    43 24017]]\n",
            "              precision    recall  f1-score   support\n",
            "\n",
            "           1       1.00      1.00      1.00     23990\n",
            "           2       1.00      1.00      1.00     24389\n",
            "           3       1.00      1.00      1.00     24070\n",
            "\n",
            "    accuracy                           1.00     72449\n",
            "   macro avg       1.00      1.00      1.00     72449\n",
            "weighted avg       1.00      1.00      1.00     72449\n",
            "\n"
          ],
          "name": "stdout"
        }
      ]
    },
    {
      "cell_type": "code",
      "metadata": {
        "colab": {
          "base_uri": "https://localhost:8080/",
          "height": 428
        },
        "id": "pMYiBC_gmFO7",
        "outputId": "a3837f7d-c0c3-413c-a435-6fe023387c98"
      },
      "source": [
        "X_test"
      ],
      "execution_count": null,
      "outputs": [
        {
          "output_type": "execute_result",
          "data": {
            "text/html": [
              "<div>\n",
              "<style scoped>\n",
              "    .dataframe tbody tr th:only-of-type {\n",
              "        vertical-align: middle;\n",
              "    }\n",
              "\n",
              "    .dataframe tbody tr th {\n",
              "        vertical-align: top;\n",
              "    }\n",
              "\n",
              "    .dataframe thead th {\n",
              "        text-align: right;\n",
              "    }\n",
              "</style>\n",
              "<table border=\"1\" class=\"dataframe\">\n",
              "  <thead>\n",
              "    <tr style=\"text-align: right;\">\n",
              "      <th></th>\n",
              "      <th>number</th>\n",
              "      <th>incident_state</th>\n",
              "      <th>active</th>\n",
              "      <th>reassignment_count</th>\n",
              "      <th>reopen_count</th>\n",
              "      <th>sys_mod_count</th>\n",
              "      <th>made_sla</th>\n",
              "      <th>caller_id</th>\n",
              "      <th>opened_by</th>\n",
              "      <th>opened_at</th>\n",
              "      <th>sys_updated_by</th>\n",
              "      <th>sys_updated_at</th>\n",
              "      <th>contact_type</th>\n",
              "      <th>location</th>\n",
              "      <th>category</th>\n",
              "      <th>subcategory</th>\n",
              "      <th>u_symptom</th>\n",
              "      <th>assignment_group</th>\n",
              "      <th>assigned_to</th>\n",
              "      <th>knowledge</th>\n",
              "      <th>u_priority_confirmation</th>\n",
              "      <th>notify</th>\n",
              "      <th>closed_code</th>\n",
              "      <th>resolved_by</th>\n",
              "      <th>resolved_at</th>\n",
              "      <th>closed_at</th>\n",
              "    </tr>\n",
              "  </thead>\n",
              "  <tbody>\n",
              "    <tr>\n",
              "      <th>150</th>\n",
              "      <td>21</td>\n",
              "      <td>5</td>\n",
              "      <td>0</td>\n",
              "      <td>1</td>\n",
              "      <td>0</td>\n",
              "      <td>8</td>\n",
              "      <td>1</td>\n",
              "      <td>1462</td>\n",
              "      <td>60</td>\n",
              "      <td>1454</td>\n",
              "      <td>762</td>\n",
              "      <td>43607</td>\n",
              "      <td>3</td>\n",
              "      <td>223</td>\n",
              "      <td>13</td>\n",
              "      <td>62</td>\n",
              "      <td>352</td>\n",
              "      <td>14</td>\n",
              "      <td>162</td>\n",
              "      <td>1</td>\n",
              "      <td>0</td>\n",
              "      <td>0</td>\n",
              "      <td>14</td>\n",
              "      <td>179</td>\n",
              "      <td>52</td>\n",
              "      <td>2323</td>\n",
              "    </tr>\n",
              "    <tr>\n",
              "      <th>13534</th>\n",
              "      <td>1938</td>\n",
              "      <td>7</td>\n",
              "      <td>1</td>\n",
              "      <td>2</td>\n",
              "      <td>0</td>\n",
              "      <td>6</td>\n",
              "      <td>1</td>\n",
              "      <td>3839</td>\n",
              "      <td>200</td>\n",
              "      <td>15741</td>\n",
              "      <td>578</td>\n",
              "      <td>12169</td>\n",
              "      <td>3</td>\n",
              "      <td>180</td>\n",
              "      <td>15</td>\n",
              "      <td>74</td>\n",
              "      <td>472</td>\n",
              "      <td>22</td>\n",
              "      <td>88</td>\n",
              "      <td>1</td>\n",
              "      <td>1</td>\n",
              "      <td>0</td>\n",
              "      <td>13</td>\n",
              "      <td>71</td>\n",
              "      <td>2470</td>\n",
              "      <td>1321</td>\n",
              "    </tr>\n",
              "    <tr>\n",
              "      <th>68414</th>\n",
              "      <td>10884</td>\n",
              "      <td>3</td>\n",
              "      <td>1</td>\n",
              "      <td>0</td>\n",
              "      <td>0</td>\n",
              "      <td>4</td>\n",
              "      <td>1</td>\n",
              "      <td>3530</td>\n",
              "      <td>31</td>\n",
              "      <td>15310</td>\n",
              "      <td>12</td>\n",
              "      <td>46749</td>\n",
              "      <td>3</td>\n",
              "      <td>13</td>\n",
              "      <td>24</td>\n",
              "      <td>73</td>\n",
              "      <td>365</td>\n",
              "      <td>63</td>\n",
              "      <td>206</td>\n",
              "      <td>0</td>\n",
              "      <td>0</td>\n",
              "      <td>0</td>\n",
              "      <td>13</td>\n",
              "      <td>179</td>\n",
              "      <td>16322</td>\n",
              "      <td>850</td>\n",
              "    </tr>\n",
              "    <tr>\n",
              "      <th>8080</th>\n",
              "      <td>1182</td>\n",
              "      <td>0</td>\n",
              "      <td>1</td>\n",
              "      <td>1</td>\n",
              "      <td>1</td>\n",
              "      <td>13</td>\n",
              "      <td>0</td>\n",
              "      <td>4336</td>\n",
              "      <td>14</td>\n",
              "      <td>1766</td>\n",
              "      <td>768</td>\n",
              "      <td>32469</td>\n",
              "      <td>3</td>\n",
              "      <td>185</td>\n",
              "      <td>35</td>\n",
              "      <td>47</td>\n",
              "      <td>362</td>\n",
              "      <td>0</td>\n",
              "      <td>42</td>\n",
              "      <td>1</td>\n",
              "      <td>1</td>\n",
              "      <td>0</td>\n",
              "      <td>9</td>\n",
              "      <td>27</td>\n",
              "      <td>11832</td>\n",
              "      <td>1122</td>\n",
              "    </tr>\n",
              "    <tr>\n",
              "      <th>73305</th>\n",
              "      <td>11765</td>\n",
              "      <td>0</td>\n",
              "      <td>1</td>\n",
              "      <td>0</td>\n",
              "      <td>0</td>\n",
              "      <td>7</td>\n",
              "      <td>1</td>\n",
              "      <td>124</td>\n",
              "      <td>184</td>\n",
              "      <td>17937</td>\n",
              "      <td>198</td>\n",
              "      <td>20991</td>\n",
              "      <td>3</td>\n",
              "      <td>43</td>\n",
              "      <td>58</td>\n",
              "      <td>73</td>\n",
              "      <td>365</td>\n",
              "      <td>19</td>\n",
              "      <td>214</td>\n",
              "      <td>0</td>\n",
              "      <td>0</td>\n",
              "      <td>0</td>\n",
              "      <td>13</td>\n",
              "      <td>187</td>\n",
              "      <td>1543</td>\n",
              "      <td>2582</td>\n",
              "    </tr>\n",
              "    <tr>\n",
              "      <th>...</th>\n",
              "      <td>...</td>\n",
              "      <td>...</td>\n",
              "      <td>...</td>\n",
              "      <td>...</td>\n",
              "      <td>...</td>\n",
              "      <td>...</td>\n",
              "      <td>...</td>\n",
              "      <td>...</td>\n",
              "      <td>...</td>\n",
              "      <td>...</td>\n",
              "      <td>...</td>\n",
              "      <td>...</td>\n",
              "      <td>...</td>\n",
              "      <td>...</td>\n",
              "      <td>...</td>\n",
              "      <td>...</td>\n",
              "      <td>...</td>\n",
              "      <td>...</td>\n",
              "      <td>...</td>\n",
              "      <td>...</td>\n",
              "      <td>...</td>\n",
              "      <td>...</td>\n",
              "      <td>...</td>\n",
              "      <td>...</td>\n",
              "      <td>...</td>\n",
              "      <td>...</td>\n",
              "    </tr>\n",
              "    <tr>\n",
              "      <th>82852</th>\n",
              "      <td>13567</td>\n",
              "      <td>3</td>\n",
              "      <td>1</td>\n",
              "      <td>0</td>\n",
              "      <td>0</td>\n",
              "      <td>7</td>\n",
              "      <td>1</td>\n",
              "      <td>3594</td>\n",
              "      <td>31</td>\n",
              "      <td>8190</td>\n",
              "      <td>556</td>\n",
              "      <td>29597</td>\n",
              "      <td>3</td>\n",
              "      <td>104</td>\n",
              "      <td>36</td>\n",
              "      <td>245</td>\n",
              "      <td>243</td>\n",
              "      <td>23</td>\n",
              "      <td>86</td>\n",
              "      <td>0</td>\n",
              "      <td>1</td>\n",
              "      <td>0</td>\n",
              "      <td>13</td>\n",
              "      <td>69</td>\n",
              "      <td>10231</td>\n",
              "      <td>1897</td>\n",
              "    </tr>\n",
              "    <tr>\n",
              "      <th>66219</th>\n",
              "      <td>10488</td>\n",
              "      <td>7</td>\n",
              "      <td>1</td>\n",
              "      <td>0</td>\n",
              "      <td>0</td>\n",
              "      <td>1</td>\n",
              "      <td>1</td>\n",
              "      <td>4429</td>\n",
              "      <td>31</td>\n",
              "      <td>11288</td>\n",
              "      <td>324</td>\n",
              "      <td>42340</td>\n",
              "      <td>3</td>\n",
              "      <td>59</td>\n",
              "      <td>9</td>\n",
              "      <td>73</td>\n",
              "      <td>365</td>\n",
              "      <td>63</td>\n",
              "      <td>32</td>\n",
              "      <td>0</td>\n",
              "      <td>1</td>\n",
              "      <td>0</td>\n",
              "      <td>13</td>\n",
              "      <td>11</td>\n",
              "      <td>11000</td>\n",
              "      <td>123</td>\n",
              "    </tr>\n",
              "    <tr>\n",
              "      <th>981</th>\n",
              "      <td>150</td>\n",
              "      <td>0</td>\n",
              "      <td>1</td>\n",
              "      <td>4</td>\n",
              "      <td>0</td>\n",
              "      <td>13</td>\n",
              "      <td>1</td>\n",
              "      <td>5031</td>\n",
              "      <td>184</td>\n",
              "      <td>1565</td>\n",
              "      <td>225</td>\n",
              "      <td>47288</td>\n",
              "      <td>3</td>\n",
              "      <td>113</td>\n",
              "      <td>15</td>\n",
              "      <td>74</td>\n",
              "      <td>487</td>\n",
              "      <td>16</td>\n",
              "      <td>162</td>\n",
              "      <td>1</td>\n",
              "      <td>0</td>\n",
              "      <td>0</td>\n",
              "      <td>14</td>\n",
              "      <td>147</td>\n",
              "      <td>17118</td>\n",
              "      <td>1316</td>\n",
              "    </tr>\n",
              "    <tr>\n",
              "      <th>75317</th>\n",
              "      <td>12138</td>\n",
              "      <td>5</td>\n",
              "      <td>0</td>\n",
              "      <td>1</td>\n",
              "      <td>0</td>\n",
              "      <td>4</td>\n",
              "      <td>1</td>\n",
              "      <td>4251</td>\n",
              "      <td>31</td>\n",
              "      <td>18748</td>\n",
              "      <td>53</td>\n",
              "      <td>16335</td>\n",
              "      <td>3</td>\n",
              "      <td>218</td>\n",
              "      <td>36</td>\n",
              "      <td>245</td>\n",
              "      <td>218</td>\n",
              "      <td>23</td>\n",
              "      <td>86</td>\n",
              "      <td>0</td>\n",
              "      <td>1</td>\n",
              "      <td>0</td>\n",
              "      <td>0</td>\n",
              "      <td>69</td>\n",
              "      <td>7384</td>\n",
              "      <td>799</td>\n",
              "    </tr>\n",
              "    <tr>\n",
              "      <th>50968</th>\n",
              "      <td>7675</td>\n",
              "      <td>6</td>\n",
              "      <td>1</td>\n",
              "      <td>0</td>\n",
              "      <td>0</td>\n",
              "      <td>0</td>\n",
              "      <td>1</td>\n",
              "      <td>2944</td>\n",
              "      <td>60</td>\n",
              "      <td>5260</td>\n",
              "      <td>468</td>\n",
              "      <td>31610</td>\n",
              "      <td>3</td>\n",
              "      <td>218</td>\n",
              "      <td>22</td>\n",
              "      <td>73</td>\n",
              "      <td>365</td>\n",
              "      <td>77</td>\n",
              "      <td>73</td>\n",
              "      <td>0</td>\n",
              "      <td>0</td>\n",
              "      <td>0</td>\n",
              "      <td>14</td>\n",
              "      <td>52</td>\n",
              "      <td>10900</td>\n",
              "      <td>119</td>\n",
              "    </tr>\n",
              "  </tbody>\n",
              "</table>\n",
              "<p>14172 rows × 26 columns</p>\n",
              "</div>"
            ],
            "text/plain": [
              "       number  incident_state  active  ...  resolved_by  resolved_at  closed_at\n",
              "150        21               5       0  ...          179           52       2323\n",
              "13534    1938               7       1  ...           71         2470       1321\n",
              "68414   10884               3       1  ...          179        16322        850\n",
              "8080     1182               0       1  ...           27        11832       1122\n",
              "73305   11765               0       1  ...          187         1543       2582\n",
              "...       ...             ...     ...  ...          ...          ...        ...\n",
              "82852   13567               3       1  ...           69        10231       1897\n",
              "66219   10488               7       1  ...           11        11000        123\n",
              "981       150               0       1  ...          147        17118       1316\n",
              "75317   12138               5       0  ...           69         7384        799\n",
              "50968    7675               6       1  ...           52        10900        119\n",
              "\n",
              "[14172 rows x 26 columns]"
            ]
          },
          "metadata": {
            "tags": []
          },
          "execution_count": 106
        }
      ]
    },
    {
      "cell_type": "code",
      "metadata": {
        "colab": {
          "base_uri": "https://localhost:8080/",
          "height": 408
        },
        "id": "4UpAvwfVl5fj",
        "outputId": "38928ae2-c766-4eac-dccd-d339698425cb"
      },
      "source": [
        "X_test = X_test[selected_features]\n",
        "X_test"
      ],
      "execution_count": null,
      "outputs": [
        {
          "output_type": "execute_result",
          "data": {
            "text/html": [
              "<div>\n",
              "<style scoped>\n",
              "    .dataframe tbody tr th:only-of-type {\n",
              "        vertical-align: middle;\n",
              "    }\n",
              "\n",
              "    .dataframe tbody tr th {\n",
              "        vertical-align: top;\n",
              "    }\n",
              "\n",
              "    .dataframe thead th {\n",
              "        text-align: right;\n",
              "    }\n",
              "</style>\n",
              "<table border=\"1\" class=\"dataframe\">\n",
              "  <thead>\n",
              "    <tr style=\"text-align: right;\">\n",
              "      <th></th>\n",
              "      <th>number</th>\n",
              "      <th>resolved_by</th>\n",
              "      <th>assigned_to</th>\n",
              "      <th>assignment_group</th>\n",
              "      <th>u_symptom</th>\n",
              "      <th>subcategory</th>\n",
              "      <th>category</th>\n",
              "      <th>location</th>\n",
              "      <th>resolved_at</th>\n",
              "      <th>sys_updated_by</th>\n",
              "      <th>closed_at</th>\n",
              "      <th>opened_by</th>\n",
              "      <th>sys_mod_count</th>\n",
              "    </tr>\n",
              "  </thead>\n",
              "  <tbody>\n",
              "    <tr>\n",
              "      <th>150</th>\n",
              "      <td>21</td>\n",
              "      <td>179</td>\n",
              "      <td>162</td>\n",
              "      <td>14</td>\n",
              "      <td>352</td>\n",
              "      <td>62</td>\n",
              "      <td>13</td>\n",
              "      <td>223</td>\n",
              "      <td>52</td>\n",
              "      <td>762</td>\n",
              "      <td>2323</td>\n",
              "      <td>60</td>\n",
              "      <td>8</td>\n",
              "    </tr>\n",
              "    <tr>\n",
              "      <th>13534</th>\n",
              "      <td>1938</td>\n",
              "      <td>71</td>\n",
              "      <td>88</td>\n",
              "      <td>22</td>\n",
              "      <td>472</td>\n",
              "      <td>74</td>\n",
              "      <td>15</td>\n",
              "      <td>180</td>\n",
              "      <td>2470</td>\n",
              "      <td>578</td>\n",
              "      <td>1321</td>\n",
              "      <td>200</td>\n",
              "      <td>6</td>\n",
              "    </tr>\n",
              "    <tr>\n",
              "      <th>68414</th>\n",
              "      <td>10884</td>\n",
              "      <td>179</td>\n",
              "      <td>206</td>\n",
              "      <td>63</td>\n",
              "      <td>365</td>\n",
              "      <td>73</td>\n",
              "      <td>24</td>\n",
              "      <td>13</td>\n",
              "      <td>16322</td>\n",
              "      <td>12</td>\n",
              "      <td>850</td>\n",
              "      <td>31</td>\n",
              "      <td>4</td>\n",
              "    </tr>\n",
              "    <tr>\n",
              "      <th>8080</th>\n",
              "      <td>1182</td>\n",
              "      <td>27</td>\n",
              "      <td>42</td>\n",
              "      <td>0</td>\n",
              "      <td>362</td>\n",
              "      <td>47</td>\n",
              "      <td>35</td>\n",
              "      <td>185</td>\n",
              "      <td>11832</td>\n",
              "      <td>768</td>\n",
              "      <td>1122</td>\n",
              "      <td>14</td>\n",
              "      <td>13</td>\n",
              "    </tr>\n",
              "    <tr>\n",
              "      <th>73305</th>\n",
              "      <td>11765</td>\n",
              "      <td>187</td>\n",
              "      <td>214</td>\n",
              "      <td>19</td>\n",
              "      <td>365</td>\n",
              "      <td>73</td>\n",
              "      <td>58</td>\n",
              "      <td>43</td>\n",
              "      <td>1543</td>\n",
              "      <td>198</td>\n",
              "      <td>2582</td>\n",
              "      <td>184</td>\n",
              "      <td>7</td>\n",
              "    </tr>\n",
              "    <tr>\n",
              "      <th>...</th>\n",
              "      <td>...</td>\n",
              "      <td>...</td>\n",
              "      <td>...</td>\n",
              "      <td>...</td>\n",
              "      <td>...</td>\n",
              "      <td>...</td>\n",
              "      <td>...</td>\n",
              "      <td>...</td>\n",
              "      <td>...</td>\n",
              "      <td>...</td>\n",
              "      <td>...</td>\n",
              "      <td>...</td>\n",
              "      <td>...</td>\n",
              "    </tr>\n",
              "    <tr>\n",
              "      <th>82852</th>\n",
              "      <td>13567</td>\n",
              "      <td>69</td>\n",
              "      <td>86</td>\n",
              "      <td>23</td>\n",
              "      <td>243</td>\n",
              "      <td>245</td>\n",
              "      <td>36</td>\n",
              "      <td>104</td>\n",
              "      <td>10231</td>\n",
              "      <td>556</td>\n",
              "      <td>1897</td>\n",
              "      <td>31</td>\n",
              "      <td>7</td>\n",
              "    </tr>\n",
              "    <tr>\n",
              "      <th>66219</th>\n",
              "      <td>10488</td>\n",
              "      <td>11</td>\n",
              "      <td>32</td>\n",
              "      <td>63</td>\n",
              "      <td>365</td>\n",
              "      <td>73</td>\n",
              "      <td>9</td>\n",
              "      <td>59</td>\n",
              "      <td>11000</td>\n",
              "      <td>324</td>\n",
              "      <td>123</td>\n",
              "      <td>31</td>\n",
              "      <td>1</td>\n",
              "    </tr>\n",
              "    <tr>\n",
              "      <th>981</th>\n",
              "      <td>150</td>\n",
              "      <td>147</td>\n",
              "      <td>162</td>\n",
              "      <td>16</td>\n",
              "      <td>487</td>\n",
              "      <td>74</td>\n",
              "      <td>15</td>\n",
              "      <td>113</td>\n",
              "      <td>17118</td>\n",
              "      <td>225</td>\n",
              "      <td>1316</td>\n",
              "      <td>184</td>\n",
              "      <td>13</td>\n",
              "    </tr>\n",
              "    <tr>\n",
              "      <th>75317</th>\n",
              "      <td>12138</td>\n",
              "      <td>69</td>\n",
              "      <td>86</td>\n",
              "      <td>23</td>\n",
              "      <td>218</td>\n",
              "      <td>245</td>\n",
              "      <td>36</td>\n",
              "      <td>218</td>\n",
              "      <td>7384</td>\n",
              "      <td>53</td>\n",
              "      <td>799</td>\n",
              "      <td>31</td>\n",
              "      <td>4</td>\n",
              "    </tr>\n",
              "    <tr>\n",
              "      <th>50968</th>\n",
              "      <td>7675</td>\n",
              "      <td>52</td>\n",
              "      <td>73</td>\n",
              "      <td>77</td>\n",
              "      <td>365</td>\n",
              "      <td>73</td>\n",
              "      <td>22</td>\n",
              "      <td>218</td>\n",
              "      <td>10900</td>\n",
              "      <td>468</td>\n",
              "      <td>119</td>\n",
              "      <td>60</td>\n",
              "      <td>0</td>\n",
              "    </tr>\n",
              "  </tbody>\n",
              "</table>\n",
              "<p>14172 rows × 13 columns</p>\n",
              "</div>"
            ],
            "text/plain": [
              "       number  resolved_by  assigned_to  ...  closed_at  opened_by  sys_mod_count\n",
              "150        21          179          162  ...       2323         60              8\n",
              "13534    1938           71           88  ...       1321        200              6\n",
              "68414   10884          179          206  ...        850         31              4\n",
              "8080     1182           27           42  ...       1122         14             13\n",
              "73305   11765          187          214  ...       2582        184              7\n",
              "...       ...          ...          ...  ...        ...        ...            ...\n",
              "82852   13567           69           86  ...       1897         31              7\n",
              "66219   10488           11           32  ...        123         31              1\n",
              "981       150          147          162  ...       1316        184             13\n",
              "75317   12138           69           86  ...        799         31              4\n",
              "50968    7675           52           73  ...        119         60              0\n",
              "\n",
              "[14172 rows x 13 columns]"
            ]
          },
          "metadata": {
            "tags": []
          },
          "execution_count": 107
        }
      ]
    },
    {
      "cell_type": "code",
      "metadata": {
        "colab": {
          "base_uri": "https://localhost:8080/"
        },
        "id": "QjhX5FpNWPtQ",
        "outputId": "48ee7ea8-4620-4b08-bf69-312d54c06855"
      },
      "source": [
        "model = DecisionTreeClassifier()\n",
        "model.fit(X_train, y_train)\n",
        "model.score(X_test,y_test)"
      ],
      "execution_count": null,
      "outputs": [
        {
          "output_type": "execute_result",
          "data": {
            "text/plain": [
              "0.9706463449054473"
            ]
          },
          "metadata": {
            "tags": []
          },
          "execution_count": 114
        }
      ]
    },
    {
      "cell_type": "code",
      "metadata": {
        "colab": {
          "base_uri": "https://localhost:8080/"
        },
        "id": "WN4vMU62cDfn",
        "outputId": "29427a72-1dda-49b1-a6b8-606dc952751c"
      },
      "source": [
        "model_RF = RandomForestClassifier()\n",
        "model_RF.fit(X_train, y_train)\n",
        "model_RF.score(X_test,y_test)"
      ],
      "execution_count": null,
      "outputs": [
        {
          "output_type": "execute_result",
          "data": {
            "text/plain": [
              "0.9887101326559413"
            ]
          },
          "metadata": {
            "tags": []
          },
          "execution_count": 108
        }
      ]
    },
    {
      "cell_type": "markdown",
      "metadata": {
        "id": "TevjuGLhWdlZ"
      },
      "source": [
        "##Adding pickle for our Deployment Process"
      ]
    },
    {
      "cell_type": "code",
      "metadata": {
        "id": "craltOjgqhEM"
      },
      "source": [
        "import pickle as p\n",
        "p_out  = open(\"model.pkl\", \"wb\")\n",
        "p.dump(model_RF, p_out)\n",
        "p_out.close()"
      ],
      "execution_count": null,
      "outputs": []
    },
    {
      "cell_type": "code",
      "metadata": {
        "id": "Dz5D9IVWmw1k"
      },
      "source": [
        "df4 = df[df.impact == 1]"
      ],
      "execution_count": null,
      "outputs": []
    },
    {
      "cell_type": "code",
      "metadata": {
        "colab": {
          "base_uri": "https://localhost:8080/",
          "height": 408
        },
        "id": "fTEFrfZc5bx5",
        "outputId": "f19739bb-5316-4279-c20e-f9a723cfa396"
      },
      "source": [
        "df4[selected_features]"
      ],
      "execution_count": null,
      "outputs": [
        {
          "output_type": "execute_result",
          "data": {
            "text/html": [
              "<div>\n",
              "<style scoped>\n",
              "    .dataframe tbody tr th:only-of-type {\n",
              "        vertical-align: middle;\n",
              "    }\n",
              "\n",
              "    .dataframe tbody tr th {\n",
              "        vertical-align: top;\n",
              "    }\n",
              "\n",
              "    .dataframe thead th {\n",
              "        text-align: right;\n",
              "    }\n",
              "</style>\n",
              "<table border=\"1\" class=\"dataframe\">\n",
              "  <thead>\n",
              "    <tr style=\"text-align: right;\">\n",
              "      <th></th>\n",
              "      <th>number</th>\n",
              "      <th>resolved_by</th>\n",
              "      <th>assigned_to</th>\n",
              "      <th>assignment_group</th>\n",
              "      <th>u_symptom</th>\n",
              "      <th>subcategory</th>\n",
              "      <th>category</th>\n",
              "      <th>location</th>\n",
              "      <th>resolved_at</th>\n",
              "      <th>sys_updated_by</th>\n",
              "      <th>closed_at</th>\n",
              "      <th>opened_by</th>\n",
              "      <th>sys_mod_count</th>\n",
              "    </tr>\n",
              "  </thead>\n",
              "  <tbody>\n",
              "    <tr>\n",
              "      <th>25</th>\n",
              "      <td>4</td>\n",
              "      <td>179</td>\n",
              "      <td>162</td>\n",
              "      <td>63</td>\n",
              "      <td>121</td>\n",
              "      <td>66</td>\n",
              "      <td>44</td>\n",
              "      <td>218</td>\n",
              "      <td>1270</td>\n",
              "      <td>228</td>\n",
              "      <td>2213</td>\n",
              "      <td>34</td>\n",
              "      <td>1</td>\n",
              "    </tr>\n",
              "    <tr>\n",
              "      <th>26</th>\n",
              "      <td>4</td>\n",
              "      <td>179</td>\n",
              "      <td>162</td>\n",
              "      <td>14</td>\n",
              "      <td>121</td>\n",
              "      <td>66</td>\n",
              "      <td>44</td>\n",
              "      <td>218</td>\n",
              "      <td>1270</td>\n",
              "      <td>228</td>\n",
              "      <td>2213</td>\n",
              "      <td>34</td>\n",
              "      <td>2</td>\n",
              "    </tr>\n",
              "    <tr>\n",
              "      <th>27</th>\n",
              "      <td>4</td>\n",
              "      <td>179</td>\n",
              "      <td>162</td>\n",
              "      <td>14</td>\n",
              "      <td>121</td>\n",
              "      <td>66</td>\n",
              "      <td>44</td>\n",
              "      <td>218</td>\n",
              "      <td>1270</td>\n",
              "      <td>658</td>\n",
              "      <td>2213</td>\n",
              "      <td>34</td>\n",
              "      <td>3</td>\n",
              "    </tr>\n",
              "    <tr>\n",
              "      <th>28</th>\n",
              "      <td>4</td>\n",
              "      <td>179</td>\n",
              "      <td>162</td>\n",
              "      <td>14</td>\n",
              "      <td>121</td>\n",
              "      <td>66</td>\n",
              "      <td>44</td>\n",
              "      <td>218</td>\n",
              "      <td>1270</td>\n",
              "      <td>658</td>\n",
              "      <td>2213</td>\n",
              "      <td>34</td>\n",
              "      <td>4</td>\n",
              "    </tr>\n",
              "    <tr>\n",
              "      <th>29</th>\n",
              "      <td>4</td>\n",
              "      <td>179</td>\n",
              "      <td>162</td>\n",
              "      <td>14</td>\n",
              "      <td>121</td>\n",
              "      <td>66</td>\n",
              "      <td>44</td>\n",
              "      <td>218</td>\n",
              "      <td>1270</td>\n",
              "      <td>134</td>\n",
              "      <td>2213</td>\n",
              "      <td>34</td>\n",
              "      <td>5</td>\n",
              "    </tr>\n",
              "    <tr>\n",
              "      <th>...</th>\n",
              "      <td>...</td>\n",
              "      <td>...</td>\n",
              "      <td>...</td>\n",
              "      <td>...</td>\n",
              "      <td>...</td>\n",
              "      <td>...</td>\n",
              "      <td>...</td>\n",
              "      <td>...</td>\n",
              "      <td>...</td>\n",
              "      <td>...</td>\n",
              "      <td>...</td>\n",
              "      <td>...</td>\n",
              "      <td>...</td>\n",
              "    </tr>\n",
              "    <tr>\n",
              "      <th>141636</th>\n",
              "      <td>24895</td>\n",
              "      <td>165</td>\n",
              "      <td>162</td>\n",
              "      <td>13</td>\n",
              "      <td>41</td>\n",
              "      <td>151</td>\n",
              "      <td>35</td>\n",
              "      <td>169</td>\n",
              "      <td>19990</td>\n",
              "      <td>355</td>\n",
              "      <td>510</td>\n",
              "      <td>52</td>\n",
              "      <td>4</td>\n",
              "    </tr>\n",
              "    <tr>\n",
              "      <th>141637</th>\n",
              "      <td>24895</td>\n",
              "      <td>165</td>\n",
              "      <td>162</td>\n",
              "      <td>13</td>\n",
              "      <td>41</td>\n",
              "      <td>151</td>\n",
              "      <td>35</td>\n",
              "      <td>169</td>\n",
              "      <td>19990</td>\n",
              "      <td>314</td>\n",
              "      <td>510</td>\n",
              "      <td>52</td>\n",
              "      <td>5</td>\n",
              "    </tr>\n",
              "    <tr>\n",
              "      <th>141638</th>\n",
              "      <td>24895</td>\n",
              "      <td>165</td>\n",
              "      <td>191</td>\n",
              "      <td>13</td>\n",
              "      <td>41</td>\n",
              "      <td>151</td>\n",
              "      <td>35</td>\n",
              "      <td>169</td>\n",
              "      <td>19990</td>\n",
              "      <td>89</td>\n",
              "      <td>510</td>\n",
              "      <td>52</td>\n",
              "      <td>6</td>\n",
              "    </tr>\n",
              "    <tr>\n",
              "      <th>141639</th>\n",
              "      <td>24895</td>\n",
              "      <td>165</td>\n",
              "      <td>191</td>\n",
              "      <td>13</td>\n",
              "      <td>41</td>\n",
              "      <td>151</td>\n",
              "      <td>35</td>\n",
              "      <td>169</td>\n",
              "      <td>19990</td>\n",
              "      <td>89</td>\n",
              "      <td>510</td>\n",
              "      <td>52</td>\n",
              "      <td>7</td>\n",
              "    </tr>\n",
              "    <tr>\n",
              "      <th>141640</th>\n",
              "      <td>24895</td>\n",
              "      <td>165</td>\n",
              "      <td>191</td>\n",
              "      <td>13</td>\n",
              "      <td>41</td>\n",
              "      <td>151</td>\n",
              "      <td>35</td>\n",
              "      <td>169</td>\n",
              "      <td>19990</td>\n",
              "      <td>762</td>\n",
              "      <td>510</td>\n",
              "      <td>52</td>\n",
              "      <td>8</td>\n",
              "    </tr>\n",
              "  </tbody>\n",
              "</table>\n",
              "<p>3491 rows × 13 columns</p>\n",
              "</div>"
            ],
            "text/plain": [
              "        number  resolved_by  assigned_to  ...  closed_at  opened_by  sys_mod_count\n",
              "25           4          179          162  ...       2213         34              1\n",
              "26           4          179          162  ...       2213         34              2\n",
              "27           4          179          162  ...       2213         34              3\n",
              "28           4          179          162  ...       2213         34              4\n",
              "29           4          179          162  ...       2213         34              5\n",
              "...        ...          ...          ...  ...        ...        ...            ...\n",
              "141636   24895          165          162  ...        510         52              4\n",
              "141637   24895          165          162  ...        510         52              5\n",
              "141638   24895          165          191  ...        510         52              6\n",
              "141639   24895          165          191  ...        510         52              7\n",
              "141640   24895          165          191  ...        510         52              8\n",
              "\n",
              "[3491 rows x 13 columns]"
            ]
          },
          "metadata": {
            "tags": []
          },
          "execution_count": 111
        }
      ]
    },
    {
      "cell_type": "code",
      "metadata": {
        "id": "fu79pg2_qgPy"
      },
      "source": [
        "df5 = df[df.impact == 3]"
      ],
      "execution_count": null,
      "outputs": []
    },
    {
      "cell_type": "code",
      "metadata": {
        "colab": {
          "base_uri": "https://localhost:8080/",
          "height": 408
        },
        "id": "OaZKPzJsqbJi",
        "outputId": "2c224d7e-c404-4ff1-cbad-0ef7f666b810"
      },
      "source": [
        "df5[selected_features]"
      ],
      "execution_count": null,
      "outputs": [
        {
          "output_type": "execute_result",
          "data": {
            "text/html": [
              "<div>\n",
              "<style scoped>\n",
              "    .dataframe tbody tr th:only-of-type {\n",
              "        vertical-align: middle;\n",
              "    }\n",
              "\n",
              "    .dataframe tbody tr th {\n",
              "        vertical-align: top;\n",
              "    }\n",
              "\n",
              "    .dataframe thead th {\n",
              "        text-align: right;\n",
              "    }\n",
              "</style>\n",
              "<table border=\"1\" class=\"dataframe\">\n",
              "  <thead>\n",
              "    <tr style=\"text-align: right;\">\n",
              "      <th></th>\n",
              "      <th>number</th>\n",
              "      <th>resolved_by</th>\n",
              "      <th>assigned_to</th>\n",
              "      <th>assignment_group</th>\n",
              "      <th>u_symptom</th>\n",
              "      <th>subcategory</th>\n",
              "      <th>category</th>\n",
              "      <th>location</th>\n",
              "      <th>resolved_at</th>\n",
              "      <th>sys_updated_by</th>\n",
              "      <th>closed_at</th>\n",
              "      <th>opened_by</th>\n",
              "      <th>sys_mod_count</th>\n",
              "    </tr>\n",
              "  </thead>\n",
              "  <tbody>\n",
              "    <tr>\n",
              "      <th>127</th>\n",
              "      <td>18</td>\n",
              "      <td>179</td>\n",
              "      <td>162</td>\n",
              "      <td>63</td>\n",
              "      <td>461</td>\n",
              "      <td>62</td>\n",
              "      <td>13</td>\n",
              "      <td>218</td>\n",
              "      <td>1272</td>\n",
              "      <td>155</td>\n",
              "      <td>2214</td>\n",
              "      <td>14</td>\n",
              "      <td>0</td>\n",
              "    </tr>\n",
              "    <tr>\n",
              "      <th>128</th>\n",
              "      <td>18</td>\n",
              "      <td>179</td>\n",
              "      <td>162</td>\n",
              "      <td>14</td>\n",
              "      <td>461</td>\n",
              "      <td>62</td>\n",
              "      <td>13</td>\n",
              "      <td>218</td>\n",
              "      <td>1272</td>\n",
              "      <td>609</td>\n",
              "      <td>2214</td>\n",
              "      <td>14</td>\n",
              "      <td>1</td>\n",
              "    </tr>\n",
              "    <tr>\n",
              "      <th>129</th>\n",
              "      <td>18</td>\n",
              "      <td>179</td>\n",
              "      <td>162</td>\n",
              "      <td>14</td>\n",
              "      <td>461</td>\n",
              "      <td>62</td>\n",
              "      <td>13</td>\n",
              "      <td>218</td>\n",
              "      <td>1272</td>\n",
              "      <td>335</td>\n",
              "      <td>2214</td>\n",
              "      <td>14</td>\n",
              "      <td>2</td>\n",
              "    </tr>\n",
              "    <tr>\n",
              "      <th>130</th>\n",
              "      <td>18</td>\n",
              "      <td>179</td>\n",
              "      <td>162</td>\n",
              "      <td>14</td>\n",
              "      <td>461</td>\n",
              "      <td>62</td>\n",
              "      <td>13</td>\n",
              "      <td>218</td>\n",
              "      <td>1272</td>\n",
              "      <td>134</td>\n",
              "      <td>2214</td>\n",
              "      <td>14</td>\n",
              "      <td>3</td>\n",
              "    </tr>\n",
              "    <tr>\n",
              "      <th>131</th>\n",
              "      <td>18</td>\n",
              "      <td>179</td>\n",
              "      <td>162</td>\n",
              "      <td>14</td>\n",
              "      <td>461</td>\n",
              "      <td>62</td>\n",
              "      <td>13</td>\n",
              "      <td>218</td>\n",
              "      <td>1272</td>\n",
              "      <td>762</td>\n",
              "      <td>2214</td>\n",
              "      <td>14</td>\n",
              "      <td>4</td>\n",
              "    </tr>\n",
              "    <tr>\n",
              "      <th>...</th>\n",
              "      <td>...</td>\n",
              "      <td>...</td>\n",
              "      <td>...</td>\n",
              "      <td>...</td>\n",
              "      <td>...</td>\n",
              "      <td>...</td>\n",
              "      <td>...</td>\n",
              "      <td>...</td>\n",
              "      <td>...</td>\n",
              "      <td>...</td>\n",
              "      <td>...</td>\n",
              "      <td>...</td>\n",
              "      <td>...</td>\n",
              "    </tr>\n",
              "    <tr>\n",
              "      <th>141690</th>\n",
              "      <td>24911</td>\n",
              "      <td>216</td>\n",
              "      <td>162</td>\n",
              "      <td>63</td>\n",
              "      <td>410</td>\n",
              "      <td>0</td>\n",
              "      <td>41</td>\n",
              "      <td>148</td>\n",
              "      <td>19926</td>\n",
              "      <td>786</td>\n",
              "      <td>440</td>\n",
              "      <td>169</td>\n",
              "      <td>1</td>\n",
              "    </tr>\n",
              "    <tr>\n",
              "      <th>141691</th>\n",
              "      <td>24912</td>\n",
              "      <td>216</td>\n",
              "      <td>162</td>\n",
              "      <td>63</td>\n",
              "      <td>410</td>\n",
              "      <td>0</td>\n",
              "      <td>41</td>\n",
              "      <td>148</td>\n",
              "      <td>19927</td>\n",
              "      <td>762</td>\n",
              "      <td>507</td>\n",
              "      <td>169</td>\n",
              "      <td>0</td>\n",
              "    </tr>\n",
              "    <tr>\n",
              "      <th>141692</th>\n",
              "      <td>24912</td>\n",
              "      <td>216</td>\n",
              "      <td>162</td>\n",
              "      <td>63</td>\n",
              "      <td>410</td>\n",
              "      <td>0</td>\n",
              "      <td>41</td>\n",
              "      <td>148</td>\n",
              "      <td>19927</td>\n",
              "      <td>786</td>\n",
              "      <td>507</td>\n",
              "      <td>169</td>\n",
              "      <td>1</td>\n",
              "    </tr>\n",
              "    <tr>\n",
              "      <th>141696</th>\n",
              "      <td>24914</td>\n",
              "      <td>216</td>\n",
              "      <td>162</td>\n",
              "      <td>63</td>\n",
              "      <td>410</td>\n",
              "      <td>0</td>\n",
              "      <td>41</td>\n",
              "      <td>148</td>\n",
              "      <td>19928</td>\n",
              "      <td>762</td>\n",
              "      <td>509</td>\n",
              "      <td>169</td>\n",
              "      <td>0</td>\n",
              "    </tr>\n",
              "    <tr>\n",
              "      <th>141697</th>\n",
              "      <td>24914</td>\n",
              "      <td>216</td>\n",
              "      <td>162</td>\n",
              "      <td>63</td>\n",
              "      <td>410</td>\n",
              "      <td>0</td>\n",
              "      <td>41</td>\n",
              "      <td>148</td>\n",
              "      <td>19928</td>\n",
              "      <td>786</td>\n",
              "      <td>509</td>\n",
              "      <td>169</td>\n",
              "      <td>1</td>\n",
              "    </tr>\n",
              "  </tbody>\n",
              "</table>\n",
              "<p>3886 rows × 13 columns</p>\n",
              "</div>"
            ],
            "text/plain": [
              "        number  resolved_by  assigned_to  ...  closed_at  opened_by  sys_mod_count\n",
              "127         18          179          162  ...       2214         14              0\n",
              "128         18          179          162  ...       2214         14              1\n",
              "129         18          179          162  ...       2214         14              2\n",
              "130         18          179          162  ...       2214         14              3\n",
              "131         18          179          162  ...       2214         14              4\n",
              "...        ...          ...          ...  ...        ...        ...            ...\n",
              "141690   24911          216          162  ...        440        169              1\n",
              "141691   24912          216          162  ...        507        169              0\n",
              "141692   24912          216          162  ...        507        169              1\n",
              "141696   24914          216          162  ...        509        169              0\n",
              "141697   24914          216          162  ...        509        169              1\n",
              "\n",
              "[3886 rows x 13 columns]"
            ]
          },
          "metadata": {
            "tags": []
          },
          "execution_count": 113
        }
      ]
    },
    {
      "cell_type": "code",
      "metadata": {
        "id": "5U4ssEujLjqM"
      },
      "source": [
        ""
      ],
      "execution_count": null,
      "outputs": []
    }
  ]
}